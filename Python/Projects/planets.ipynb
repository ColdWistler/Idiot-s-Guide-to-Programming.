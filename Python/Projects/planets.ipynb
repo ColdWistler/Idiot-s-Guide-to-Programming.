{
 "cells": [
  {
   "cell_type": "code",
   "execution_count": 2,
   "id": "70907763-1406-4384-8f7b-65cd594ba105",
   "metadata": {},
   "outputs": [
    {
     "name": "stdout",
     "output_type": "stream",
     "text": [
      "Requirement already satisfied: numpy in /home/soggygenus/miniconda3/envs/tensorflow-gpu/lib/python3.12/site-packages (1.26.4)\n",
      "Requirement already satisfied: matplotlib in /home/soggygenus/miniconda3/envs/tensorflow-gpu/lib/python3.12/site-packages (3.10.3)\n",
      "Requirement already satisfied: scipy in /home/soggygenus/miniconda3/envs/tensorflow-gpu/lib/python3.12/site-packages (1.15.3)\n",
      "Requirement already satisfied: pandas in /home/soggygenus/miniconda3/envs/tensorflow-gpu/lib/python3.12/site-packages (2.2.3)\n",
      "Requirement already satisfied: plotly in /home/soggygenus/miniconda3/envs/tensorflow-gpu/lib/python3.12/site-packages (6.1.2)\n",
      "Requirement already satisfied: seaborn in /home/soggygenus/miniconda3/envs/tensorflow-gpu/lib/python3.12/site-packages (0.13.2)\n",
      "Requirement already satisfied: contourpy>=1.0.1 in /home/soggygenus/miniconda3/envs/tensorflow-gpu/lib/python3.12/site-packages (from matplotlib) (1.3.2)\n",
      "Requirement already satisfied: cycler>=0.10 in /home/soggygenus/miniconda3/envs/tensorflow-gpu/lib/python3.12/site-packages (from matplotlib) (0.12.1)\n",
      "Requirement already satisfied: fonttools>=4.22.0 in /home/soggygenus/miniconda3/envs/tensorflow-gpu/lib/python3.12/site-packages (from matplotlib) (4.58.0)\n",
      "Requirement already satisfied: kiwisolver>=1.3.1 in /home/soggygenus/miniconda3/envs/tensorflow-gpu/lib/python3.12/site-packages (from matplotlib) (1.4.8)\n",
      "Requirement already satisfied: packaging>=20.0 in /home/soggygenus/miniconda3/envs/tensorflow-gpu/lib/python3.12/site-packages (from matplotlib) (24.2)\n",
      "Requirement already satisfied: pillow>=8 in /home/soggygenus/miniconda3/envs/tensorflow-gpu/lib/python3.12/site-packages (from matplotlib) (11.2.1)\n",
      "Requirement already satisfied: pyparsing>=2.3.1 in /home/soggygenus/miniconda3/envs/tensorflow-gpu/lib/python3.12/site-packages (from matplotlib) (3.2.3)\n",
      "Requirement already satisfied: python-dateutil>=2.7 in /home/soggygenus/miniconda3/envs/tensorflow-gpu/lib/python3.12/site-packages (from matplotlib) (2.9.0.post0)\n",
      "Requirement already satisfied: pytz>=2020.1 in /home/soggygenus/miniconda3/envs/tensorflow-gpu/lib/python3.12/site-packages (from pandas) (2025.2)\n",
      "Requirement already satisfied: tzdata>=2022.7 in /home/soggygenus/miniconda3/envs/tensorflow-gpu/lib/python3.12/site-packages (from pandas) (2025.2)\n",
      "Requirement already satisfied: narwhals>=1.15.1 in /home/soggygenus/miniconda3/envs/tensorflow-gpu/lib/python3.12/site-packages (from plotly) (1.41.0)\n",
      "Requirement already satisfied: six>=1.5 in /home/soggygenus/miniconda3/envs/tensorflow-gpu/lib/python3.12/site-packages (from python-dateutil>=2.7->matplotlib) (1.17.0)\n"
     ]
    }
   ],
   "source": [
    "!pip install numpy matplotlib scipy pandas plotly seaborn"
   ]
  },
  {
   "cell_type": "code",
   "execution_count": 3,
   "id": "36c4b22a-45b2-4f67-ad70-ed33ed8d4c5c",
   "metadata": {},
   "outputs": [
    {
     "data": {
      "image/png": "[encoded data removed]",
      "text/plain": [
       "<Figure size 640x480 with 1 Axes>"
      ]
     },
     "metadata": {},
     "output_type": "display_data"
    }
   ],
   "source": [
    "import matplotlib.pyplot as plt\n",
    "import numpy as np\n",
    "data = np.random.normal(loc=50, scale=15, size=500)\n",
    "plt.hist(data, bins=10, color='skyblue', edgecolor='black')\n",
    "plt.title('Histogram of Normally Distributed Data')\n",
    "plt.xlabel('Value')\n",
    "plt.ylabel('Frequency')\n",
    "plt.grid(True)\n",
    "plt.show()"
   ]
  },
  {
   "cell_type": "code",
   "execution_count": 4,
   "id": "b5cf27a1-b75c-47ca-b762-6c791e452347",
   "metadata": {},
   "outputs": [
    {
     "name": "stdout",
     "output_type": "stream",
     "text": [
      "Skewness: 0.16\n"
     ]
    }
   ],
   "source": [
    "from scipy.stats import skew\n",
    "skew_value = skew(data)\n",
    "print(f\"Skewness: {skew_value:.2f}\")"
   ]
  },
  {
   "cell_type": "code",
   "execution_count": 5,
   "id": "e38ce2aa-cbb3-4c4e-9ca5-a9c7d905c747",
   "metadata": {},
   "outputs": [
    {
     "name": "stdout",
     "output_type": "stream",
     "text": [
      "         X        Y\n",
      "X  1.00000 -0.08039\n",
      "Y -0.08039  1.00000\n"
     ]
    }
   ],
   "source": [
    "import pandas as pd\n",
    "import numpy as np\n",
    "df = pd.DataFrame({\n",
    "'X': np.random.randint(20, 100, 100),\n",
    "'Y': np.random.randint(30, 120, 100)\n",
    "})\n",
    "correlation = df.corr()\n",
    "print(correlation)"
   ]
  },
  {
   "cell_type": "code",
   "execution_count": 2,
   "id": "fede678a-5e2c-4357-bb17-fb0a41af6bb7",
   "metadata": {},
   "outputs": [],
   "source": [
    "import pandas as pd #data analysis and manipulation.\n",
    "import numpy as np # maths equation \n",
    "import plotly.graph_objects as go \n",
    "import plotly.express as px\n",
    "import plotly.offline as py\n",
    "from scipy.stats import norm , skew\n",
    "import seaborn as sns #matplotlib and pandas"
   ]
  },
  {
   "cell_type": "code",
   "execution_count": 3,
   "id": "4501e37b-d87d-46b6-bb24-ad18f6584ea6",
   "metadata": {},
   "outputs": [
    {
     "data": {
      "text/html": [
       "<div>\n",
       "<style scoped>\n",
       "    .dataframe tbody tr th:only-of-type {\n",
       "        vertical-align: middle;\n",
       "    }\n",
       "\n",
       "    .dataframe tbody tr th {\n",
       "        vertical-align: top;\n",
       "    }\n",
       "\n",
       "    .dataframe thead th {\n",
       "        text-align: right;\n",
       "    }\n",
       "</style>\n",
       "<table border=\"1\" class=\"dataframe\">\n",
       "  <thead>\n",
       "    <tr style=\"text-align: right;\">\n",
       "      <th></th>\n",
       "      <th>method</th>\n",
       "      <th>number</th>\n",
       "      <th>orbital_period</th>\n",
       "      <th>mass</th>\n",
       "      <th>distance</th>\n",
       "      <th>year</th>\n",
       "    </tr>\n",
       "  </thead>\n",
       "  <tbody>\n",
       "    <tr>\n",
       "      <th>0</th>\n",
       "      <td>Radial Velocity</td>\n",
       "      <td>1</td>\n",
       "      <td>269.30000</td>\n",
       "      <td>7.100</td>\n",
       "      <td>77.40</td>\n",
       "      <td>2006</td>\n",
       "    </tr>\n",
       "    <tr>\n",
       "      <th>1</th>\n",
       "      <td>Radial Velocity</td>\n",
       "      <td>1</td>\n",
       "      <td>874.77400</td>\n",
       "      <td>2.210</td>\n",
       "      <td>56.95</td>\n",
       "      <td>2008</td>\n",
       "    </tr>\n",
       "    <tr>\n",
       "      <th>2</th>\n",
       "      <td>Radial Velocity</td>\n",
       "      <td>1</td>\n",
       "      <td>763.00000</td>\n",
       "      <td>2.600</td>\n",
       "      <td>19.84</td>\n",
       "      <td>2011</td>\n",
       "    </tr>\n",
       "    <tr>\n",
       "      <th>3</th>\n",
       "      <td>Radial Velocity</td>\n",
       "      <td>1</td>\n",
       "      <td>326.03000</td>\n",
       "      <td>19.400</td>\n",
       "      <td>110.62</td>\n",
       "      <td>2007</td>\n",
       "    </tr>\n",
       "    <tr>\n",
       "      <th>4</th>\n",
       "      <td>Radial Velocity</td>\n",
       "      <td>1</td>\n",
       "      <td>516.22000</td>\n",
       "      <td>10.500</td>\n",
       "      <td>119.47</td>\n",
       "      <td>2009</td>\n",
       "    </tr>\n",
       "    <tr>\n",
       "      <th>...</th>\n",
       "      <td>...</td>\n",
       "      <td>...</td>\n",
       "      <td>...</td>\n",
       "      <td>...</td>\n",
       "      <td>...</td>\n",
       "      <td>...</td>\n",
       "    </tr>\n",
       "    <tr>\n",
       "      <th>640</th>\n",
       "      <td>Radial Velocity</td>\n",
       "      <td>1</td>\n",
       "      <td>111.70000</td>\n",
       "      <td>2.100</td>\n",
       "      <td>14.90</td>\n",
       "      <td>2009</td>\n",
       "    </tr>\n",
       "    <tr>\n",
       "      <th>641</th>\n",
       "      <td>Radial Velocity</td>\n",
       "      <td>1</td>\n",
       "      <td>5.05050</td>\n",
       "      <td>1.068</td>\n",
       "      <td>44.46</td>\n",
       "      <td>2013</td>\n",
       "    </tr>\n",
       "    <tr>\n",
       "      <th>642</th>\n",
       "      <td>Radial Velocity</td>\n",
       "      <td>1</td>\n",
       "      <td>311.28800</td>\n",
       "      <td>1.940</td>\n",
       "      <td>17.24</td>\n",
       "      <td>1999</td>\n",
       "    </tr>\n",
       "    <tr>\n",
       "      <th>649</th>\n",
       "      <td>Transit</td>\n",
       "      <td>1</td>\n",
       "      <td>2.70339</td>\n",
       "      <td>1.470</td>\n",
       "      <td>178.00</td>\n",
       "      <td>2013</td>\n",
       "    </tr>\n",
       "    <tr>\n",
       "      <th>784</th>\n",
       "      <td>Radial Velocity</td>\n",
       "      <td>3</td>\n",
       "      <td>580.00000</td>\n",
       "      <td>0.947</td>\n",
       "      <td>135.00</td>\n",
       "      <td>2012</td>\n",
       "    </tr>\n",
       "  </tbody>\n",
       "</table>\n",
       "<p>498 rows × 6 columns</p>\n",
       "</div>"
      ],
      "text/plain": [
       "              method  number  orbital_period    mass  distance  year\n",
       "0    Radial Velocity       1       269.30000   7.100     77.40  2006\n",
       "1    Radial Velocity       1       874.77400   2.210     56.95  2008\n",
       "2    Radial Velocity       1       763.00000   2.600     19.84  2011\n",
       "3    Radial Velocity       1       326.03000  19.400    110.62  2007\n",
       "4    Radial Velocity       1       516.22000  10.500    119.47  2009\n",
       "..               ...     ...             ...     ...       ...   ...\n",
       "640  Radial Velocity       1       111.70000   2.100     14.90  2009\n",
       "641  Radial Velocity       1         5.05050   1.068     44.46  2013\n",
       "642  Radial Velocity       1       311.28800   1.940     17.24  1999\n",
       "649          Transit       1         2.70339   1.470    178.00  2013\n",
       "784  Radial Velocity       3       580.00000   0.947    135.00  2012\n",
       "\n",
       "[498 rows x 6 columns]"
      ]
     },
     "execution_count": 3,
     "metadata": {},
     "output_type": "execute_result"
    }
   ],
   "source": [
    "df = sns.load_dataset('planets').dropna()\n",
    "df"
   ]
  },
  {
   "cell_type": "code",
   "execution_count": 4,
   "id": "dab2b222-543c-4d71-8ca4-f57b682eeede",
   "metadata": {},
   "outputs": [
    {
     "name": "stdout",
     "output_type": "stream",
     "text": [
      "<class 'pandas.core.frame.DataFrame'>\n",
      "Index: 498 entries, 0 to 784\n",
      "Data columns (total 6 columns):\n",
      " #   Column          Non-Null Count  Dtype  \n",
      "---  ------          --------------  -----  \n",
      " 0   method          498 non-null    object \n",
      " 1   number          498 non-null    int64  \n",
      " 2   orbital_period  498 non-null    float64\n",
      " 3   mass            498 non-null    float64\n",
      " 4   distance        498 non-null    float64\n",
      " 5   year            498 non-null    int64  \n",
      "dtypes: float64(3), int64(2), object(1)\n",
      "memory usage: 27.2+ KB\n"
     ]
    }
   ],
   "source": [
    "df.info()"
   ]
  },
  {
   "cell_type": "code",
   "execution_count": 5,
   "id": "2eb352aa-ed9c-46e9-ab20-37eaaf9c673d",
   "metadata": {},
   "outputs": [],
   "source": [
    "#selecting only numeric columns for futher processing\n",
    "\n",
    "numeric_cols = df.select_dtypes(include='number').columns"
   ]
  },
  {
   "cell_type": "code",
   "execution_count": 6,
   "id": "6b396f41-e3df-44f5-8212-781d0d3f9ed2",
   "metadata": {},
   "outputs": [
    {
     "data": {
      "text/html": [
       "<div>\n",
       "<style scoped>\n",
       "    .dataframe tbody tr th:only-of-type {\n",
       "        vertical-align: middle;\n",
       "    }\n",
       "\n",
       "    .dataframe tbody tr th {\n",
       "        vertical-align: top;\n",
       "    }\n",
       "\n",
       "    .dataframe thead th {\n",
       "        text-align: right;\n",
       "    }\n",
       "</style>\n",
       "<table border=\"1\" class=\"dataframe\">\n",
       "  <thead>\n",
       "    <tr style=\"text-align: right;\">\n",
       "      <th></th>\n",
       "      <th>number</th>\n",
       "      <th>orbital_period</th>\n",
       "      <th>mass</th>\n",
       "      <th>distance</th>\n",
       "      <th>year</th>\n",
       "    </tr>\n",
       "  </thead>\n",
       "  <tbody>\n",
       "    <tr>\n",
       "      <th>number</th>\n",
       "      <td>1.000000</td>\n",
       "      <td>-0.059435</td>\n",
       "      <td>-0.249915</td>\n",
       "      <td>-0.288808</td>\n",
       "      <td>0.110399</td>\n",
       "    </tr>\n",
       "    <tr>\n",
       "      <th>orbital_period</th>\n",
       "      <td>-0.059435</td>\n",
       "      <td>1.000000</td>\n",
       "      <td>0.184906</td>\n",
       "      <td>-0.035069</td>\n",
       "      <td>0.070186</td>\n",
       "    </tr>\n",
       "    <tr>\n",
       "      <th>mass</th>\n",
       "      <td>-0.249915</td>\n",
       "      <td>0.184906</td>\n",
       "      <td>1.000000</td>\n",
       "      <td>0.274082</td>\n",
       "      <td>-0.137946</td>\n",
       "    </tr>\n",
       "    <tr>\n",
       "      <th>distance</th>\n",
       "      <td>-0.288808</td>\n",
       "      <td>-0.035069</td>\n",
       "      <td>0.274082</td>\n",
       "      <td>1.000000</td>\n",
       "      <td>0.193087</td>\n",
       "    </tr>\n",
       "    <tr>\n",
       "      <th>year</th>\n",
       "      <td>0.110399</td>\n",
       "      <td>0.070186</td>\n",
       "      <td>-0.137946</td>\n",
       "      <td>0.193087</td>\n",
       "      <td>1.000000</td>\n",
       "    </tr>\n",
       "  </tbody>\n",
       "</table>\n",
       "</div>"
      ],
      "text/plain": [
       "                  number  orbital_period      mass  distance      year\n",
       "number          1.000000       -0.059435 -0.249915 -0.288808  0.110399\n",
       "orbital_period -0.059435        1.000000  0.184906 -0.035069  0.070186\n",
       "mass           -0.249915        0.184906  1.000000  0.274082 -0.137946\n",
       "distance       -0.288808       -0.035069  0.274082  1.000000  0.193087\n",
       "year            0.110399        0.070186 -0.137946  0.193087  1.000000"
      ]
     },
     "execution_count": 6,
     "metadata": {},
     "output_type": "execute_result"
    }
   ],
   "source": [
    "corr_matrix = df[numeric_cols].corr()\n",
    "corr_matrix"
   ]
  },
  {
   "cell_type": "code",
   "execution_count": 7,
   "id": "1838d316-1641-4d2b-818c-ed321c541f0c",
   "metadata": {},
   "outputs": [
    {
     "name": "stdout",
     "output_type": "stream",
     "text": [
      "Index(['number', 'orbital_period', 'mass', 'distance', 'year'], dtype='object')\n"
     ]
    }
   ],
   "source": [
    "print(numeric_cols)"
   ]
  },
  {
   "cell_type": "code",
   "execution_count": 8,
   "id": "a8f29d10-1a52-4509-a66e-cbeec8b72f1f",
   "metadata": {},
   "outputs": [
    {
     "data": {
      "application/vnd.plotly.v1+json": {
       "config": {
        "plotlyServerURL": "https://plot.ly"
       },
       "data": [
        {
         "histnorm": "probability density",
         "name": "Histogram",
         "opacity": 0.6,
         "type": "histogram",
         "x": {
          "bdata": "AQEBAQEBAQECAgEBAwMDAQUFBQUDAwMBAQEBAQEBAQEBAQEBBAQEBAECAgICAQEBAwMDAQICAQEEBAQEAQYGBgYGBgEDAwMBAQQEBAQBAQICAgICAgIBAQEBAQEBAQEBAQICAQEBAQEBAgIBAQEBAgIGBgYGBgYBAQICAQICAgIBAgICAgEBAQEBAQECAgEDAwMCAgEBAgIBAQEBAQEBAQEBAQEBAQEBAwMDAQEBAQEDAwMBAgIDAwMCAgEBBgYGBgYGAQEBAgIBAQEBAQICAQEBAgICAgEBAQECAgEBAgIBAQECAgEBAQMDAwEBAQECAgEDAwMBAQEBAQEBAQEBAQEBAQEBAQEBAQICAQEBAQICAQEBAQICAQEBAQEBAgIBAQEBAQEBAQEBAQEBAgIBAgIBAQEBAgICAQEBAQEBAQEBAQEDAwMBAQECAgEBAQEBAQICAgIDAwMBAwMDAQEBAQEBAQEBAgIBAQEBAQEBAQEBAQECAgICAQEBAQEBAgICAgQBAgIBAQEBAQICAQICAQEBAQECAgEBAQEBAwMDAQICAQECAgEBAQICAQEBAgIBAQEBAQECAgICAwMDAQEBAQEBAQEBAgICAgICAQEBAgIBAQEBAQEBAQEBAQEBAQEBAgEBAwMDAQMDAwEBAQEBAQED",
          "dtype": "i1"
         }
        },
        {
         "mode": "lines",
         "name": "Normal distribution",
         "type": "scatter",
         "x": {
          "bdata": "AAAAAAAA8D96O0Ni3s7wP/N2hsS8nfE/bbLJJpts8j/m7QyJeTvzP2ApUOtXCvQ/2WSTTTbZ9D9ToNavFKj1P8zbGRLzdvY/RhdddNFF9z/AUqDWrxT4PzmO4ziO4/g/sskmm2yy+T8sBWr9SoH6P6ZArV8pUPs/H3zwwQcf/D+YtzMk5u38PxLzdobEvP0/jC666KKL/j8Fav1KgVr/P8BSoNavFABAfPDBBx98AEA5juM4juMAQPYrBWr9SgFAsskmm2yyAUBvZ0jM2xkCQCwFav1KgQJA6KKLLrroAkCmQK1fKVADQGLezpCYtwNAH3zwwQcfBEDcGRLzdoYEQJi3MyTm7QRAVlVVVVVVBUAS83aGxLwFQM+QmLczJAZAjC666KKLBkBIzNsZEvMGQAVq/UqBWgdAwgcffPDBB0B/pUCtXykIQDtDYt7OkAhA+OCDDz74CEC1fqVArV8JQHIcx3EcxwlALrrooosuCkDrVwrU+pUKQKj1KwVq/QpAZZNNNtlkC0AiMW9nSMwLQN7OkJi3MwxAm2yyySabDEBYCtT6lQINQBWo9SsFag1A0UUXXXTRDUCO4ziO4zgOQEuBWr9SoA5ACB988MEHD0DEvJ0hMW8PQIFav1Kg1g9AH3zwwQcfEED+SoFav1IQQNwZEvN2hhBAuuiiiy66EECYtzMk5u0QQHeGxLydIRFAVlVVVVVVEUA0JObtDIkRQBLzdobEvBFA8MEHH3zwEUDPkJi3MyQSQK1fKVDrVxJAjC666KKLEkBq/UqBWr8SQEjM2xkS8xJAJptssskmE0AFav1KgVoTQOQ4juM4jhNAwgcffPDBE0Cg1q8UqPUTQH+lQK1fKRRAXXTRRRddFEA7Q2LezpAUQBoS83aGxBRA+OCDDz74FEDXrxSo9SsVQLV+pUCtXxVAk0022WSTFUByHMdxHMcVQFDrVwrU+hVALrrooosuFkANiXk7Q2IWQOtXCtT6lRZAyiabbLLJFkCo9SsFav0WQIbEvJ0hMRdAZZNNNtlkF0BDYt7OkJgXQCIxb2dIzBdAAAAAAAAAGEA=",
          "dtype": "f8"
         },
         "y": {
          "bdata": "Iw1mML3c0T8lI26921TSP2stWxBBx9I/HQPrJVwz0z8aWIWXoZjTP4smgsWM9tM//im196BM1D/lktJwaprUP7m1W3F/39Q/sjPqJoEb1T+RheSEHE7VPxs/5wMLd9U/wet5RROW1T+i6vuZCavVP9zfE2fQtdU/eaxRbVi21T8Wwh3soKzVP6JUf6O3mNU/bY+zs7h61T/UrgBbzlLVP8LWnpIwIdU/yNv7iyTm1D+wNgUQ/KHUP+hagsIUVdQ/7iPgS9f/0z8vrxpstqLTPxqYtPktPtM/cj7gz8HS0j9p0Civ/GDSP7TNBBRv6dE/22jKBq5s0T/Xmn/oUevQPyow9D/1ZdA/CCL4FGe6zz8Kf/gmUKPOP3jSnKvZh80/YxWN0zJpzD/wecoEhEjLP7Nf8vfsJso/d/RI/IIFyT8qktBlT+XHP58XCShOx8Y/sw9Gn2ysxT9CYt6JiJXEP2lIzzFvg8M/4erIxtx2wj9Dy//ne3DBP3z8jFzlcMA/ChxE8T/xvj+S17taQRC9P6cFToGVP7s/eikrVOB/uT+qp18jpNG3P0u6ANpCNbY/cq/Nbf+qtD/rEdN8/zKzP67ZiRFNzbE/JvP1hdh5sD+fbdb89HCuP1S7t+nrEaw/ONLJm/TVqT8K7GHiSrynP40ce74LxKU/TGkefjnsoz9yNNS9vzOiP3Jla0d3maA/bJIVjVM4nj+KvVaZKnWbP+KOgz7f5pg/T8v6l9KKlj+m5zEAYV6UP2BDfkHnXpI/TIX2RseJkD8cMUCa2LiNP05vbCedqIo/gD+JJu3dhz9pLx11/1OFP5IklnE1BoM/Fp9BtR7wgD+U5QoC+Bp+PxyvXNaCtHo/bFPbui+ldz9T8jDlu+V0P3MD3IdQb3I/2HVDa4I7cD9MMZJIoYhsP5Gx4gxFCGk/OCYO3YnrZT+K6l8CzihjP+Wffu4st2A/nRwdP+4cXT/S9/v3Uk5ZP2XCapzI9FU/bFLKCMQDUz8AI16p229QPziVBYhpXUw/z1/M6OFtSD9+9E4JOABFP9Pv54o0BUI/TRxmCV7ePj8=",
          "dtype": "f8"
         }
        }
       ],
       "layout": {
        "bargap": 0.2,
        "template": {
         "data": {
          "bar": [
           {
            "error_x": {
             "color": "#2a3f5f"
            },
            "error_y": {
             "color": "#2a3f5f"
            },
            "marker": {
             "line": {
              "color": "#E5ECF6",
              "width": 0.5
             },
             "pattern": {
              "fillmode": "overlay",
              "size": 10,
              "solidity": 0.2
             }
            },
            "type": "bar"
           }
          ],
          "barpolar": [
           {
            "marker": {
             "line": {
              "color": "#E5ECF6",
              "width": 0.5
             },
             "pattern": {
              "fillmode": "overlay",
              "size": 10,
              "solidity": 0.2
             }
            },
            "type": "barpolar"
           }
          ],
          "carpet": [
           {
            "aaxis": {
             "endlinecolor": "#2a3f5f",
             "gridcolor": "white",
             "linecolor": "white",
             "minorgridcolor": "white",
             "startlinecolor": "#2a3f5f"
            },
            "baxis": {
             "endlinecolor": "#2a3f5f",
             "gridcolor": "white",
             "linecolor": "white",
             "minorgridcolor": "white",
             "startlinecolor": "#2a3f5f"
            },
            "type": "carpet"
           }
          ],
          "choropleth": [
           {
            "colorbar": {
             "outlinewidth": 0,
             "ticks": ""
            },
            "type": "choropleth"
           }
          ],
          "contour": [
           {
            "colorbar": {
             "outlinewidth": 0,
             "ticks": ""
            },
            "colorscale": [
             [
              0,
              "#0d0887"
             ],
             [
              0.1111111111111111,
              "#46039f"
             ],
             [
              0.2222222222222222,
              "#7201a8"
             ],
             [
              0.3333333333333333,
              "#9c179e"
             ],
             [
              0.4444444444444444,
              "#bd3786"
             ],
             [
              0.5555555555555556,
              "#d8576b"
             ],
             [
              0.6666666666666666,
              "#ed7953"
             ],
             [
              0.7777777777777778,
              "#fb9f3a"
             ],
             [
              0.8888888888888888,
              "#fdca26"
             ],
             [
              1,
              "#f0f921"
             ]
            ],
            "type": "contour"
           }
          ],
          "contourcarpet": [
           {
            "colorbar": {
             "outlinewidth": 0,
             "ticks": ""
            },
            "type": "contourcarpet"
           }
          ],
          "heatmap": [
           {
            "colorbar": {
             "outlinewidth": 0,
             "ticks": ""
            },
            "colorscale": [
             [
              0,
              "#0d0887"
             ],
             [
              0.1111111111111111,
              "#46039f"
             ],
             [
              0.2222222222222222,
              "#7201a8"
             ],
             [
              0.3333333333333333,
              "#9c179e"
             ],
             [
              0.4444444444444444,
              "#bd3786"
             ],
             [
              0.5555555555555556,
              "#d8576b"
             ],
             [
              0.6666666666666666,
              "#ed7953"
             ],
             [
              0.7777777777777778,
              "#fb9f3a"
             ],
             [
              0.8888888888888888,
              "#fdca26"
             ],
             [
              1,
              "#f0f921"
             ]
            ],
            "type": "heatmap"
           }
          ],
          "histogram": [
           {
            "marker": {
             "pattern": {
              "fillmode": "overlay",
              "size": 10,
              "solidity": 0.2
             }
            },
            "type": "histogram"
           }
          ],
          "histogram2d": [
           {
            "colorbar": {
             "outlinewidth": 0,
             "ticks": ""
            },
            "colorscale": [
             [
              0,
              "#0d0887"
             ],
             [
              0.1111111111111111,
              "#46039f"
             ],
             [
              0.2222222222222222,
              "#7201a8"
             ],
             [
              0.3333333333333333,
              "#9c179e"
             ],
             [
              0.4444444444444444,
              "#bd3786"
             ],
             [
              0.5555555555555556,
              "#d8576b"
             ],
             [
              0.6666666666666666,
              "#ed7953"
             ],
             [
              0.7777777777777778,
              "#fb9f3a"
             ],
             [
              0.8888888888888888,
              "#fdca26"
             ],
             [
              1,
              "#f0f921"
             ]
            ],
            "type": "histogram2d"
           }
          ],
          "histogram2dcontour": [
           {
            "colorbar": {
             "outlinewidth": 0,
             "ticks": ""
            },
            "colorscale": [
             [
              0,
              "#0d0887"
             ],
             [
              0.1111111111111111,
              "#46039f"
             ],
             [
              0.2222222222222222,
              "#7201a8"
             ],
             [
              0.3333333333333333,
              "#9c179e"
             ],
             [
              0.4444444444444444,
              "#bd3786"
             ],
             [
              0.5555555555555556,
              "#d8576b"
             ],
             [
              0.6666666666666666,
              "#ed7953"
             ],
             [
              0.7777777777777778,
              "#fb9f3a"
             ],
             [
              0.8888888888888888,
              "#fdca26"
             ],
             [
              1,
              "#f0f921"
             ]
            ],
            "type": "histogram2dcontour"
           }
          ],
          "mesh3d": [
           {
            "colorbar": {
             "outlinewidth": 0,
             "ticks": ""
            },
            "type": "mesh3d"
           }
          ],
          "parcoords": [
           {
            "line": {
             "colorbar": {
              "outlinewidth": 0,
              "ticks": ""
             }
            },
            "type": "parcoords"
           }
          ],
          "pie": [
           {
            "automargin": true,
            "type": "pie"
           }
          ],
          "scatter": [
           {
            "fillpattern": {
             "fillmode": "overlay",
             "size": 10,
             "solidity": 0.2
            },
            "type": "scatter"
           }
          ],
          "scatter3d": [
           {
            "line": {
             "colorbar": {
              "outlinewidth": 0,
              "ticks": ""
             }
            },
            "marker": {
             "colorbar": {
              "outlinewidth": 0,
              "ticks": ""
             }
            },
            "type": "scatter3d"
           }
          ],
          "scattercarpet": [
           {
            "marker": {
             "colorbar": {
              "outlinewidth": 0,
              "ticks": ""
             }
            },
            "type": "scattercarpet"
           }
          ],
          "scattergeo": [
           {
            "marker": {
             "colorbar": {
              "outlinewidth": 0,
              "ticks": ""
             }
            },
            "type": "scattergeo"
           }
          ],
          "scattergl": [
           {
            "marker": {
             "colorbar": {
              "outlinewidth": 0,
              "ticks": ""
             }
            },
            "type": "scattergl"
           }
          ],
          "scattermap": [
           {
            "marker": {
             "colorbar": {
              "outlinewidth": 0,
              "ticks": ""
             }
            },
            "type": "scattermap"
           }
          ],
          "scattermapbox": [
           {
            "marker": {
             "colorbar": {
              "outlinewidth": 0,
              "ticks": ""
             }
            },
            "type": "scattermapbox"
           }
          ],
          "scatterpolar": [
           {
            "marker": {
             "colorbar": {
              "outlinewidth": 0,
              "ticks": ""
             }
            },
            "type": "scatterpolar"
           }
          ],
          "scatterpolargl": [
           {
            "marker": {
             "colorbar": {
              "outlinewidth": 0,
              "ticks": ""
             }
            },
            "type": "scatterpolargl"
           }
          ],
          "scatterternary": [
           {
            "marker": {
             "colorbar": {
              "outlinewidth": 0,
              "ticks": ""
             }
            },
            "type": "scatterternary"
           }
          ],
          "surface": [
           {
            "colorbar": {
             "outlinewidth": 0,
             "ticks": ""
            },
            "colorscale": [
             [
              0,
              "#0d0887"
             ],
             [
              0.1111111111111111,
              "#46039f"
             ],
             [
              0.2222222222222222,
              "#7201a8"
             ],
             [
              0.3333333333333333,
              "#9c179e"
             ],
             [
              0.4444444444444444,
              "#bd3786"
             ],
             [
              0.5555555555555556,
              "#d8576b"
             ],
             [
              0.6666666666666666,
              "#ed7953"
             ],
             [
              0.7777777777777778,
              "#fb9f3a"
             ],
             [
              0.8888888888888888,
              "#fdca26"
             ],
             [
              1,
              "#f0f921"
             ]
            ],
            "type": "surface"
           }
          ],
          "table": [
           {
            "cells": {
             "fill": {
              "color": "#EBF0F8"
             },
             "line": {
              "color": "white"
             }
            },
            "header": {
             "fill": {
              "color": "#C8D4E3"
             },
             "line": {
              "color": "white"
             }
            },
            "type": "table"
           }
          ]
         },
         "layout": {
          "annotationdefaults": {
           "arrowcolor": "#2a3f5f",
           "arrowhead": 0,
           "arrowwidth": 1
          },
          "autotypenumbers": "strict",
          "coloraxis": {
           "colorbar": {
            "outlinewidth": 0,
            "ticks": ""
           }
          },
          "colorscale": {
           "diverging": [
            [
             0,
             "#8e0152"
            ],
            [
             0.1,
             "#c51b7d"
            ],
            [
             0.2,
             "#de77ae"
            ],
            [
             0.3,
             "#f1b6da"
            ],
            [
             0.4,
             "#fde0ef"
            ],
            [
             0.5,
             "#f7f7f7"
            ],
            [
             0.6,
             "#e6f5d0"
            ],
            [
             0.7,
             "#b8e186"
            ],
            [
             0.8,
             "#7fbc41"
            ],
            [
             0.9,
             "#4d9221"
            ],
            [
             1,
             "#276419"
            ]
           ],
           "sequential": [
            [
             0,
             "#0d0887"
            ],
            [
             0.1111111111111111,
             "#46039f"
            ],
            [
             0.2222222222222222,
             "#7201a8"
            ],
            [
             0.3333333333333333,
             "#9c179e"
            ],
            [
             0.4444444444444444,
             "#bd3786"
            ],
            [
             0.5555555555555556,
             "#d8576b"
            ],
            [
             0.6666666666666666,
             "#ed7953"
            ],
            [
             0.7777777777777778,
             "#fb9f3a"
            ],
            [
             0.8888888888888888,
             "#fdca26"
            ],
            [
             1,
             "#f0f921"
            ]
           ],
           "sequentialminus": [
            [
             0,
             "#0d0887"
            ],
            [
             0.1111111111111111,
             "#46039f"
            ],
            [
             0.2222222222222222,
             "#7201a8"
            ],
            [
             0.3333333333333333,
             "#9c179e"
            ],
            [
             0.4444444444444444,
             "#bd3786"
            ],
            [
             0.5555555555555556,
             "#d8576b"
            ],
            [
             0.6666666666666666,
             "#ed7953"
            ],
            [
             0.7777777777777778,
             "#fb9f3a"
            ],
            [
             0.8888888888888888,
             "#fdca26"
            ],
            [
             1,
             "#f0f921"
            ]
           ]
          },
          "colorway": [
           "#636efa",
           "#EF553B",
           "#00cc96",
           "#ab63fa",
           "#FFA15A",
           "#19d3f3",
           "#FF6692",
           "#B6E880",
           "#FF97FF",
           "#FECB52"
          ],
          "font": {
           "color": "#2a3f5f"
          },
          "geo": {
           "bgcolor": "white",
           "lakecolor": "white",
           "landcolor": "#E5ECF6",
           "showlakes": true,
           "showland": true,
           "subunitcolor": "white"
          },
          "hoverlabel": {
           "align": "left"
          },
          "hovermode": "closest",
          "mapbox": {
           "style": "light"
          },
          "paper_bgcolor": "white",
          "plot_bgcolor": "#E5ECF6",
          "polar": {
           "angularaxis": {
            "gridcolor": "white",
            "linecolor": "white",
            "ticks": ""
           },
           "bgcolor": "#E5ECF6",
           "radialaxis": {
            "gridcolor": "white",
            "linecolor": "white",
            "ticks": ""
           }
          },
          "scene": {
           "xaxis": {
            "backgroundcolor": "#E5ECF6",
            "gridcolor": "white",
            "gridwidth": 2,
            "linecolor": "white",
            "showbackground": true,
            "ticks": "",
            "zerolinecolor": "white"
           },
           "yaxis": {
            "backgroundcolor": "#E5ECF6",
            "gridcolor": "white",
            "gridwidth": 2,
            "linecolor": "white",
            "showbackground": true,
            "ticks": "",
            "zerolinecolor": "white"
           },
           "zaxis": {
            "backgroundcolor": "#E5ECF6",
            "gridcolor": "white",
            "gridwidth": 2,
            "linecolor": "white",
            "showbackground": true,
            "ticks": "",
            "zerolinecolor": "white"
           }
          },
          "shapedefaults": {
           "line": {
            "color": "#2a3f5f"
           }
          },
          "ternary": {
           "aaxis": {
            "gridcolor": "white",
            "linecolor": "white",
            "ticks": ""
           },
           "baxis": {
            "gridcolor": "white",
            "linecolor": "white",
            "ticks": ""
           },
           "bgcolor": "#E5ECF6",
           "caxis": {
            "gridcolor": "white",
            "linecolor": "white",
            "ticks": ""
           }
          },
          "title": {
           "x": 0.05
          },
          "xaxis": {
           "automargin": true,
           "gridcolor": "white",
           "linecolor": "white",
           "ticks": "",
           "title": {
            "standoff": 15
           },
           "zerolinecolor": "white",
           "zerolinewidth": 2
          },
          "yaxis": {
           "automargin": true,
           "gridcolor": "white",
           "linecolor": "white",
           "ticks": "",
           "title": {
            "standoff": 15
           },
           "zerolinecolor": "white",
           "zerolinewidth": 2
          }
         }
        },
        "title": {
         "text": "Number Distribution<br>Skewness = 2.09"
        },
        "xaxis": {
         "title": {
          "text": "number"
         }
        },
        "yaxis": {
         "title": {
          "text": "Density"
         }
        }
       }
      },
      "image/png": "[encoded data removed]"
     },
     "metadata": {},
     "output_type": "display_data"
    },
    {
     "data": {
      "application/vnd.plotly.v1+json": {
       "config": {
        "plotlyServerURL": "https://plot.ly"
       },
       "data": [
        {
         "histnorm": "probability density",
         "name": "Histogram",
         "opacity": 0.6,
         "type": "histogram",
         "x": {
          "bdata": "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",
          "dtype": "f8"
         }
        },
        {
         "mode": "lines",
         "name": "Normal distribution",
         "type": "scatter",
         "x": {
          "bdata": "xm00gLdA9T+ogRLdHQ5mQDpNkiXd+HVA0KxNrlV1gEADM9LJPO6FQDa5VuUjZ4tAtJ9tgAVwkEDN4i8OeSyTQOcl8pvs6JVAAWm0KWClmEAarHa302GbQDPvOEVHHp5AJ5l9aV1toEC0ul4wl8uhQEDcP/fQKaNAzf0gvgqIpEBaHwKFROalQOdA40t+RKdAdGLEEriiqEAAhKXZ8QCqQI2lhqArX6tAGsdnZ2W9rECm6EgunxuuQDMKKvXYea9A4JUFXglssECmJnZBJhuxQG235iRDyrFAM0hXCGB5skD52MfrfCizQMBpOM+Z17NAhvqosraGtEBNixmW0zW1QBMcinnw5LVA2az6XA2UtkCgPWtAKkO3QGbO2yNH8rdALV9MB2ShuEDz77zqgFC5QLmALc6d/7lAgBGesbquukBGog6V1127QAwzf3j0DLxA08PvWxG8vECZVGA/Lmu9QF/l0CJLGr5AJnZBBmjJvkDsBrLphHi/QNlLkebQE8BAPJRJWF9rwECf3AHK7cLAQAIlujt8GsFAZm1yrQpywUDJtSofmcnBQCz+4pAnIcJAj0abArZ4wkDyjlN0RNDCQFXXC+bSJ8NAuR/EV2F/w0AcaHzJ79bDQH+wNDt+LsRA4vjsrAyGxEBFQaUem93EQKmJXZApNcVADNIVAriMxUBvGs5zRuTFQNJihuXUO8ZANas+V2OTxkCZ8/bI8erGQPw7rzqAQsdAX4RnrA6ax0DCzB8enfHHQCUV2I8rSchAiV2QAbqgyEDspUhzSPjIQE/uAOXWT8lAsja5VmWnyUAVf3HI8/7JQHjHKTqCVspA3A/iqxCuykA/WJodnwXLQKKgUo8tXctABekKAby0y0BoMcNySgzMQMx5e+TYY8xAL8IzVme7zECSCuzH9RLNQPVSpDmEas1AWJtcqxLCzUC74xQdoRnOQB8szY4vcc5AgnSFAL7IzkDlvD1yTCDPQEgF9uPad89Aq02uVWnPz0AIS7PjexPQQDlvjxxDP9BAa5NrVQpr0ECdt0eO0ZbQQM7bI8eYwtBAAAAAAGDu0EA=",
          "dtype": "f8"
         },
         "y": {
          "bdata": "g1M4RVtKLj8E4JxMZBcwP/03a33+2jA/alL0Rh9oMT+z7WWM8rgxPxgvFjgTyjE/yl5jyceaMT+f4ndZDy0xPyimB9F9hTA/UdwcmtVVLz+K4MoJ9kstP4UhdcIeASs/eqhc7k2KKD8uyN4qg/wlPycY1hSfayM/qbo3+3HpID9NcSUSEAodP+CH0PVzlBg/n6scnQSDFD8LEdpHIeAQP4EOREdBYAs/gLPkW1HkBT9fkG1XZ0IBP/ll8+CX1Po+1h2qnHGP9D5jbgOLBBHvPtvIg221I+c+BYtsofX94D7AT4upfZrYPhRT3V6Zj9E+J8QULwK3yD7kSCB0cCXBPmDdUi2JdLc+gQM6zAiirz6sPBAirwelPvssYMhPkZs+a3XwSVvQkT4eAbmtj7KGPrWvYD4Qg3w+vMScKcSncT5IMSyCi45lPnv/kfr68lk+rt1QC7jLTj5Qwd+TGgRCPndLfogvyDQ+gJAeF2eiJz4Qwsjaxn8aPgN6DcG+Sg0+Ekk+/SHs/z1oAChGLSbxPfhtjiJhKuI9jZMvSIP40j2hBR1PPIjDPWLGxfOV07M9o6myG2TXoz1T19aMfZOTPd9ue9K+CoM9l8NLB9dCcj3It5iB40NhPf+RRgXkF1A9g/69KymUPT1sPVfQd8wqPYROwzr77xc9ebLN73sUBT1zpirPQ03yPP3+DFXKVN88feWnCp5wyjxpzYSnWf+1PNAp9doSC6I8QSB3UqAujTxtDsnUDkR3PFC951uPSWI85lPd3b5XTDz64NvLXKc1PM+XugxdTyA8g0s1wTA5CDy33Ypo/7vxO5JebYzXmdk7JZ7QQMI3wjsMkQnC44+pO2RLAEM4rpE7QhQUo/sceDuV/E8sDzZgO+PnIaBmfUU7VDv6D+MVLDtLfLehBRgSOzihI8EV/PY6xYLL1CTJ3Dom63aGaMXBOuf/sL/+oaU6d95lBU32iTpZu9jI4rduOgB8pZSi6lE6QXdDMNyaNDpe/911xlwXOi7sr5p/Hfo5WaNcttXH3DlFKUX9Q0W/OUO7D1eSv6A555afCQGwgTk=",
          "dtype": "f8"
         }
        }
       ],
       "layout": {
        "bargap": 0.2,
        "template": {
         "data": {
          "bar": [
           {
            "error_x": {
             "color": "#2a3f5f"
            },
            "error_y": {
             "color": "#2a3f5f"
            },
            "marker": {
             "line": {
              "color": "#E5ECF6",
              "width": 0.5
             },
             "pattern": {
              "fillmode": "overlay",
              "size": 10,
              "solidity": 0.2
             }
            },
            "type": "bar"
           }
          ],
          "barpolar": [
           {
            "marker": {
             "line": {
              "color": "#E5ECF6",
              "width": 0.5
             },
             "pattern": {
              "fillmode": "overlay",
              "size": 10,
              "solidity": 0.2
             }
            },
            "type": "barpolar"
           }
          ],
          "carpet": [
           {
            "aaxis": {
             "endlinecolor": "#2a3f5f",
             "gridcolor": "white",
             "linecolor": "white",
             "minorgridcolor": "white",
             "startlinecolor": "#2a3f5f"
            },
            "baxis": {
             "endlinecolor": "#2a3f5f",
             "gridcolor": "white",
             "linecolor": "white",
             "minorgridcolor": "white",
             "startlinecolor": "#2a3f5f"
            },
            "type": "carpet"
           }
          ],
          "choropleth": [
           {
            "colorbar": {
             "outlinewidth": 0,
             "ticks": ""
            },
            "type": "choropleth"
           }
          ],
          "contour": [
           {
            "colorbar": {
             "outlinewidth": 0,
             "ticks": ""
            },
            "colorscale": [
             [
              0,
              "#0d0887"
             ],
             [
              0.1111111111111111,
              "#46039f"
             ],
             [
              0.2222222222222222,
              "#7201a8"
             ],
             [
              0.3333333333333333,
              "#9c179e"
             ],
             [
              0.4444444444444444,
              "#bd3786"
             ],
             [
              0.5555555555555556,
              "#d8576b"
             ],
             [
              0.6666666666666666,
              "#ed7953"
             ],
             [
              0.7777777777777778,
              "#fb9f3a"
             ],
             [
              0.8888888888888888,
              "#fdca26"
             ],
             [
              1,
              "#f0f921"
             ]
            ],
            "type": "contour"
           }
          ],
          "contourcarpet": [
           {
            "colorbar": {
             "outlinewidth": 0,
             "ticks": ""
            },
            "type": "contourcarpet"
           }
          ],
          "heatmap": [
           {
            "colorbar": {
             "outlinewidth": 0,
             "ticks": ""
            },
            "colorscale": [
             [
              0,
              "#0d0887"
             ],
             [
              0.1111111111111111,
              "#46039f"
             ],
             [
              0.2222222222222222,
              "#7201a8"
             ],
             [
              0.3333333333333333,
              "#9c179e"
             ],
             [
              0.4444444444444444,
              "#bd3786"
             ],
             [
              0.5555555555555556,
              "#d8576b"
             ],
             [
              0.6666666666666666,
              "#ed7953"
             ],
             [
              0.7777777777777778,
              "#fb9f3a"
             ],
             [
              0.8888888888888888,
              "#fdca26"
             ],
             [
              1,
              "#f0f921"
             ]
            ],
            "type": "heatmap"
           }
          ],
          "histogram": [
           {
            "marker": {
             "pattern": {
              "fillmode": "overlay",
              "size": 10,
              "solidity": 0.2
             }
            },
            "type": "histogram"
           }
          ],
          "histogram2d": [
           {
            "colorbar": {
             "outlinewidth": 0,
             "ticks": ""
            },
            "colorscale": [
             [
              0,
              "#0d0887"
             ],
             [
              0.1111111111111111,
              "#46039f"
             ],
             [
              0.2222222222222222,
              "#7201a8"
             ],
             [
              0.3333333333333333,
              "#9c179e"
             ],
             [
              0.4444444444444444,
              "#bd3786"
             ],
             [
              0.5555555555555556,
              "#d8576b"
             ],
             [
              0.6666666666666666,
              "#ed7953"
             ],
             [
              0.7777777777777778,
              "#fb9f3a"
             ],
             [
              0.8888888888888888,
              "#fdca26"
             ],
             [
              1,
              "#f0f921"
             ]
            ],
            "type": "histogram2d"
           }
          ],
          "histogram2dcontour": [
           {
            "colorbar": {
             "outlinewidth": 0,
             "ticks": ""
            },
            "colorscale": [
             [
              0,
              "#0d0887"
             ],
             [
              0.1111111111111111,
              "#46039f"
             ],
             [
              0.2222222222222222,
              "#7201a8"
             ],
             [
              0.3333333333333333,
              "#9c179e"
             ],
             [
              0.4444444444444444,
              "#bd3786"
             ],
             [
              0.5555555555555556,
              "#d8576b"
             ],
             [
              0.6666666666666666,
              "#ed7953"
             ],
             [
              0.7777777777777778,
              "#fb9f3a"
             ],
             [
              0.8888888888888888,
              "#fdca26"
             ],
             [
              1,
              "#f0f921"
             ]
            ],
            "type": "histogram2dcontour"
           }
          ],
          "mesh3d": [
           {
            "colorbar": {
             "outlinewidth": 0,
             "ticks": ""
            },
            "type": "mesh3d"
           }
          ],
          "parcoords": [
           {
            "line": {
             "colorbar": {
              "outlinewidth": 0,
              "ticks": ""
             }
            },
            "type": "parcoords"
           }
          ],
          "pie": [
           {
            "automargin": true,
            "type": "pie"
           }
          ],
          "scatter": [
           {
            "fillpattern": {
             "fillmode": "overlay",
             "size": 10,
             "solidity": 0.2
            },
            "type": "scatter"
           }
          ],
          "scatter3d": [
           {
            "line": {
             "colorbar": {
              "outlinewidth": 0,
              "ticks": ""
             }
            },
            "marker": {
             "colorbar": {
              "outlinewidth": 0,
              "ticks": ""
             }
            },
            "type": "scatter3d"
           }
          ],
          "scattercarpet": [
           {
            "marker": {
             "colorbar": {
              "outlinewidth": 0,
              "ticks": ""
             }
            },
            "type": "scattercarpet"
           }
          ],
          "scattergeo": [
           {
            "marker": {
             "colorbar": {
              "outlinewidth": 0,
              "ticks": ""
             }
            },
            "type": "scattergeo"
           }
          ],
          "scattergl": [
           {
            "marker": {
             "colorbar": {
              "outlinewidth": 0,
              "ticks": ""
             }
            },
            "type": "scattergl"
           }
          ],
          "scattermap": [
           {
            "marker": {
             "colorbar": {
              "outlinewidth": 0,
              "ticks": ""
             }
            },
            "type": "scattermap"
           }
          ],
          "scattermapbox": [
           {
            "marker": {
             "colorbar": {
              "outlinewidth": 0,
              "ticks": ""
             }
            },
            "type": "scattermapbox"
           }
          ],
          "scatterpolar": [
           {
            "marker": {
             "colorbar": {
              "outlinewidth": 0,
              "ticks": ""
             }
            },
            "type": "scatterpolar"
           }
          ],
          "scatterpolargl": [
           {
            "marker": {
             "colorbar": {
              "outlinewidth": 0,
              "ticks": ""
             }
            },
            "type": "scatterpolargl"
           }
          ],
          "scatterternary": [
           {
            "marker": {
             "colorbar": {
              "outlinewidth": 0,
              "ticks": ""
             }
            },
            "type": "scatterternary"
           }
          ],
          "surface": [
           {
            "colorbar": {
             "outlinewidth": 0,
             "ticks": ""
            },
            "colorscale": [
             [
              0,
              "#0d0887"
             ],
             [
              0.1111111111111111,
              "#46039f"
             ],
             [
              0.2222222222222222,
              "#7201a8"
             ],
             [
              0.3333333333333333,
              "#9c179e"
             ],
             [
              0.4444444444444444,
              "#bd3786"
             ],
             [
              0.5555555555555556,
              "#d8576b"
             ],
             [
              0.6666666666666666,
              "#ed7953"
             ],
             [
              0.7777777777777778,
              "#fb9f3a"
             ],
             [
              0.8888888888888888,
              "#fdca26"
             ],
             [
              1,
              "#f0f921"
             ]
            ],
            "type": "surface"
           }
          ],
          "table": [
           {
            "cells": {
             "fill": {
              "color": "#EBF0F8"
             },
             "line": {
              "color": "white"
             }
            },
            "header": {
             "fill": {
              "color": "#C8D4E3"
             },
             "line": {
              "color": "white"
             }
            },
            "type": "table"
           }
          ]
         },
         "layout": {
          "annotationdefaults": {
           "arrowcolor": "#2a3f5f",
           "arrowhead": 0,
           "arrowwidth": 1
          },
          "autotypenumbers": "strict",
          "coloraxis": {
           "colorbar": {
            "outlinewidth": 0,
            "ticks": ""
           }
          },
          "colorscale": {
           "diverging": [
            [
             0,
             "#8e0152"
            ],
            [
             0.1,
             "#c51b7d"
            ],
            [
             0.2,
             "#de77ae"
            ],
            [
             0.3,
             "#f1b6da"
            ],
            [
             0.4,
             "#fde0ef"
            ],
            [
             0.5,
             "#f7f7f7"
            ],
            [
             0.6,
             "#e6f5d0"
            ],
            [
             0.7,
             "#b8e186"
            ],
            [
             0.8,
             "#7fbc41"
            ],
            [
             0.9,
             "#4d9221"
            ],
            [
             1,
             "#276419"
            ]
           ],
           "sequential": [
            [
             0,
             "#0d0887"
            ],
            [
             0.1111111111111111,
             "#46039f"
            ],
            [
             0.2222222222222222,
             "#7201a8"
            ],
            [
             0.3333333333333333,
             "#9c179e"
            ],
            [
             0.4444444444444444,
             "#bd3786"
            ],
            [
             0.5555555555555556,
             "#d8576b"
            ],
            [
             0.6666666666666666,
             "#ed7953"
            ],
            [
             0.7777777777777778,
             "#fb9f3a"
            ],
            [
             0.8888888888888888,
             "#fdca26"
            ],
            [
             1,
             "#f0f921"
            ]
           ],
           "sequentialminus": [
            [
             0,
             "#0d0887"
            ],
            [
             0.1111111111111111,
             "#46039f"
            ],
            [
             0.2222222222222222,
             "#7201a8"
            ],
            [
             0.3333333333333333,
             "#9c179e"
            ],
            [
             0.4444444444444444,
             "#bd3786"
            ],
            [
             0.5555555555555556,
             "#d8576b"
            ],
            [
             0.6666666666666666,
             "#ed7953"
            ],
            [
             0.7777777777777778,
             "#fb9f3a"
            ],
            [
             0.8888888888888888,
             "#fdca26"
            ],
            [
             1,
             "#f0f921"
            ]
           ]
          },
          "colorway": [
           "#636efa",
           "#EF553B",
           "#00cc96",
           "#ab63fa",
           "#FFA15A",
           "#19d3f3",
           "#FF6692",
           "#B6E880",
           "#FF97FF",
           "#FECB52"
          ],
          "font": {
           "color": "#2a3f5f"
          },
          "geo": {
           "bgcolor": "white",
           "lakecolor": "white",
           "landcolor": "#E5ECF6",
           "showlakes": true,
           "showland": true,
           "subunitcolor": "white"
          },
          "hoverlabel": {
           "align": "left"
          },
          "hovermode": "closest",
          "mapbox": {
           "style": "light"
          },
          "paper_bgcolor": "white",
          "plot_bgcolor": "#E5ECF6",
          "polar": {
           "angularaxis": {
            "gridcolor": "white",
            "linecolor": "white",
            "ticks": ""
           },
           "bgcolor": "#E5ECF6",
           "radialaxis": {
            "gridcolor": "white",
            "linecolor": "white",
            "ticks": ""
           }
          },
          "scene": {
           "xaxis": {
            "backgroundcolor": "#E5ECF6",
            "gridcolor": "white",
            "gridwidth": 2,
            "linecolor": "white",
            "showbackground": true,
            "ticks": "",
            "zerolinecolor": "white"
           },
           "yaxis": {
            "backgroundcolor": "#E5ECF6",
            "gridcolor": "white",
            "gridwidth": 2,
            "linecolor": "white",
            "showbackground": true,
            "ticks": "",
            "zerolinecolor": "white"
           },
           "zaxis": {
            "backgroundcolor": "#E5ECF6",
            "gridcolor": "white",
            "gridwidth": 2,
            "linecolor": "white",
            "showbackground": true,
            "ticks": "",
            "zerolinecolor": "white"
           }
          },
          "shapedefaults": {
           "line": {
            "color": "#2a3f5f"
           }
          },
          "ternary": {
           "aaxis": {
            "gridcolor": "white",
            "linecolor": "white",
            "ticks": ""
           },
           "baxis": {
            "gridcolor": "white",
            "linecolor": "white",
            "ticks": ""
           },
           "bgcolor": "#E5ECF6",
           "caxis": {
            "gridcolor": "white",
            "linecolor": "white",
            "ticks": ""
           }
          },
          "title": {
           "x": 0.05
          },
          "xaxis": {
           "automargin": true,
           "gridcolor": "white",
           "linecolor": "white",
           "ticks": "",
           "title": {
            "standoff": 15
           },
           "zerolinecolor": "white",
           "zerolinewidth": 2
          },
          "yaxis": {
           "automargin": true,
           "gridcolor": "white",
           "linecolor": "white",
           "ticks": "",
           "title": {
            "standoff": 15
           },
           "zerolinecolor": "white",
           "zerolinewidth": 2
          }
         }
        },
        "title": {
         "text": "Orbital_period Distribution<br>Skewness = 5.29"
        },
        "xaxis": {
         "title": {
          "text": "orbital_period"
         }
        },
        "yaxis": {
         "title": {
          "text": "Density"
         }
        }
       }
      },
      "image/png": "[encoded data removed]"
     },
     "metadata": {},
     "output_type": "display_data"
    },
    {
     "data": {
      "application/vnd.plotly.v1+json": {
       "config": {
        "plotlyServerURL": "https://plot.ly"
       },
       "data": [
        {
         "histnorm": "probability density",
         "name": "Histogram",
         "opacity": 0.6,
         "type": "histogram",
         "x": {
          "bdata": "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",
          "dtype": "f8"
         }
        },
        {
         "mode": "lines",
         "name": "Normal distribution",
         "type": "scatter",
         "x": {
          "bdata": "kst/SL99bT9yZKmmwmPQP6fkYOdERuA/FBdte6ha6D/BpLwHhjfwP/i9wtG3QfQ/LtfIm+lL+D9l8M5lG1b8P86E6pcmMABAaZHtfD81AkAFnvBhWDoEQKCq80ZxPwZAO7f2K4pECEDXw/kQo0kKQHLQ/PW7TgxADt3/2tRTDkDUdAHgdiwQQCL7glIDLxFAb4EExY8xEkC9B4Y3HDQTQAuOB6qoNhRAWBSJHDU5FUCmmgqPwTsWQPQgjAFOPhdAQacNdNpAGECPLY/mZkMZQN2zEFnzRRpAKzqSy39IG0B4wBM+DEscQMZGlbCYTR1AFM0WIyVQHkBhU5iVsVIfQNjsDASfKiBA/69NPeWrIEAmc452Ky0hQE02z69xriFAc/kP6bcvIkCavFAi/rAiQMF/kVtEMiNA6ELSlIqzI0APBhPO0DQkQDbJUwcXtiRAXIyUQF03JUCDT9V5o7glQKoSFrPpOSZA0dVW7C+7JkD4mJcldjwnQB9c2F68vSdARR8ZmAI/KEBs4lnRSMAoQJOlmgqPQSlAumjbQ9XCKUDhKxx9G0QqQAjvXLZhxSpAL7Kd76dGK0BVdd4o7scrQHw4H2I0SSxAo/tfm3rKLEDKvqDUwEstQPGB4Q0HzS1AGEUiR01OLkA+CGOAk88uQGXLo7nZUC9AjI7k8h/SL0DZqBIWsykwQGwKszJWajBAAGxTT/mqMECTzfNrnOswQCcvlIg/LDFAupA0peJsMUBO8tTBha0xQOFTdd4o7jFAdLUV+8suMkAIF7YXb28yQJt4VjQSsDJAL9r2ULXwMkDCO5dtWDEzQFWdN4r7cTNA6f7Xpp6yM0B8YHjDQfMzQBDCGODkMzRAoyO5/Id0NEA3hVkZK7U0QMrm+TXO9TRAXUiaUnE2NUDxqTpvFHc1QIQL24u3tzVAGG17qFr4NUCrzhvF/Tg2QD8wvOGgeTZA0pFc/kO6NkBl8/wa5/o2QPlUnTeKOzdAjLY9VC18N0AgGN5w0Lw3QLN5fo1z/TdARtseqhY+OEDaPL/GuX44QG2eX+NcvzhAAAAAAAAAOUA=",
          "dtype": "f8"
         },
         "y": {
          "bdata": "6KsAdIImtj/SRIKgGi63P249VkwVJLg/vA1TPE0FuT8fRr0GzM65P3fiqZ3afbo//Qz83BAQuz84CrGfY4O7PxlDZ+kw1rs/lWL9vkkHvD/eo01b+RW8P2dBsoIJArw/0a9G0MPLuz+rTbfx73O7P/Z0yuDO+7o/OO9/QxNluj8hApUz17G5P450acOP5Lg/RaHPp/7/tz+9TZF7Ige3PyfK7hkm/bU/vcfckE/ltD8XHEwq78KzP8GrlQVPmbI/pkOyr6NrsT8NKdYa/jywP5MSQ4p+IK4/hltvlhvQqz/NnD4fm42pP9+2aRczXac/3psZl39CpT/iAFIIf0CjP9wu9EaSWaE/3JEksQAfnz/eBaaW+sabP3Zlh3hnrJg/Fb1h+aDPlT96i2SWHzCTP8MmEC+XzJA/SNIQPilGjT85/sv4NmKJP61ZjlGG54U/xrKZBqXPgj8BDMNXsxOAP/YoyKslWXs/Mvmmyh8mdz8280M6C4BzP1d4l8z3WHA/SEnWv/9Gaz9oyUfd3KVmPz9oUQq2tmI/ngQENPLGXj/dR93wzy9ZPzTRcCRAg1Q/VZlNGiygUD9Gdf8xINJKPw4DGHOih0U/VxQw2hAzQT8Bji2aGFk7PyUCx6hGozU/W/WlN5oJMT9EWXv0k7MqP49euHqn0iQ/Cr54hQ8pID/N3YYEkfYYP5bBvj8NMBM/Z138wONaDT+yX9pG0lgGPzignAgd7gA/AV0g0H2H+T7erdGbyyfzPpjrsY2Qm+w+WBPRHGFC5T7KP07G6XHfPl4bzs++JNc+uMYcU6Xz0D4Caz3AqrbIPlCxWFCR7cE+EFi+8s/iuT7ojqF4K5myPjlbOmmdmKo+JyUUktjsoj4FfCqnyc2aPmdzboPT45I+uNBteEl/ij58HRaboH6CPtltNc+ZsXk+NOQhAQHDcT7mTUH7UnBoPgFMp/xnu2A+b0mKjhPNVj45x/RxCOxOPltyEOzm3UQ+ay9yYvkGPD5hJJUtW7syPltDAmUS6yg+Bk9LaYF+ID7P1K7FILsVPvivb10jfgw+iKhTB+KWAj4=",
          "dtype": "f8"
         }
        }
       ],
       "layout": {
        "bargap": 0.2,
        "template": {
         "data": {
          "bar": [
           {
            "error_x": {
             "color": "#2a3f5f"
            },
            "error_y": {
             "color": "#2a3f5f"
            },
            "marker": {
             "line": {
              "color": "#E5ECF6",
              "width": 0.5
             },
             "pattern": {
              "fillmode": "overlay",
              "size": 10,
              "solidity": 0.2
             }
            },
            "type": "bar"
           }
          ],
          "barpolar": [
           {
            "marker": {
             "line": {
              "color": "#E5ECF6",
              "width": 0.5
             },
             "pattern": {
              "fillmode": "overlay",
              "size": 10,
              "solidity": 0.2
             }
            },
            "type": "barpolar"
           }
          ],
          "carpet": [
           {
            "aaxis": {
             "endlinecolor": "#2a3f5f",
             "gridcolor": "white",
             "linecolor": "white",
             "minorgridcolor": "white",
             "startlinecolor": "#2a3f5f"
            },
            "baxis": {
             "endlinecolor": "#2a3f5f",
             "gridcolor": "white",
             "linecolor": "white",
             "minorgridcolor": "white",
             "startlinecolor": "#2a3f5f"
            },
            "type": "carpet"
           }
          ],
          "choropleth": [
           {
            "colorbar": {
             "outlinewidth": 0,
             "ticks": ""
            },
            "type": "choropleth"
           }
          ],
          "contour": [
           {
            "colorbar": {
             "outlinewidth": 0,
             "ticks": ""
            },
            "colorscale": [
             [
              0,
              "#0d0887"
             ],
             [
              0.1111111111111111,
              "#46039f"
             ],
             [
              0.2222222222222222,
              "#7201a8"
             ],
             [
              0.3333333333333333,
              "#9c179e"
             ],
             [
              0.4444444444444444,
              "#bd3786"
             ],
             [
              0.5555555555555556,
              "#d8576b"
             ],
             [
              0.6666666666666666,
              "#ed7953"
             ],
             [
              0.7777777777777778,
              "#fb9f3a"
             ],
             [
              0.8888888888888888,
              "#fdca26"
             ],
             [
              1,
              "#f0f921"
             ]
            ],
            "type": "contour"
           }
          ],
          "contourcarpet": [
           {
            "colorbar": {
             "outlinewidth": 0,
             "ticks": ""
            },
            "type": "contourcarpet"
           }
          ],
          "heatmap": [
           {
            "colorbar": {
             "outlinewidth": 0,
             "ticks": ""
            },
            "colorscale": [
             [
              0,
              "#0d0887"
             ],
             [
              0.1111111111111111,
              "#46039f"
             ],
             [
              0.2222222222222222,
              "#7201a8"
             ],
             [
              0.3333333333333333,
              "#9c179e"
             ],
             [
              0.4444444444444444,
              "#bd3786"
             ],
             [
              0.5555555555555556,
              "#d8576b"
             ],
             [
              0.6666666666666666,
              "#ed7953"
             ],
             [
              0.7777777777777778,
              "#fb9f3a"
             ],
             [
              0.8888888888888888,
              "#fdca26"
             ],
             [
              1,
              "#f0f921"
             ]
            ],
            "type": "heatmap"
           }
          ],
          "histogram": [
           {
            "marker": {
             "pattern": {
              "fillmode": "overlay",
              "size": 10,
              "solidity": 0.2
             }
            },
            "type": "histogram"
           }
          ],
          "histogram2d": [
           {
            "colorbar": {
             "outlinewidth": 0,
             "ticks": ""
            },
            "colorscale": [
             [
              0,
              "#0d0887"
             ],
             [
              0.1111111111111111,
              "#46039f"
             ],
             [
              0.2222222222222222,
              "#7201a8"
             ],
             [
              0.3333333333333333,
              "#9c179e"
             ],
             [
              0.4444444444444444,
              "#bd3786"
             ],
             [
              0.5555555555555556,
              "#d8576b"
             ],
             [
              0.6666666666666666,
              "#ed7953"
             ],
             [
              0.7777777777777778,
              "#fb9f3a"
             ],
             [
              0.8888888888888888,
              "#fdca26"
             ],
             [
              1,
              "#f0f921"
             ]
            ],
            "type": "histogram2d"
           }
          ],
          "histogram2dcontour": [
           {
            "colorbar": {
             "outlinewidth": 0,
             "ticks": ""
            },
            "colorscale": [
             [
              0,
              "#0d0887"
             ],
             [
              0.1111111111111111,
              "#46039f"
             ],
             [
              0.2222222222222222,
              "#7201a8"
             ],
             [
              0.3333333333333333,
              "#9c179e"
             ],
             [
              0.4444444444444444,
              "#bd3786"
             ],
             [
              0.5555555555555556,
              "#d8576b"
             ],
             [
              0.6666666666666666,
              "#ed7953"
             ],
             [
              0.7777777777777778,
              "#fb9f3a"
             ],
             [
              0.8888888888888888,
              "#fdca26"
             ],
             [
              1,
              "#f0f921"
             ]
            ],
            "type": "histogram2dcontour"
           }
          ],
          "mesh3d": [
           {
            "colorbar": {
             "outlinewidth": 0,
             "ticks": ""
            },
            "type": "mesh3d"
           }
          ],
          "parcoords": [
           {
            "line": {
             "colorbar": {
              "outlinewidth": 0,
              "ticks": ""
             }
            },
            "type": "parcoords"
           }
          ],
          "pie": [
           {
            "automargin": true,
            "type": "pie"
           }
          ],
          "scatter": [
           {
            "fillpattern": {
             "fillmode": "overlay",
             "size": 10,
             "solidity": 0.2
            },
            "type": "scatter"
           }
          ],
          "scatter3d": [
           {
            "line": {
             "colorbar": {
              "outlinewidth": 0,
              "ticks": ""
             }
            },
            "marker": {
             "colorbar": {
              "outlinewidth": 0,
              "ticks": ""
             }
            },
            "type": "scatter3d"
           }
          ],
          "scattercarpet": [
           {
            "marker": {
             "colorbar": {
              "outlinewidth": 0,
              "ticks": ""
             }
            },
            "type": "scattercarpet"
           }
          ],
          "scattergeo": [
           {
            "marker": {
             "colorbar": {
              "outlinewidth": 0,
              "ticks": ""
             }
            },
            "type": "scattergeo"
           }
          ],
          "scattergl": [
           {
            "marker": {
             "colorbar": {
              "outlinewidth": 0,
              "ticks": ""
             }
            },
            "type": "scattergl"
           }
          ],
          "scattermap": [
           {
            "marker": {
             "colorbar": {
              "outlinewidth": 0,
              "ticks": ""
             }
            },
            "type": "scattermap"
           }
          ],
          "scattermapbox": [
           {
            "marker": {
             "colorbar": {
              "outlinewidth": 0,
              "ticks": ""
             }
            },
            "type": "scattermapbox"
           }
          ],
          "scatterpolar": [
           {
            "marker": {
             "colorbar": {
              "outlinewidth": 0,
              "ticks": ""
             }
            },
            "type": "scatterpolar"
           }
          ],
          "scatterpolargl": [
           {
            "marker": {
             "colorbar": {
              "outlinewidth": 0,
              "ticks": ""
             }
            },
            "type": "scatterpolargl"
           }
          ],
          "scatterternary": [
           {
            "marker": {
             "colorbar": {
              "outlinewidth": 0,
              "ticks": ""
             }
            },
            "type": "scatterternary"
           }
          ],
          "surface": [
           {
            "colorbar": {
             "outlinewidth": 0,
             "ticks": ""
            },
            "colorscale": [
             [
              0,
              "#0d0887"
             ],
             [
              0.1111111111111111,
              "#46039f"
             ],
             [
              0.2222222222222222,
              "#7201a8"
             ],
             [
              0.3333333333333333,
              "#9c179e"
             ],
             [
              0.4444444444444444,
              "#bd3786"
             ],
             [
              0.5555555555555556,
              "#d8576b"
             ],
             [
              0.6666666666666666,
              "#ed7953"
             ],
             [
              0.7777777777777778,
              "#fb9f3a"
             ],
             [
              0.8888888888888888,
              "#fdca26"
             ],
             [
              1,
              "#f0f921"
             ]
            ],
            "type": "surface"
           }
          ],
          "table": [
           {
            "cells": {
             "fill": {
              "color": "#EBF0F8"
             },
             "line": {
              "color": "white"
             }
            },
            "header": {
             "fill": {
              "color": "#C8D4E3"
             },
             "line": {
              "color": "white"
             }
            },
            "type": "table"
           }
          ]
         },
         "layout": {
          "annotationdefaults": {
           "arrowcolor": "#2a3f5f",
           "arrowhead": 0,
           "arrowwidth": 1
          },
          "autotypenumbers": "strict",
          "coloraxis": {
           "colorbar": {
            "outlinewidth": 0,
            "ticks": ""
           }
          },
          "colorscale": {
           "diverging": [
            [
             0,
             "#8e0152"
            ],
            [
             0.1,
             "#c51b7d"
            ],
            [
             0.2,
             "#de77ae"
            ],
            [
             0.3,
             "#f1b6da"
            ],
            [
             0.4,
             "#fde0ef"
            ],
            [
             0.5,
             "#f7f7f7"
            ],
            [
             0.6,
             "#e6f5d0"
            ],
            [
             0.7,
             "#b8e186"
            ],
            [
             0.8,
             "#7fbc41"
            ],
            [
             0.9,
             "#4d9221"
            ],
            [
             1,
             "#276419"
            ]
           ],
           "sequential": [
            [
             0,
             "#0d0887"
            ],
            [
             0.1111111111111111,
             "#46039f"
            ],
            [
             0.2222222222222222,
             "#7201a8"
            ],
            [
             0.3333333333333333,
             "#9c179e"
            ],
            [
             0.4444444444444444,
             "#bd3786"
            ],
            [
             0.5555555555555556,
             "#d8576b"
            ],
            [
             0.6666666666666666,
             "#ed7953"
            ],
            [
             0.7777777777777778,
             "#fb9f3a"
            ],
            [
             0.8888888888888888,
             "#fdca26"
            ],
            [
             1,
             "#f0f921"
            ]
           ],
           "sequentialminus": [
            [
             0,
             "#0d0887"
            ],
            [
             0.1111111111111111,
             "#46039f"
            ],
            [
             0.2222222222222222,
             "#7201a8"
            ],
            [
             0.3333333333333333,
             "#9c179e"
            ],
            [
             0.4444444444444444,
             "#bd3786"
            ],
            [
             0.5555555555555556,
             "#d8576b"
            ],
            [
             0.6666666666666666,
             "#ed7953"
            ],
            [
             0.7777777777777778,
             "#fb9f3a"
            ],
            [
             0.8888888888888888,
             "#fdca26"
            ],
            [
             1,
             "#f0f921"
            ]
           ]
          },
          "colorway": [
           "#636efa",
           "#EF553B",
           "#00cc96",
           "#ab63fa",
           "#FFA15A",
           "#19d3f3",
           "#FF6692",
           "#B6E880",
           "#FF97FF",
           "#FECB52"
          ],
          "font": {
           "color": "#2a3f5f"
          },
          "geo": {
           "bgcolor": "white",
           "lakecolor": "white",
           "landcolor": "#E5ECF6",
           "showlakes": true,
           "showland": true,
           "subunitcolor": "white"
          },
          "hoverlabel": {
           "align": "left"
          },
          "hovermode": "closest",
          "mapbox": {
           "style": "light"
          },
          "paper_bgcolor": "white",
          "plot_bgcolor": "#E5ECF6",
          "polar": {
           "angularaxis": {
            "gridcolor": "white",
            "linecolor": "white",
            "ticks": ""
           },
           "bgcolor": "#E5ECF6",
           "radialaxis": {
            "gridcolor": "white",
            "linecolor": "white",
            "ticks": ""
           }
          },
          "scene": {
           "xaxis": {
            "backgroundcolor": "#E5ECF6",
            "gridcolor": "white",
            "gridwidth": 2,
            "linecolor": "white",
            "showbackground": true,
            "ticks": "",
            "zerolinecolor": "white"
           },
           "yaxis": {
            "backgroundcolor": "#E5ECF6",
            "gridcolor": "white",
            "gridwidth": 2,
            "linecolor": "white",
            "showbackground": true,
            "ticks": "",
            "zerolinecolor": "white"
           },
           "zaxis": {
            "backgroundcolor": "#E5ECF6",
            "gridcolor": "white",
            "gridwidth": 2,
            "linecolor": "white",
            "showbackground": true,
            "ticks": "",
            "zerolinecolor": "white"
           }
          },
          "shapedefaults": {
           "line": {
            "color": "#2a3f5f"
           }
          },
          "ternary": {
           "aaxis": {
            "gridcolor": "white",
            "linecolor": "white",
            "ticks": ""
           },
           "baxis": {
            "gridcolor": "white",
            "linecolor": "white",
            "ticks": ""
           },
           "bgcolor": "#E5ECF6",
           "caxis": {
            "gridcolor": "white",
            "linecolor": "white",
            "ticks": ""
           }
          },
          "title": {
           "x": 0.05
          },
          "xaxis": {
           "automargin": true,
           "gridcolor": "white",
           "linecolor": "white",
           "ticks": "",
           "title": {
            "standoff": 15
           },
           "zerolinecolor": "white",
           "zerolinewidth": 2
          },
          "yaxis": {
           "automargin": true,
           "gridcolor": "white",
           "linecolor": "white",
           "ticks": "",
           "title": {
            "standoff": 15
           },
           "zerolinecolor": "white",
           "zerolinewidth": 2
          }
         }
        },
        "title": {
         "text": "Mass Distribution<br>Skewness = 2.59"
        },
        "xaxis": {
         "title": {
          "text": "mass"
         }
        },
        "yaxis": {
         "title": {
          "text": "Density"
         }
        }
       }
      },
      "image/png": "[encoded data removed]"
     },
     "metadata": {},
     "output_type": "display_data"
    },
    {
     "data": {
      "application/vnd.plotly.v1+json": {
       "config": {
        "plotlyServerURL": "https://plot.ly"
       },
       "data": [
        {
         "histnorm": "probability density",
         "name": "Histogram",
         "opacity": 0.6,
         "type": "histogram",
         "x": {
          "bdata": "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",
          "dtype": "f8"
         }
        },
        {
         "mode": "lines",
         "name": "Normal distribution",
         "type": "scatter",
         "x": {
          "bdata": "mpmZmZmZ9T+mMWAaA6YTQHP+LOfP8iBAEuQpQZ4SKECyySabbDIvQKnXkXodKTNAeUqQpwS5NkBJvY7U60g6QBkwjQHT2D1AdNFFF120QEDcCsWtUHxCQERERERERERArH3D2jcMRkAUt0JxK9RHQHzwwQcfnElA5ClBnhJkS0BMY8A0BixNQLScP8v5805ADWvfsPZdUEDBBx988EFRQHWkXkfqJVJAKUGeEuQJU0Dd3d3d3e1TQJF6HanX0VRARRdddNG1VUD5s5w/y5lWQK1Q3ArFfVdAYe0b1r5hWEAViluhuEVZQMkmm2yyKVpAfcPaN6wNW0AxYBoDpvFbQOX8Wc6f1VxAmZmZmZm5XUBNNtlkk51eQAHTGDCNgV9A2jesfcMyYEA0BkxjwKRgQI7U60i9FmFA6KKLLrqIYUBCcSsUt/phQJw/y/mzbGJA9g1r37DeYkBQ3ArFrVBjQKqqqqqqwmNABHlKkKc0ZEBeR+p1pKZkQLgViluhGGVAEuQpQZ6KZUBssskmm/xlQMaAaQyYbmZAIE8J8pTgZkB6HanXkVJnQNTrSL2OxGdALrrooos2aECIiIiIiKhoQOJWKG6FGmlAPCXIU4KMaUCW82c5f/5pQPDBBx98cGpASpCnBHniakCkXkfqdVRrQP4s589yxmtAWPuGtW84bECyySabbKpsQAyYxoBpHG1AZmZmZmaObUDANAZMYwBuQBoDpjFgcm5AdNFFF13kbkDOn+X8WVZvQChuheJWyG9AQZ4S5CkdcEBuheJWKFZwQJtssskmj3BAyFOCPCXIcED1OlKvIwFxQCIiIiIiOnFATwnylCBzcUB88MEHH6xxQKnXkXod5XFA1r5h7RseckADpjFgGldyQDCNAdMYkHJAXXTRRRfJckCKW6G4FQJzQLdCcSsUO3NA5ClBnhJ0c0AREREREa1zQD744IMP5nNAa9+w9g0fdECYxoBpDFh0QMWtUNwKkXRA8pQgTwnKdEAffPDBBwN1QExjwDQGPHVAeUqQpwR1dUCmMWAaA651QNMYMI0B53VAAAAAAAAgdkA=",
          "dtype": "f8"
         },
         "y": {
          "bdata": "FmUu17Vkcz9/yZYcwQN1P8CaqNGGo3Y/S67h/gw/eD+OZq8PD9F5P0teeAUZVHs/1q+67qXCfD+Wkcy/QBd+P/E1YIOmTH8/aMPwXfQugD/gpR5fR6OAP8laDmZaAYE/9l/t35NHgT++36sbvnSBP/NlrSkQiIE/ZSDOqjOBgT9vFqxSR2CBP+OSIgPeJYE/2WRAivrSgD96HuAuCGmAP5TuOLGg038/USfweNuufj//TZkde2h9PyuyuZeeBXw/4t8NZKeLej/Fv6MVFwB5P+rhHbZtaHc/gSVFDQrKdT9wD0fGDCp0P9GxJT0/jXI/RA62jP73cD9Y1wmAVtxuP8DfC6g75ms/D3eTBUATaT8fSgNF1WdmP8nPf3RP52M/dBcanPCTYT8QHJ4x9d1eP/VTQ+OL8Vo/GdWUpbhhVz+9SZ+/KixUP3XQX0BpTVE/wzDLoR2CTT924BggBwRJP4BoG8FmFUU/LylD3n6qQT8C/u1MqG49P4eeghTyXzg/HCKm0JgRND8bwpQ1V20wP4fR999hvCo/wWtryFChJT/uSbH/wGUhP/fX9wG10hs/E5cc2FYeFj/wcIwWKXsRP9I+d6OOeAs/uvAVYIJ1BT/sJ7g7RaoAP6zTqavGu/k+yaZQXqHA8z7o0lHfeiXuPormxznu3uY+mc0oOAJA4T4vFXNmn97ZPmyqXNT8SNM+qvQSVOSVzD50+i6N5g/FPkXb6tRR274+5xk+bat4tj4MPRpv9kSwPqDzHDjEa6c+lNXP6YXCoD6t5c5av9iXPgoXtv6+3ZA+gqMN0Re4hz60sabhvpSAPk+nItIQDHc+Aoj5TR/Zbz5TJW5xc+BlPhvoW/Mp4V0+HO2dwzhJVD6KaQEni2JLPjCyDFlWYEI+eQMeiciEOD6XHxpOA0MwPji2XmT5cSU+6eYMmLcdHD4su4Ga2FISPiz/lhmLvgc+R3oDpt2W/j2v1Gj1x5bzPWSEcdle8eg9CNFiny2T3z1KUP5JZd7TPQ/HIY3/28g9M6HZfhzsvj3wO0IDsh6zPYeLzyi2gac9UYLNwUa7nD0=",
          "dtype": "f8"
         }
        }
       ],
       "layout": {
        "bargap": 0.2,
        "template": {
         "data": {
          "bar": [
           {
            "error_x": {
             "color": "#2a3f5f"
            },
            "error_y": {
             "color": "#2a3f5f"
            },
            "marker": {
             "line": {
              "color": "#E5ECF6",
              "width": 0.5
             },
             "pattern": {
              "fillmode": "overlay",
              "size": 10,
              "solidity": 0.2
             }
            },
            "type": "bar"
           }
          ],
          "barpolar": [
           {
            "marker": {
             "line": {
              "color": "#E5ECF6",
              "width": 0.5
             },
             "pattern": {
              "fillmode": "overlay",
              "size": 10,
              "solidity": 0.2
             }
            },
            "type": "barpolar"
           }
          ],
          "carpet": [
           {
            "aaxis": {
             "endlinecolor": "#2a3f5f",
             "gridcolor": "white",
             "linecolor": "white",
             "minorgridcolor": "white",
             "startlinecolor": "#2a3f5f"
            },
            "baxis": {
             "endlinecolor": "#2a3f5f",
             "gridcolor": "white",
             "linecolor": "white",
             "minorgridcolor": "white",
             "startlinecolor": "#2a3f5f"
            },
            "type": "carpet"
           }
          ],
          "choropleth": [
           {
            "colorbar": {
             "outlinewidth": 0,
             "ticks": ""
            },
            "type": "choropleth"
           }
          ],
          "contour": [
           {
            "colorbar": {
             "outlinewidth": 0,
             "ticks": ""
            },
            "colorscale": [
             [
              0,
              "#0d0887"
             ],
             [
              0.1111111111111111,
              "#46039f"
             ],
             [
              0.2222222222222222,
              "#7201a8"
             ],
             [
              0.3333333333333333,
              "#9c179e"
             ],
             [
              0.4444444444444444,
              "#bd3786"
             ],
             [
              0.5555555555555556,
              "#d8576b"
             ],
             [
              0.6666666666666666,
              "#ed7953"
             ],
             [
              0.7777777777777778,
              "#fb9f3a"
             ],
             [
              0.8888888888888888,
              "#fdca26"
             ],
             [
              1,
              "#f0f921"
             ]
            ],
            "type": "contour"
           }
          ],
          "contourcarpet": [
           {
            "colorbar": {
             "outlinewidth": 0,
             "ticks": ""
            },
            "type": "contourcarpet"
           }
          ],
          "heatmap": [
           {
            "colorbar": {
             "outlinewidth": 0,
             "ticks": ""
            },
            "colorscale": [
             [
              0,
              "#0d0887"
             ],
             [
              0.1111111111111111,
              "#46039f"
             ],
             [
              0.2222222222222222,
              "#7201a8"
             ],
             [
              0.3333333333333333,
              "#9c179e"
             ],
             [
              0.4444444444444444,
              "#bd3786"
             ],
             [
              0.5555555555555556,
              "#d8576b"
             ],
             [
              0.6666666666666666,
              "#ed7953"
             ],
             [
              0.7777777777777778,
              "#fb9f3a"
             ],
             [
              0.8888888888888888,
              "#fdca26"
             ],
             [
              1,
              "#f0f921"
             ]
            ],
            "type": "heatmap"
           }
          ],
          "histogram": [
           {
            "marker": {
             "pattern": {
              "fillmode": "overlay",
              "size": 10,
              "solidity": 0.2
             }
            },
            "type": "histogram"
           }
          ],
          "histogram2d": [
           {
            "colorbar": {
             "outlinewidth": 0,
             "ticks": ""
            },
            "colorscale": [
             [
              0,
              "#0d0887"
             ],
             [
              0.1111111111111111,
              "#46039f"
             ],
             [
              0.2222222222222222,
              "#7201a8"
             ],
             [
              0.3333333333333333,
              "#9c179e"
             ],
             [
              0.4444444444444444,
              "#bd3786"
             ],
             [
              0.5555555555555556,
              "#d8576b"
             ],
             [
              0.6666666666666666,
              "#ed7953"
             ],
             [
              0.7777777777777778,
              "#fb9f3a"
             ],
             [
              0.8888888888888888,
              "#fdca26"
             ],
             [
              1,
              "#f0f921"
             ]
            ],
            "type": "histogram2d"
           }
          ],
          "histogram2dcontour": [
           {
            "colorbar": {
             "outlinewidth": 0,
             "ticks": ""
            },
            "colorscale": [
             [
              0,
              "#0d0887"
             ],
             [
              0.1111111111111111,
              "#46039f"
             ],
             [
              0.2222222222222222,
              "#7201a8"
             ],
             [
              0.3333333333333333,
              "#9c179e"
             ],
             [
              0.4444444444444444,
              "#bd3786"
             ],
             [
              0.5555555555555556,
              "#d8576b"
             ],
             [
              0.6666666666666666,
              "#ed7953"
             ],
             [
              0.7777777777777778,
              "#fb9f3a"
             ],
             [
              0.8888888888888888,
              "#fdca26"
             ],
             [
              1,
              "#f0f921"
             ]
            ],
            "type": "histogram2dcontour"
           }
          ],
          "mesh3d": [
           {
            "colorbar": {
             "outlinewidth": 0,
             "ticks": ""
            },
            "type": "mesh3d"
           }
          ],
          "parcoords": [
           {
            "line": {
             "colorbar": {
              "outlinewidth": 0,
              "ticks": ""
             }
            },
            "type": "parcoords"
           }
          ],
          "pie": [
           {
            "automargin": true,
            "type": "pie"
           }
          ],
          "scatter": [
           {
            "fillpattern": {
             "fillmode": "overlay",
             "size": 10,
             "solidity": 0.2
            },
            "type": "scatter"
           }
          ],
          "scatter3d": [
           {
            "line": {
             "colorbar": {
              "outlinewidth": 0,
              "ticks": ""
             }
            },
            "marker": {
             "colorbar": {
              "outlinewidth": 0,
              "ticks": ""
             }
            },
            "type": "scatter3d"
           }
          ],
          "scattercarpet": [
           {
            "marker": {
             "colorbar": {
              "outlinewidth": 0,
              "ticks": ""
             }
            },
            "type": "scattercarpet"
           }
          ],
          "scattergeo": [
           {
            "marker": {
             "colorbar": {
              "outlinewidth": 0,
              "ticks": ""
             }
            },
            "type": "scattergeo"
           }
          ],
          "scattergl": [
           {
            "marker": {
             "colorbar": {
              "outlinewidth": 0,
              "ticks": ""
             }
            },
            "type": "scattergl"
           }
          ],
          "scattermap": [
           {
            "marker": {
             "colorbar": {
              "outlinewidth": 0,
              "ticks": ""
             }
            },
            "type": "scattermap"
           }
          ],
          "scattermapbox": [
           {
            "marker": {
             "colorbar": {
              "outlinewidth": 0,
              "ticks": ""
             }
            },
            "type": "scattermapbox"
           }
          ],
          "scatterpolar": [
           {
            "marker": {
             "colorbar": {
              "outlinewidth": 0,
              "ticks": ""
             }
            },
            "type": "scatterpolar"
           }
          ],
          "scatterpolargl": [
           {
            "marker": {
             "colorbar": {
              "outlinewidth": 0,
              "ticks": ""
             }
            },
            "type": "scatterpolargl"
           }
          ],
          "scatterternary": [
           {
            "marker": {
             "colorbar": {
              "outlinewidth": 0,
              "ticks": ""
             }
            },
            "type": "scatterternary"
           }
          ],
          "surface": [
           {
            "colorbar": {
             "outlinewidth": 0,
             "ticks": ""
            },
            "colorscale": [
             [
              0,
              "#0d0887"
             ],
             [
              0.1111111111111111,
              "#46039f"
             ],
             [
              0.2222222222222222,
              "#7201a8"
             ],
             [
              0.3333333333333333,
              "#9c179e"
             ],
             [
              0.4444444444444444,
              "#bd3786"
             ],
             [
              0.5555555555555556,
              "#d8576b"
             ],
             [
              0.6666666666666666,
              "#ed7953"
             ],
             [
              0.7777777777777778,
              "#fb9f3a"
             ],
             [
              0.8888888888888888,
              "#fdca26"
             ],
             [
              1,
              "#f0f921"
             ]
            ],
            "type": "surface"
           }
          ],
          "table": [
           {
            "cells": {
             "fill": {
              "color": "#EBF0F8"
             },
             "line": {
              "color": "white"
             }
            },
            "header": {
             "fill": {
              "color": "#C8D4E3"
             },
             "line": {
              "color": "white"
             }
            },
            "type": "table"
           }
          ]
         },
         "layout": {
          "annotationdefaults": {
           "arrowcolor": "#2a3f5f",
           "arrowhead": 0,
           "arrowwidth": 1
          },
          "autotypenumbers": "strict",
          "coloraxis": {
           "colorbar": {
            "outlinewidth": 0,
            "ticks": ""
           }
          },
          "colorscale": {
           "diverging": [
            [
             0,
             "#8e0152"
            ],
            [
             0.1,
             "#c51b7d"
            ],
            [
             0.2,
             "#de77ae"
            ],
            [
             0.3,
             "#f1b6da"
            ],
            [
             0.4,
             "#fde0ef"
            ],
            [
             0.5,
             "#f7f7f7"
            ],
            [
             0.6,
             "#e6f5d0"
            ],
            [
             0.7,
             "#b8e186"
            ],
            [
             0.8,
             "#7fbc41"
            ],
            [
             0.9,
             "#4d9221"
            ],
            [
             1,
             "#276419"
            ]
           ],
           "sequential": [
            [
             0,
             "#0d0887"
            ],
            [
             0.1111111111111111,
             "#46039f"
            ],
            [
             0.2222222222222222,
             "#7201a8"
            ],
            [
             0.3333333333333333,
             "#9c179e"
            ],
            [
             0.4444444444444444,
             "#bd3786"
            ],
            [
             0.5555555555555556,
             "#d8576b"
            ],
            [
             0.6666666666666666,
             "#ed7953"
            ],
            [
             0.7777777777777778,
             "#fb9f3a"
            ],
            [
             0.8888888888888888,
             "#fdca26"
            ],
            [
             1,
             "#f0f921"
            ]
           ],
           "sequentialminus": [
            [
             0,
             "#0d0887"
            ],
            [
             0.1111111111111111,
             "#46039f"
            ],
            [
             0.2222222222222222,
             "#7201a8"
            ],
            [
             0.3333333333333333,
             "#9c179e"
            ],
            [
             0.4444444444444444,
             "#bd3786"
            ],
            [
             0.5555555555555556,
             "#d8576b"
            ],
            [
             0.6666666666666666,
             "#ed7953"
            ],
            [
             0.7777777777777778,
             "#fb9f3a"
            ],
            [
             0.8888888888888888,
             "#fdca26"
            ],
            [
             1,
             "#f0f921"
            ]
           ]
          },
          "colorway": [
           "#636efa",
           "#EF553B",
           "#00cc96",
           "#ab63fa",
           "#FFA15A",
           "#19d3f3",
           "#FF6692",
           "#B6E880",
           "#FF97FF",
           "#FECB52"
          ],
          "font": {
           "color": "#2a3f5f"
          },
          "geo": {
           "bgcolor": "white",
           "lakecolor": "white",
           "landcolor": "#E5ECF6",
           "showlakes": true,
           "showland": true,
           "subunitcolor": "white"
          },
          "hoverlabel": {
           "align": "left"
          },
          "hovermode": "closest",
          "mapbox": {
           "style": "light"
          },
          "paper_bgcolor": "white",
          "plot_bgcolor": "#E5ECF6",
          "polar": {
           "angularaxis": {
            "gridcolor": "white",
            "linecolor": "white",
            "ticks": ""
           },
           "bgcolor": "#E5ECF6",
           "radialaxis": {
            "gridcolor": "white",
            "linecolor": "white",
            "ticks": ""
           }
          },
          "scene": {
           "xaxis": {
            "backgroundcolor": "#E5ECF6",
            "gridcolor": "white",
            "gridwidth": 2,
            "linecolor": "white",
            "showbackground": true,
            "ticks": "",
            "zerolinecolor": "white"
           },
           "yaxis": {
            "backgroundcolor": "#E5ECF6",
            "gridcolor": "white",
            "gridwidth": 2,
            "linecolor": "white",
            "showbackground": true,
            "ticks": "",
            "zerolinecolor": "white"
           },
           "zaxis": {
            "backgroundcolor": "#E5ECF6",
            "gridcolor": "white",
            "gridwidth": 2,
            "linecolor": "white",
            "showbackground": true,
            "ticks": "",
            "zerolinecolor": "white"
           }
          },
          "shapedefaults": {
           "line": {
            "color": "#2a3f5f"
           }
          },
          "ternary": {
           "aaxis": {
            "gridcolor": "white",
            "linecolor": "white",
            "ticks": ""
           },
           "baxis": {
            "gridcolor": "white",
            "linecolor": "white",
            "ticks": ""
           },
           "bgcolor": "#E5ECF6",
           "caxis": {
            "gridcolor": "white",
            "linecolor": "white",
            "ticks": ""
           }
          },
          "title": {
           "x": 0.05
          },
          "xaxis": {
           "automargin": true,
           "gridcolor": "white",
           "linecolor": "white",
           "ticks": "",
           "title": {
            "standoff": 15
           },
           "zerolinecolor": "white",
           "zerolinewidth": 2
          },
          "yaxis": {
           "automargin": true,
           "gridcolor": "white",
           "linecolor": "white",
           "ticks": "",
           "title": {
            "standoff": 15
           },
           "zerolinecolor": "white",
           "zerolinewidth": 2
          }
         }
        },
        "title": {
         "text": "Distance Distribution<br>Skewness = 2.80"
        },
        "xaxis": {
         "title": {
          "text": "distance"
         }
        },
        "yaxis": {
         "title": {
          "text": "Density"
         }
        }
       }
      },
      "image/png": "[encoded data removed]"
     },
     "metadata": {},
     "output_type": "display_data"
    },
    {
     "data": {
      "application/vnd.plotly.v1+json": {
       "config": {
        "plotlyServerURL": "https://plot.ly"
       },
       "data": [
        {
         "histnorm": "probability density",
         "name": "Histogram",
         "opacity": 0.6,
         "type": "histogram",
         "x": {
          "bdata": "1gfYB9sH1wfZB9gH0gfYB9oH2gfZB9gHzAfRB9kHywfMB9QH0gfXB9kH2QfZB9gH3QfaB9wH0AfWB9kH0wfXB90HzQfMB90HzAfPB88H2gfYB9kH2QfdB90H2QfdB88H3QfdB90H2QfXB9sH3QfbB9UH1QfVB9UH2QfbB9sH3QfdB90H3QfXB9oH3AfcB9gH1gfOB9AH1QfaB9AH2gfZB9oH2wfRB9wH2QfbB9sH2gfSB9UH3QfTB9cH0QfVB9EH2QfcB9wH1wfZB9sH0wfZB9sH2wfbB9gH2gfSB9kH2QfZB9oH2gfaB9oH2gfaB9YHzwfXB9gH1QfVB9gH0AfSB9UH2wfbB90H3QfZB9AH2AfZB9kH2wfTB9sH2wfSB9sH2wfbB9sH2wfWB9gH2wfbB9YH0QfbB9MH1gfaB9AH3AfVB9oH0QfbB9IH2QfbB9oH2wfbB9sH2wfWB9kH2QfVB9IH0gfVB9EH1AfcB9sH2wfbB9AH0AfZB9sH2AfYB9gH3AfcB9wH0gfUB9MH3QfdB9oH2AfXB9oH2wfYB9gH1AfYB9AH2AfYB9IH2AfYB9IH1QfSB9sH2wfQB9MH2AfYB9UH1gfZB9MH2wfcB9UH0QfWB9YH1gfTB9IH2AfTB9IH1QfYB9MH0wfXB88H1wfSB9sH1QfXB9sH0gfZB9sH1gfZB9kH2QfUB9kHzwfZB9AH1QfbB9sH2QfbB9kH2wfbB9sH2gfbB9wH1QfUB9oH2wfbB9cH1QfVB9YH2AfYB9oH2wfaB9kH3QfZB9MH0gfbB9wH1QfSB9sH0gfVB9oH3QfdB9UH2QfTB90H2gfaB9MH3gfFB9EH0gfbB9QH1AfVB90H0wfTB9cH2QfZB9kH2QfbB9IH1QfZB88H2wfYB9cH2wfbB9sHzwfZB9sH2wfbB9kH2wfbB9sH2wfYB9IH1QfbB9MH2AfaB9gH2QfZB9MH2QfZB9UH2QfbB9kH2wfYB9sH1gfYB9QH3gfXB9cH2wfZB9oH1wfbB9sH3QfdB9YH3AfUB9IH2gfaB9oH2QfVB9wH1wfOB9AH0gfQB9MH1wfZB9gH2QfXB88H2gfRB9gH0AfZB9kH2AfYB9gH2QfUB9gH1gfWB84HzwfUB9sH0gfTB9UH1wfZB88H2wfbB9cHzwfSB9wH1wfbB9oH2gfSB9QH2QfbB9wH2wfYB9kH1AfcB84H1QfZB9EH2wfbB9sH2wfZB9kH0gfSB9MHzgfVB9oH2gfcB9cH3AfcB9sH1wfbB88H1gfXB9sH2QfYB9QH2QfaB9oH1QfWB9kH2gfbB9sH2wfdB9kH0gfZB90HzwfdB9wH",
          "dtype": "i2"
         }
        },
        {
         "mode": "lines",
         "name": "Normal distribution",
         "type": "scatter",
         "x": {
          "bdata": "AAAAAAAUn0AK1PqVAhWfQBWo9SsFFp9AH3zwwQcXn0ApUOtXChifQDQk5u0MGZ9APvjggw8an0BIzNsZEhufQFOg1q8UHJ9AXXTRRRcdn0BnSMzbGR6fQHIcx3EcH59AfPDBBx8gn0CGxLydISGfQJGYtzMkIp9Am2yyySYjn0ClQK1fKSSfQLAUqPUrJZ9Auuiiiy4mn0DFvJ0hMSefQM+QmLczKJ9A2WSTTTYpn0DkOI7jOCqfQO4MiXk7K59A+OCDDz4sn0ADtX6lQC2fQA2JeTtDLp9AF1100UUvn0AiMW9nSDCfQCwFav1KMZ9ANtlkk00yn0BBrV8pUDOfQEuBWr9SNJ9AVVVVVVU1n0BgKVDrVzafQGr9SoFaN59AdNFFF104n0B/pUCtXzmfQIl5O0NiOp9Ak0022WQ7n0CeITFvZzyfQKj1KwVqPZ9Asskmm2w+n0C9nSExbz+fQMdxHMdxQJ9A0UUXXXRBn0DcGRLzdkKfQObtDIl5Q59A8MEHH3xEn0D7lQK1fkWfQAVq/UqBRp9AED744INHn0AaEvN2hkifQCTm7QyJSZ9AL7roootKn0A5juM4jkufQENi3s6QTJ9ATjbZZJNNn0BYCtT6lU6fQGLezpCYT59AbbLJJptQn0B3hsS8nVGfQIFav1KgUp9AjC666KJTn0CWArV+pVSfQKDWrxSoVZ9Aq6qqqqpWn0C1fqVArVefQL9SoNavWJ9AyiabbLJZn0DU+pUCtVqfQN7OkJi3W59A6aKLLrpcn0DzdobEvF2fQP1KgVq/Xp9ACB988MFfn0AS83aGxGCfQBzHcRzHYZ9AJ5tssslin0Axb2dIzGOfQDtDYt7OZJ9ARhdddNFln0BQ61cK1GafQFu/UqDWZ59AZZNNNtlon0BvZ0jM22mfQHo7Q2Leap9AhA8++OBrn0CO4ziO42yfQJm3MyTmbZ9Ao4suuuhun0CtXylQ62+fQLgzJObtcJ9AwgcffPBxn0DM2xkS83KfQNevFKj1c59A4YMPPvh0n0DrVwrU+nWfQPYrBWr9dp9AAAAAAAB4n0A=",
          "dtype": "f8"
         },
         "y": {
          "bdata": "q9B6QBkH2D4L3t1QsVTfPn2drW0aWuQ+wUVR+vlX6j6JzH1Ft/zwPgVoBT3O0/U+CmCys6Lx+z7QI5DsVtIBP2zL2p8SpgY/3E7YyICtDD9BZDz32xYSP2h95BqtvBY/orFRLWF5HD/F4ZF/m8MhP8Q4/HFpFSY/OkIoi1haKz+eO3k1reAwP4lsLFx0wDQ/m84mP/JrOT94xY26Pgc/PyeQgFnH3UI/LcXCttTbRj8eyDJQLZhLP4+PHXE3mFA/pfdXqM/iUz8hiYuhKr5XP/8azEdrPlw/Vu0ybcq8YD+Iy23dxcNjP+8OaGMGQWc/wk682UxCaz861ktzLNZvP0vpN9f5hXI/Q9wp1MZ5dT+uWd6hrc54P6Q6i9wBjXw/4xBMFI9egD+JFCPQobOCP5TzgnW6SYU/6igPnaYkiD9wAtTF6UeLPzsNRV6lto4/GwTBxr85kT9SfQeVRECTP/kAaq+Rb5U/68CsyPLHlz80pP0VQkmaP2MKs33c8pw/FPSn65bDnz82po+U2lyhP6PCrUpx6aI/Cxg2jBaGpD/+PXdRATGmP0axyMEY6Kc/mAwT5/WoqT+KUwgA53CrP3ylq330PK0/InpjrucJrz+E58yGKWqwP848mhFOTLE/5ygpaYMpsj9Vqo714P+yPy8CR2R6zbM/8Z+M3GaQtD/twWl0yEa1Pwlver7T7rU/gJ0SRteGtj/yAWfOQg23P88ZgimugLc/g6BDfd/ftz9IBWTP0Cm4P7FgaLW0Xbg/qv+CCvp6uD8JCmOTToG4P5xUw36gcLg/zK/luB5JuD/dxtcPOAu4P0xVIC6Zt7c/cfMFeSlPtz94lsTmBtO2P/wzgeeARLY/Q7BngRKltT8rvvLEW/a0PwGhxsEaOrQ/H0exJiRysz/NBUK4W6CyP5doBMmsxrE/wLHJ3ALnsD8OD62dQgOwP87RgouGOq4/aEqNN5FtrD9bAR44+6KqP1aSLcLf3ag/z7vashchpz8jkEOlM2+lPwCyQLZ3yqM/J0H77tg0oj9YB2lF/K+gP2rmAjJuep4/kCJQFSK7mz8=",
          "dtype": "f8"
         }
        }
       ],
       "layout": {
        "bargap": 0.2,
        "template": {
         "data": {
          "bar": [
           {
            "error_x": {
             "color": "#2a3f5f"
            },
            "error_y": {
             "color": "#2a3f5f"
            },
            "marker": {
             "line": {
              "color": "#E5ECF6",
              "width": 0.5
             },
             "pattern": {
              "fillmode": "overlay",
              "size": 10,
              "solidity": 0.2
             }
            },
            "type": "bar"
           }
          ],
          "barpolar": [
           {
            "marker": {
             "line": {
              "color": "#E5ECF6",
              "width": 0.5
             },
             "pattern": {
              "fillmode": "overlay",
              "size": 10,
              "solidity": 0.2
             }
            },
            "type": "barpolar"
           }
          ],
          "carpet": [
           {
            "aaxis": {
             "endlinecolor": "#2a3f5f",
             "gridcolor": "white",
             "linecolor": "white",
             "minorgridcolor": "white",
             "startlinecolor": "#2a3f5f"
            },
            "baxis": {
             "endlinecolor": "#2a3f5f",
             "gridcolor": "white",
             "linecolor": "white",
             "minorgridcolor": "white",
             "startlinecolor": "#2a3f5f"
            },
            "type": "carpet"
           }
          ],
          "choropleth": [
           {
            "colorbar": {
             "outlinewidth": 0,
             "ticks": ""
            },
            "type": "choropleth"
           }
          ],
          "contour": [
           {
            "colorbar": {
             "outlinewidth": 0,
             "ticks": ""
            },
            "colorscale": [
             [
              0,
              "#0d0887"
             ],
             [
              0.1111111111111111,
              "#46039f"
             ],
             [
              0.2222222222222222,
              "#7201a8"
             ],
             [
              0.3333333333333333,
              "#9c179e"
             ],
             [
              0.4444444444444444,
              "#bd3786"
             ],
             [
              0.5555555555555556,
              "#d8576b"
             ],
             [
              0.6666666666666666,
              "#ed7953"
             ],
             [
              0.7777777777777778,
              "#fb9f3a"
             ],
             [
              0.8888888888888888,
              "#fdca26"
             ],
             [
              1,
              "#f0f921"
             ]
            ],
            "type": "contour"
           }
          ],
          "contourcarpet": [
           {
            "colorbar": {
             "outlinewidth": 0,
             "ticks": ""
            },
            "type": "contourcarpet"
           }
          ],
          "heatmap": [
           {
            "colorbar": {
             "outlinewidth": 0,
             "ticks": ""
            },
            "colorscale": [
             [
              0,
              "#0d0887"
             ],
             [
              0.1111111111111111,
              "#46039f"
             ],
             [
              0.2222222222222222,
              "#7201a8"
             ],
             [
              0.3333333333333333,
              "#9c179e"
             ],
             [
              0.4444444444444444,
              "#bd3786"
             ],
             [
              0.5555555555555556,
              "#d8576b"
             ],
             [
              0.6666666666666666,
              "#ed7953"
             ],
             [
              0.7777777777777778,
              "#fb9f3a"
             ],
             [
              0.8888888888888888,
              "#fdca26"
             ],
             [
              1,
              "#f0f921"
             ]
            ],
            "type": "heatmap"
           }
          ],
          "histogram": [
           {
            "marker": {
             "pattern": {
              "fillmode": "overlay",
              "size": 10,
              "solidity": 0.2
             }
            },
            "type": "histogram"
           }
          ],
          "histogram2d": [
           {
            "colorbar": {
             "outlinewidth": 0,
             "ticks": ""
            },
            "colorscale": [
             [
              0,
              "#0d0887"
             ],
             [
              0.1111111111111111,
              "#46039f"
             ],
             [
              0.2222222222222222,
              "#7201a8"
             ],
             [
              0.3333333333333333,
              "#9c179e"
             ],
             [
              0.4444444444444444,
              "#bd3786"
             ],
             [
              0.5555555555555556,
              "#d8576b"
             ],
             [
              0.6666666666666666,
              "#ed7953"
             ],
             [
              0.7777777777777778,
              "#fb9f3a"
             ],
             [
              0.8888888888888888,
              "#fdca26"
             ],
             [
              1,
              "#f0f921"
             ]
            ],
            "type": "histogram2d"
           }
          ],
          "histogram2dcontour": [
           {
            "colorbar": {
             "outlinewidth": 0,
             "ticks": ""
            },
            "colorscale": [
             [
              0,
              "#0d0887"
             ],
             [
              0.1111111111111111,
              "#46039f"
             ],
             [
              0.2222222222222222,
              "#7201a8"
             ],
             [
              0.3333333333333333,
              "#9c179e"
             ],
             [
              0.4444444444444444,
              "#bd3786"
             ],
             [
              0.5555555555555556,
              "#d8576b"
             ],
             [
              0.6666666666666666,
              "#ed7953"
             ],
             [
              0.7777777777777778,
              "#fb9f3a"
             ],
             [
              0.8888888888888888,
              "#fdca26"
             ],
             [
              1,
              "#f0f921"
             ]
            ],
            "type": "histogram2dcontour"
           }
          ],
          "mesh3d": [
           {
            "colorbar": {
             "outlinewidth": 0,
             "ticks": ""
            },
            "type": "mesh3d"
           }
          ],
          "parcoords": [
           {
            "line": {
             "colorbar": {
              "outlinewidth": 0,
              "ticks": ""
             }
            },
            "type": "parcoords"
           }
          ],
          "pie": [
           {
            "automargin": true,
            "type": "pie"
           }
          ],
          "scatter": [
           {
            "fillpattern": {
             "fillmode": "overlay",
             "size": 10,
             "solidity": 0.2
            },
            "type": "scatter"
           }
          ],
          "scatter3d": [
           {
            "line": {
             "colorbar": {
              "outlinewidth": 0,
              "ticks": ""
             }
            },
            "marker": {
             "colorbar": {
              "outlinewidth": 0,
              "ticks": ""
             }
            },
            "type": "scatter3d"
           }
          ],
          "scattercarpet": [
           {
            "marker": {
             "colorbar": {
              "outlinewidth": 0,
              "ticks": ""
             }
            },
            "type": "scattercarpet"
           }
          ],
          "scattergeo": [
           {
            "marker": {
             "colorbar": {
              "outlinewidth": 0,
              "ticks": ""
             }
            },
            "type": "scattergeo"
           }
          ],
          "scattergl": [
           {
            "marker": {
             "colorbar": {
              "outlinewidth": 0,
              "ticks": ""
             }
            },
            "type": "scattergl"
           }
          ],
          "scattermap": [
           {
            "marker": {
             "colorbar": {
              "outlinewidth": 0,
              "ticks": ""
             }
            },
            "type": "scattermap"
           }
          ],
          "scattermapbox": [
           {
            "marker": {
             "colorbar": {
              "outlinewidth": 0,
              "ticks": ""
             }
            },
            "type": "scattermapbox"
           }
          ],
          "scatterpolar": [
           {
            "marker": {
             "colorbar": {
              "outlinewidth": 0,
              "ticks": ""
             }
            },
            "type": "scatterpolar"
           }
          ],
          "scatterpolargl": [
           {
            "marker": {
             "colorbar": {
              "outlinewidth": 0,
              "ticks": ""
             }
            },
            "type": "scatterpolargl"
           }
          ],
          "scatterternary": [
           {
            "marker": {
             "colorbar": {
              "outlinewidth": 0,
              "ticks": ""
             }
            },
            "type": "scatterternary"
           }
          ],
          "surface": [
           {
            "colorbar": {
             "outlinewidth": 0,
             "ticks": ""
            },
            "colorscale": [
             [
              0,
              "#0d0887"
             ],
             [
              0.1111111111111111,
              "#46039f"
             ],
             [
              0.2222222222222222,
              "#7201a8"
             ],
             [
              0.3333333333333333,
              "#9c179e"
             ],
             [
              0.4444444444444444,
              "#bd3786"
             ],
             [
              0.5555555555555556,
              "#d8576b"
             ],
             [
              0.6666666666666666,
              "#ed7953"
             ],
             [
              0.7777777777777778,
              "#fb9f3a"
             ],
             [
              0.8888888888888888,
              "#fdca26"
             ],
             [
              1,
              "#f0f921"
             ]
            ],
            "type": "surface"
           }
          ],
          "table": [
           {
            "cells": {
             "fill": {
              "color": "#EBF0F8"
             },
             "line": {
              "color": "white"
             }
            },
            "header": {
             "fill": {
              "color": "#C8D4E3"
             },
             "line": {
              "color": "white"
             }
            },
            "type": "table"
           }
          ]
         },
         "layout": {
          "annotationdefaults": {
           "arrowcolor": "#2a3f5f",
           "arrowhead": 0,
           "arrowwidth": 1
          },
          "autotypenumbers": "strict",
          "coloraxis": {
           "colorbar": {
            "outlinewidth": 0,
            "ticks": ""
           }
          },
          "colorscale": {
           "diverging": [
            [
             0,
             "#8e0152"
            ],
            [
             0.1,
             "#c51b7d"
            ],
            [
             0.2,
             "#de77ae"
            ],
            [
             0.3,
             "#f1b6da"
            ],
            [
             0.4,
             "#fde0ef"
            ],
            [
             0.5,
             "#f7f7f7"
            ],
            [
             0.6,
             "#e6f5d0"
            ],
            [
             0.7,
             "#b8e186"
            ],
            [
             0.8,
             "#7fbc41"
            ],
            [
             0.9,
             "#4d9221"
            ],
            [
             1,
             "#276419"
            ]
           ],
           "sequential": [
            [
             0,
             "#0d0887"
            ],
            [
             0.1111111111111111,
             "#46039f"
            ],
            [
             0.2222222222222222,
             "#7201a8"
            ],
            [
             0.3333333333333333,
             "#9c179e"
            ],
            [
             0.4444444444444444,
             "#bd3786"
            ],
            [
             0.5555555555555556,
             "#d8576b"
            ],
            [
             0.6666666666666666,
             "#ed7953"
            ],
            [
             0.7777777777777778,
             "#fb9f3a"
            ],
            [
             0.8888888888888888,
             "#fdca26"
            ],
            [
             1,
             "#f0f921"
            ]
           ],
           "sequentialminus": [
            [
             0,
             "#0d0887"
            ],
            [
             0.1111111111111111,
             "#46039f"
            ],
            [
             0.2222222222222222,
             "#7201a8"
            ],
            [
             0.3333333333333333,
             "#9c179e"
            ],
            [
             0.4444444444444444,
             "#bd3786"
            ],
            [
             0.5555555555555556,
             "#d8576b"
            ],
            [
             0.6666666666666666,
             "#ed7953"
            ],
            [
             0.7777777777777778,
             "#fb9f3a"
            ],
            [
             0.8888888888888888,
             "#fdca26"
            ],
            [
             1,
             "#f0f921"
            ]
           ]
          },
          "colorway": [
           "#636efa",
           "#EF553B",
           "#00cc96",
           "#ab63fa",
           "#FFA15A",
           "#19d3f3",
           "#FF6692",
           "#B6E880",
           "#FF97FF",
           "#FECB52"
          ],
          "font": {
           "color": "#2a3f5f"
          },
          "geo": {
           "bgcolor": "white",
           "lakecolor": "white",
           "landcolor": "#E5ECF6",
           "showlakes": true,
           "showland": true,
           "subunitcolor": "white"
          },
          "hoverlabel": {
           "align": "left"
          },
          "hovermode": "closest",
          "mapbox": {
           "style": "light"
          },
          "paper_bgcolor": "white",
          "plot_bgcolor": "#E5ECF6",
          "polar": {
           "angularaxis": {
            "gridcolor": "white",
            "linecolor": "white",
            "ticks": ""
           },
           "bgcolor": "#E5ECF6",
           "radialaxis": {
            "gridcolor": "white",
            "linecolor": "white",
            "ticks": ""
           }
          },
          "scene": {
           "xaxis": {
            "backgroundcolor": "#E5ECF6",
            "gridcolor": "white",
            "gridwidth": 2,
            "linecolor": "white",
            "showbackground": true,
            "ticks": "",
            "zerolinecolor": "white"
           },
           "yaxis": {
            "backgroundcolor": "#E5ECF6",
            "gridcolor": "white",
            "gridwidth": 2,
            "linecolor": "white",
            "showbackground": true,
            "ticks": "",
            "zerolinecolor": "white"
           },
           "zaxis": {
            "backgroundcolor": "#E5ECF6",
            "gridcolor": "white",
            "gridwidth": 2,
            "linecolor": "white",
            "showbackground": true,
            "ticks": "",
            "zerolinecolor": "white"
           }
          },
          "shapedefaults": {
           "line": {
            "color": "#2a3f5f"
           }
          },
          "ternary": {
           "aaxis": {
            "gridcolor": "white",
            "linecolor": "white",
            "ticks": ""
           },
           "baxis": {
            "gridcolor": "white",
            "linecolor": "white",
            "ticks": ""
           },
           "bgcolor": "#E5ECF6",
           "caxis": {
            "gridcolor": "white",
            "linecolor": "white",
            "ticks": ""
           }
          },
          "title": {
           "x": 0.05
          },
          "xaxis": {
           "automargin": true,
           "gridcolor": "white",
           "linecolor": "white",
           "ticks": "",
           "title": {
            "standoff": 15
           },
           "zerolinecolor": "white",
           "zerolinewidth": 2
          },
          "yaxis": {
           "automargin": true,
           "gridcolor": "white",
           "linecolor": "white",
           "ticks": "",
           "title": {
            "standoff": 15
           },
           "zerolinecolor": "white",
           "zerolinewidth": 2
          }
         }
        },
        "title": {
         "text": "Year Distribution<br>Skewness = -0.85"
        },
        "xaxis": {
         "title": {
          "text": "year"
         }
        },
        "yaxis": {
         "title": {
          "text": "Density"
         }
        }
       }
      },
      "image/png": "[encoded data removed]"
     },
     "metadata": {},
     "output_type": "display_data"
    }
   ],
   "source": [
    "for col in numeric_cols:\n",
    "    x = df[col]\n",
    "    mean, std = x.mean(), x.std()\n",
    "\n",
    "    # plotting histogram with density curve (mix of normal distribution and ...)\n",
    "    hist = go.Histogram(x=x, histnorm='probability density', name='Histogram', opacity=0.6)\n",
    "    x_range = np.linspace(x.min(), x.max(), 100)\n",
    "\n",
    "    normal_curve = go.Scatter(\n",
    "        x=x_range,\n",
    "        y=norm.pdf(x_range, mean, std),mode='lines',name='Normal distribution'\n",
    "    )\n",
    "\n",
    "    layout = go.Layout(\n",
    "        title=f'{col.capitalize()} Distribution<br>Skewness = {x.skew():.2f}',\n",
    "        xaxis_title=col,\n",
    "        yaxis_title='Density',\n",
    "        bargap=0.2\n",
    "       \n",
    "    )\n",
    "\n",
    "    fig = go.Figure(data=[hist, normal_curve], layout=layout)\n",
    "    fig.show()"
   ]
  },
  {
   "cell_type": "code",
   "execution_count": 9,
   "id": "d1e68846-01ac-4712-922f-b5d40b07bfd0",
   "metadata": {},
   "outputs": [
    {
     "data": {
      "text/html": [
       "<div>\n",
       "<style scoped>\n",
       "    .dataframe tbody tr th:only-of-type {\n",
       "        vertical-align: middle;\n",
       "    }\n",
       "\n",
       "    .dataframe tbody tr th {\n",
       "        vertical-align: top;\n",
       "    }\n",
       "\n",
       "    .dataframe thead th {\n",
       "        text-align: right;\n",
       "    }\n",
       "</style>\n",
       "<table border=\"1\" class=\"dataframe\">\n",
       "  <thead>\n",
       "    <tr style=\"text-align: right;\">\n",
       "      <th></th>\n",
       "      <th>number</th>\n",
       "      <th>orbital_period</th>\n",
       "      <th>mass</th>\n",
       "      <th>distance</th>\n",
       "      <th>year</th>\n",
       "    </tr>\n",
       "  </thead>\n",
       "  <tbody>\n",
       "    <tr>\n",
       "      <th>number</th>\n",
       "      <td>1.000000</td>\n",
       "      <td>-0.059435</td>\n",
       "      <td>-0.249915</td>\n",
       "      <td>-0.288808</td>\n",
       "      <td>0.110399</td>\n",
       "    </tr>\n",
       "    <tr>\n",
       "      <th>orbital_period</th>\n",
       "      <td>-0.059435</td>\n",
       "      <td>1.000000</td>\n",
       "      <td>0.184906</td>\n",
       "      <td>-0.035069</td>\n",
       "      <td>0.070186</td>\n",
       "    </tr>\n",
       "    <tr>\n",
       "      <th>mass</th>\n",
       "      <td>-0.249915</td>\n",
       "      <td>0.184906</td>\n",
       "      <td>1.000000</td>\n",
       "      <td>0.274082</td>\n",
       "      <td>-0.137946</td>\n",
       "    </tr>\n",
       "    <tr>\n",
       "      <th>distance</th>\n",
       "      <td>-0.288808</td>\n",
       "      <td>-0.035069</td>\n",
       "      <td>0.274082</td>\n",
       "      <td>1.000000</td>\n",
       "      <td>0.193087</td>\n",
       "    </tr>\n",
       "    <tr>\n",
       "      <th>year</th>\n",
       "      <td>0.110399</td>\n",
       "      <td>0.070186</td>\n",
       "      <td>-0.137946</td>\n",
       "      <td>0.193087</td>\n",
       "      <td>1.000000</td>\n",
       "    </tr>\n",
       "  </tbody>\n",
       "</table>\n",
       "</div>"
      ],
      "text/plain": [
       "                  number  orbital_period      mass  distance      year\n",
       "number          1.000000       -0.059435 -0.249915 -0.288808  0.110399\n",
       "orbital_period -0.059435        1.000000  0.184906 -0.035069  0.070186\n",
       "mass           -0.249915        0.184906  1.000000  0.274082 -0.137946\n",
       "distance       -0.288808       -0.035069  0.274082  1.000000  0.193087\n",
       "year            0.110399        0.070186 -0.137946  0.193087  1.000000"
      ]
     },
     "execution_count": 9,
     "metadata": {},
     "output_type": "execute_result"
    }
   ],
   "source": [
    "corr_matrix = df[numeric_cols].corr()\n",
    "corr_matrix"
   ]
  },
  {
   "cell_type": "code",
   "execution_count": 10,
   "id": "c563ecd9-bb8f-480a-a855-05b1b767734d",
   "metadata": {},
   "outputs": [
    {
     "data": {
      "application/vnd.plotly.v1+json": {
       "config": {
        "plotlyServerURL": "https://plot.ly"
       },
       "data": [
        {
         "coloraxis": "coloraxis",
         "hovertemplate": "x: %{x}<br>y: %{y}<br>color: %{z}<extra></extra>",
         "name": "0",
         "texttemplate": "%{z}",
         "type": "heatmap",
         "x": [
          "number",
          "orbital_period",
          "mass",
          "distance",
          "year"
         ],
         "xaxis": "x",
         "y": [
          "number",
          "orbital_period",
          "mass",
          "distance",
          "year"
         ],
         "yaxis": "y",
         "z": {
          "bdata": "AAAAAAAA8D8F1VWWRm6uvwa3RQI7/c+/ZmeXCtR70r82EUZgIUO8PwXVVZZGbq6/AAAAAAAA8D+qJdyCAavHP/2lx8mI9KG/tKTqELv3sT8Gt0UCO/3Pv6ol3IIBq8c/AAAAAAAA8D9dYdIekYrRP7yHNR0zqMG/ZmeXCtR70r/9pcfJiPShv11h0h6RitE/AAAAAAAA8D/qGMQYD7fIPzYRRmAhQ7w/tKTqELv3sT+8hzUdM6jBv+oYxBgPt8g/AAAAAAAA8D8=",
          "dtype": "f8",
          "shape": "5, 5"
         }
        }
       ],
       "layout": {
        "coloraxis": {
         "colorscale": [
          [
           0,
           "rgb(103,0,31)"
          ],
          [
           0.1,
           "rgb(178,24,43)"
          ],
          [
           0.2,
           "rgb(214,96,77)"
          ],
          [
           0.3,
           "rgb(244,165,130)"
          ],
          [
           0.4,
           "rgb(253,219,199)"
          ],
          [
           0.5,
           "rgb(247,247,247)"
          ],
          [
           0.6,
           "rgb(209,229,240)"
          ],
          [
           0.7,
           "rgb(146,197,222)"
          ],
          [
           0.8,
           "rgb(67,147,195)"
          ],
          [
           0.9,
           "rgb(33,102,172)"
          ],
          [
           1,
           "rgb(5,48,97)"
          ]
         ]
        },
        "margin": {
         "b": 50,
         "l": 60,
         "r": 60,
         "t": 50
        },
        "template": {
         "data": {
          "bar": [
           {
            "error_x": {
             "color": "#2a3f5f"
            },
            "error_y": {
             "color": "#2a3f5f"
            },
            "marker": {
             "line": {
              "color": "#E5ECF6",
              "width": 0.5
             },
             "pattern": {
              "fillmode": "overlay",
              "size": 10,
              "solidity": 0.2
             }
            },
            "type": "bar"
           }
          ],
          "barpolar": [
           {
            "marker": {
             "line": {
              "color": "#E5ECF6",
              "width": 0.5
             },
             "pattern": {
              "fillmode": "overlay",
              "size": 10,
              "solidity": 0.2
             }
            },
            "type": "barpolar"
           }
          ],
          "carpet": [
           {
            "aaxis": {
             "endlinecolor": "#2a3f5f",
             "gridcolor": "white",
             "linecolor": "white",
             "minorgridcolor": "white",
             "startlinecolor": "#2a3f5f"
            },
            "baxis": {
             "endlinecolor": "#2a3f5f",
             "gridcolor": "white",
             "linecolor": "white",
             "minorgridcolor": "white",
             "startlinecolor": "#2a3f5f"
            },
            "type": "carpet"
           }
          ],
          "choropleth": [
           {
            "colorbar": {
             "outlinewidth": 0,
             "ticks": ""
            },
            "type": "choropleth"
           }
          ],
          "contour": [
           {
            "colorbar": {
             "outlinewidth": 0,
             "ticks": ""
            },
            "colorscale": [
             [
              0,
              "#0d0887"
             ],
             [
              0.1111111111111111,
              "#46039f"
             ],
             [
              0.2222222222222222,
              "#7201a8"
             ],
             [
              0.3333333333333333,
              "#9c179e"
             ],
             [
              0.4444444444444444,
              "#bd3786"
             ],
             [
              0.5555555555555556,
              "#d8576b"
             ],
             [
              0.6666666666666666,
              "#ed7953"
             ],
             [
              0.7777777777777778,
              "#fb9f3a"
             ],
             [
              0.8888888888888888,
              "#fdca26"
             ],
             [
              1,
              "#f0f921"
             ]
            ],
            "type": "contour"
           }
          ],
          "contourcarpet": [
           {
            "colorbar": {
             "outlinewidth": 0,
             "ticks": ""
            },
            "type": "contourcarpet"
           }
          ],
          "heatmap": [
           {
            "colorbar": {
             "outlinewidth": 0,
             "ticks": ""
            },
            "colorscale": [
             [
              0,
              "#0d0887"
             ],
             [
              0.1111111111111111,
              "#46039f"
             ],
             [
              0.2222222222222222,
              "#7201a8"
             ],
             [
              0.3333333333333333,
              "#9c179e"
             ],
             [
              0.4444444444444444,
              "#bd3786"
             ],
             [
              0.5555555555555556,
              "#d8576b"
             ],
             [
              0.6666666666666666,
              "#ed7953"
             ],
             [
              0.7777777777777778,
              "#fb9f3a"
             ],
             [
              0.8888888888888888,
              "#fdca26"
             ],
             [
              1,
              "#f0f921"
             ]
            ],
            "type": "heatmap"
           }
          ],
          "histogram": [
           {
            "marker": {
             "pattern": {
              "fillmode": "overlay",
              "size": 10,
              "solidity": 0.2
             }
            },
            "type": "histogram"
           }
          ],
          "histogram2d": [
           {
            "colorbar": {
             "outlinewidth": 0,
             "ticks": ""
            },
            "colorscale": [
             [
              0,
              "#0d0887"
             ],
             [
              0.1111111111111111,
              "#46039f"
             ],
             [
              0.2222222222222222,
              "#7201a8"
             ],
             [
              0.3333333333333333,
              "#9c179e"
             ],
             [
              0.4444444444444444,
              "#bd3786"
             ],
             [
              0.5555555555555556,
              "#d8576b"
             ],
             [
              0.6666666666666666,
              "#ed7953"
             ],
             [
              0.7777777777777778,
              "#fb9f3a"
             ],
             [
              0.8888888888888888,
              "#fdca26"
             ],
             [
              1,
              "#f0f921"
             ]
            ],
            "type": "histogram2d"
           }
          ],
          "histogram2dcontour": [
           {
            "colorbar": {
             "outlinewidth": 0,
             "ticks": ""
            },
            "colorscale": [
             [
              0,
              "#0d0887"
             ],
             [
              0.1111111111111111,
              "#46039f"
             ],
             [
              0.2222222222222222,
              "#7201a8"
             ],
             [
              0.3333333333333333,
              "#9c179e"
             ],
             [
              0.4444444444444444,
              "#bd3786"
             ],
             [
              0.5555555555555556,
              "#d8576b"
             ],
             [
              0.6666666666666666,
              "#ed7953"
             ],
             [
              0.7777777777777778,
              "#fb9f3a"
             ],
             [
              0.8888888888888888,
              "#fdca26"
             ],
             [
              1,
              "#f0f921"
             ]
            ],
            "type": "histogram2dcontour"
           }
          ],
          "mesh3d": [
           {
            "colorbar": {
             "outlinewidth": 0,
             "ticks": ""
            },
            "type": "mesh3d"
           }
          ],
          "parcoords": [
           {
            "line": {
             "colorbar": {
              "outlinewidth": 0,
              "ticks": ""
             }
            },
            "type": "parcoords"
           }
          ],
          "pie": [
           {
            "automargin": true,
            "type": "pie"
           }
          ],
          "scatter": [
           {
            "fillpattern": {
             "fillmode": "overlay",
             "size": 10,
             "solidity": 0.2
            },
            "type": "scatter"
           }
          ],
          "scatter3d": [
           {
            "line": {
             "colorbar": {
              "outlinewidth": 0,
              "ticks": ""
             }
            },
            "marker": {
             "colorbar": {
              "outlinewidth": 0,
              "ticks": ""
             }
            },
            "type": "scatter3d"
           }
          ],
          "scattercarpet": [
           {
            "marker": {
             "colorbar": {
              "outlinewidth": 0,
              "ticks": ""
             }
            },
            "type": "scattercarpet"
           }
          ],
          "scattergeo": [
           {
            "marker": {
             "colorbar": {
              "outlinewidth": 0,
              "ticks": ""
             }
            },
            "type": "scattergeo"
           }
          ],
          "scattergl": [
           {
            "marker": {
             "colorbar": {
              "outlinewidth": 0,
              "ticks": ""
             }
            },
            "type": "scattergl"
           }
          ],
          "scattermap": [
           {
            "marker": {
             "colorbar": {
              "outlinewidth": 0,
              "ticks": ""
             }
            },
            "type": "scattermap"
           }
          ],
          "scattermapbox": [
           {
            "marker": {
             "colorbar": {
              "outlinewidth": 0,
              "ticks": ""
             }
            },
            "type": "scattermapbox"
           }
          ],
          "scatterpolar": [
           {
            "marker": {
             "colorbar": {
              "outlinewidth": 0,
              "ticks": ""
             }
            },
            "type": "scatterpolar"
           }
          ],
          "scatterpolargl": [
           {
            "marker": {
             "colorbar": {
              "outlinewidth": 0,
              "ticks": ""
             }
            },
            "type": "scatterpolargl"
           }
          ],
          "scatterternary": [
           {
            "marker": {
             "colorbar": {
              "outlinewidth": 0,
              "ticks": ""
             }
            },
            "type": "scatterternary"
           }
          ],
          "surface": [
           {
            "colorbar": {
             "outlinewidth": 0,
             "ticks": ""
            },
            "colorscale": [
             [
              0,
              "#0d0887"
             ],
             [
              0.1111111111111111,
              "#46039f"
             ],
             [
              0.2222222222222222,
              "#7201a8"
             ],
             [
              0.3333333333333333,
              "#9c179e"
             ],
             [
              0.4444444444444444,
              "#bd3786"
             ],
             [
              0.5555555555555556,
              "#d8576b"
             ],
             [
              0.6666666666666666,
              "#ed7953"
             ],
             [
              0.7777777777777778,
              "#fb9f3a"
             ],
             [
              0.8888888888888888,
              "#fdca26"
             ],
             [
              1,
              "#f0f921"
             ]
            ],
            "type": "surface"
           }
          ],
          "table": [
           {
            "cells": {
             "fill": {
              "color": "#EBF0F8"
             },
             "line": {
              "color": "white"
             }
            },
            "header": {
             "fill": {
              "color": "#C8D4E3"
             },
             "line": {
              "color": "white"
             }
            },
            "type": "table"
           }
          ]
         },
         "layout": {
          "annotationdefaults": {
           "arrowcolor": "#2a3f5f",
           "arrowhead": 0,
           "arrowwidth": 1
          },
          "autotypenumbers": "strict",
          "coloraxis": {
           "colorbar": {
            "outlinewidth": 0,
            "ticks": ""
           }
          },
          "colorscale": {
           "diverging": [
            [
             0,
             "#8e0152"
            ],
            [
             0.1,
             "#c51b7d"
            ],
            [
             0.2,
             "#de77ae"
            ],
            [
             0.3,
             "#f1b6da"
            ],
            [
             0.4,
             "#fde0ef"
            ],
            [
             0.5,
             "#f7f7f7"
            ],
            [
             0.6,
             "#e6f5d0"
            ],
            [
             0.7,
             "#b8e186"
            ],
            [
             0.8,
             "#7fbc41"
            ],
            [
             0.9,
             "#4d9221"
            ],
            [
             1,
             "#276419"
            ]
           ],
           "sequential": [
            [
             0,
             "#0d0887"
            ],
            [
             0.1111111111111111,
             "#46039f"
            ],
            [
             0.2222222222222222,
             "#7201a8"
            ],
            [
             0.3333333333333333,
             "#9c179e"
            ],
            [
             0.4444444444444444,
             "#bd3786"
            ],
            [
             0.5555555555555556,
             "#d8576b"
            ],
            [
             0.6666666666666666,
             "#ed7953"
            ],
            [
             0.7777777777777778,
             "#fb9f3a"
            ],
            [
             0.8888888888888888,
             "#fdca26"
            ],
            [
             1,
             "#f0f921"
            ]
           ],
           "sequentialminus": [
            [
             0,
             "#0d0887"
            ],
            [
             0.1111111111111111,
             "#46039f"
            ],
            [
             0.2222222222222222,
             "#7201a8"
            ],
            [
             0.3333333333333333,
             "#9c179e"
            ],
            [
             0.4444444444444444,
             "#bd3786"
            ],
            [
             0.5555555555555556,
             "#d8576b"
            ],
            [
             0.6666666666666666,
             "#ed7953"
            ],
            [
             0.7777777777777778,
             "#fb9f3a"
            ],
            [
             0.8888888888888888,
             "#fdca26"
            ],
            [
             1,
             "#f0f921"
            ]
           ]
          },
          "colorway": [
           "#636efa",
           "#EF553B",
           "#00cc96",
           "#ab63fa",
           "#FFA15A",
           "#19d3f3",
           "#FF6692",
           "#B6E880",
           "#FF97FF",
           "#FECB52"
          ],
          "font": {
           "color": "#2a3f5f"
          },
          "geo": {
           "bgcolor": "white",
           "lakecolor": "white",
           "landcolor": "#E5ECF6",
           "showlakes": true,
           "showland": true,
           "subunitcolor": "white"
          },
          "hoverlabel": {
           "align": "left"
          },
          "hovermode": "closest",
          "mapbox": {
           "style": "light"
          },
          "paper_bgcolor": "white",
          "plot_bgcolor": "#E5ECF6",
          "polar": {
           "angularaxis": {
            "gridcolor": "white",
            "linecolor": "white",
            "ticks": ""
           },
           "bgcolor": "#E5ECF6",
           "radialaxis": {
            "gridcolor": "white",
            "linecolor": "white",
            "ticks": ""
           }
          },
          "scene": {
           "xaxis": {
            "backgroundcolor": "#E5ECF6",
            "gridcolor": "white",
            "gridwidth": 2,
            "linecolor": "white",
            "showbackground": true,
            "ticks": "",
            "zerolinecolor": "white"
           },
           "yaxis": {
            "backgroundcolor": "#E5ECF6",
            "gridcolor": "white",
            "gridwidth": 2,
            "linecolor": "white",
            "showbackground": true,
            "ticks": "",
            "zerolinecolor": "white"
           },
           "zaxis": {
            "backgroundcolor": "#E5ECF6",
            "gridcolor": "white",
            "gridwidth": 2,
            "linecolor": "white",
            "showbackground": true,
            "ticks": "",
            "zerolinecolor": "white"
           }
          },
          "shapedefaults": {
           "line": {
            "color": "#2a3f5f"
           }
          },
          "ternary": {
           "aaxis": {
            "gridcolor": "white",
            "linecolor": "white",
            "ticks": ""
           },
           "baxis": {
            "gridcolor": "white",
            "linecolor": "white",
            "ticks": ""
           },
           "bgcolor": "#E5ECF6",
           "caxis": {
            "gridcolor": "white",
            "linecolor": "white",
            "ticks": ""
           }
          },
          "title": {
           "x": 0.05
          },
          "xaxis": {
           "automargin": true,
           "gridcolor": "white",
           "linecolor": "white",
           "ticks": "",
           "title": {
            "standoff": 15
           },
           "zerolinecolor": "white",
           "zerolinewidth": 2
          },
          "yaxis": {
           "automargin": true,
           "gridcolor": "white",
           "linecolor": "white",
           "ticks": "",
           "title": {
            "standoff": 15
           },
           "zerolinecolor": "white",
           "zerolinewidth": 2
          }
         }
        },
        "title": {
         "text": "Correlation Matrix of Numerical Features"
        },
        "xaxis": {
         "anchor": "y",
         "domain": [
          0,
          1
         ]
        },
        "yaxis": {
         "anchor": "x",
         "autorange": "reversed",
         "domain": [
          0,
          1
         ]
        }
       }
      },
      "image/png": "[encoded data removed]"
     },
     "metadata": {},
     "output_type": "display_data"
    }
   ],
   "source": [
    "fig = px.imshow(\n",
    "    corr_matrix,\n",
    "    text_auto=True,\n",
    "    color_continuous_scale='RdBu',\n",
    "    title='Correlation Matrix of Numerical Features',\n",
    "    aspect=\"auto\"\n",
    ")\n",
    "\n",
    "fig.update_layout(margin=dict(l=60, r=60, t=50, b=50))\n",
    "fig.show()"
   ]
  },
  {
   "cell_type": "code",
   "execution_count": 13,
   "id": "59a4927f-37a3-4cb3-b4b5-e81a3f103e0c",
   "metadata": {},
   "outputs": [
    {
     "data": {
      "application/vnd.plotly.v1+json": {
       "config": {
        "plotlyServerURL": "https://plot.ly"
       },
       "data": [
        {
         "alignmentgroup": "True",
         "boxpoints": "all",
         "hovertemplate": "method=%{x}<br>number=%{y}<extra></extra>",
         "legendgroup": "Radial Velocity",
         "marker": {
          "color": "#636efa"
         },
         "name": "Radial Velocity",
         "notched": true,
         "offsetgroup": "Radial Velocity",
         "orientation": "v",
         "showlegend": true,
         "type": "box",
         "x": [
          "Radial Velocity",
          "Radial Velocity",
          "Radial Velocity",
          "Radial Velocity",
          "Radial Velocity",
          "Radial Velocity",
          "Radial Velocity",
          "Radial Velocity",
          "Radial Velocity",
          "Radial Velocity",
          "Radial Velocity",
          "Radial Velocity",
          "Radial Velocity",
          "Radial Velocity",
          "Radial Velocity",
          "Radial Velocity",
          "Radial Velocity",
          "Radial Velocity",
          "Radial Velocity",
          "Radial Velocity",
          "Radial Velocity",
          "Radial Velocity",
          "Radial Velocity",
          "Radial Velocity",
          "Radial Velocity",
          "Radial Velocity",
          "Radial Velocity",
          "Radial Velocity",
          "Radial Velocity",
          "Radial Velocity",
          "Radial Velocity",
          "Radial Velocity",
          "Radial Velocity",
          "Radial Velocity",
          "Radial Velocity",
          "Radial Velocity",
          "Radial Velocity",
          "Radial Velocity",
          "Radial Velocity",
          "Radial Velocity",
          "Radial Velocity",
          "Radial Velocity",
          "Radial Velocity",
          "Radial Velocity",
          "Radial Velocity",
          "Radial Velocity",
          "Radial Velocity",
          "Radial Velocity",
          "Radial Velocity",
          "Radial Velocity",
          "Radial Velocity",
          "Radial Velocity",
          "Radial Velocity",
          "Radial Velocity",
          "Radial Velocity",
          "Radial Velocity",
          "Radial Velocity",
          "Radial Velocity",
          "Radial Velocity",
          "Radial Velocity",
          "Radial Velocity",
          "Radial Velocity",
          "Radial Velocity",
          "Radial Velocity",
          "Radial Velocity",
          "Radial Velocity",
          "Radial Velocity",
          "Radial Velocity",
          "Radial Velocity",
          "Radial Velocity",
          "Radial Velocity",
          "Radial Velocity",
          "Radial Velocity",
          "Radial Velocity",
          "Radial Velocity",
          "Radial Velocity",
          "Radial Velocity",
          "Radial Velocity",
          "Radial Velocity",
          "Radial Velocity",
          "Radial Velocity",
          "Radial Velocity",
          "Radial Velocity",
          "Radial Velocity",
          "Radial Velocity",
          "Radial Velocity",
          "Radial Velocity",
          "Radial Velocity",
          "Radial Velocity",
          "Radial Velocity",
          "Radial Velocity",
          "Radial Velocity",
          "Radial Velocity",
          "Radial Velocity",
          "Radial Velocity",
          "Radial Velocity",
          "Radial Velocity",
          "Radial Velocity",
          "Radial Velocity",
          "Radial Velocity",
          "Radial Velocity",
          "Radial Velocity",
          "Radial Velocity",
          "Radial Velocity",
          "Radial Velocity",
          "Radial Velocity",
          "Radial Velocity",
          "Radial Velocity",
          "Radial Velocity",
          "Radial Velocity",
          "Radial Velocity",
          "Radial Velocity",
          "Radial Velocity",
          "Radial Velocity",
          "Radial Velocity",
          "Radial Velocity",
          "Radial Velocity",
          "Radial Velocity",
          "Radial Velocity",
          "Radial Velocity",
          "Radial Velocity",
          "Radial Velocity",
          "Radial Velocity",
          "Radial Velocity",
          "Radial Velocity",
          "Radial Velocity",
          "Radial Velocity",
          "Radial Velocity",
          "Radial Velocity",
          "Radial Velocity",
          "Radial Velocity",
          "Radial Velocity",
          "Radial Velocity",
          "Radial Velocity",
          "Radial Velocity",
          "Radial Velocity",
          "Radial Velocity",
          "Radial Velocity",
          "Radial Velocity",
          "Radial Velocity",
          "Radial Velocity",
          "Radial Velocity",
          "Radial Velocity",
          "Radial Velocity",
          "Radial Velocity",
          "Radial Velocity",
          "Radial Velocity",
          "Radial Velocity",
          "Radial Velocity",
          "Radial Velocity",
          "Radial Velocity",
          "Radial Velocity",
          "Radial Velocity",
          "Radial Velocity",
          "Radial Velocity",
          "Radial Velocity",
          "Radial Velocity",
          "Radial Velocity",
          "Radial Velocity",
          "Radial Velocity",
          "Radial Velocity",
          "Radial Velocity",
          "Radial Velocity",
          "Radial Velocity",
          "Radial Velocity",
          "Radial Velocity",
          "Radial Velocity",
          "Radial Velocity",
          "Radial Velocity",
          "Radial Velocity",
          "Radial Velocity",
          "Radial Velocity",
          "Radial Velocity",
          "Radial Velocity",
          "Radial Velocity",
          "Radial Velocity",
          "Radial Velocity",
          "Radial Velocity",
          "Radial Velocity",
          "Radial Velocity",
          "Radial Velocity",
          "Radial Velocity",
          "Radial Velocity",
          "Radial Velocity",
          "Radial Velocity",
          "Radial Velocity",
          "Radial Velocity",
          "Radial Velocity",
          "Radial Velocity",
          "Radial Velocity",
          "Radial Velocity",
          "Radial Velocity",
          "Radial Velocity",
          "Radial Velocity",
          "Radial Velocity",
          "Radial Velocity",
          "Radial Velocity",
          "Radial Velocity",
          "Radial Velocity",
          "Radial Velocity",
          "Radial Velocity",
          "Radial Velocity",
          "Radial Velocity",
          "Radial Velocity",
          "Radial Velocity",
          "Radial Velocity",
          "Radial Velocity",
          "Radial Velocity",
          "Radial Velocity",
          "Radial Velocity",
          "Radial Velocity",
          "Radial Velocity",
          "Radial Velocity",
          "Radial Velocity",
          "Radial Velocity",
          "Radial Velocity",
          "Radial Velocity",
          "Radial Velocity",
          "Radial Velocity",
          "Radial Velocity",
          "Radial Velocity",
          "Radial Velocity",
          "Radial Velocity",
          "Radial Velocity",
          "Radial Velocity",
          "Radial Velocity",
          "Radial Velocity",
          "Radial Velocity",
          "Radial Velocity",
          "Radial Velocity",
          "Radial Velocity",
          "Radial Velocity",
          "Radial Velocity",
          "Radial Velocity",
          "Radial Velocity",
          "Radial Velocity",
          "Radial Velocity",
          "Radial Velocity",
          "Radial Velocity",
          "Radial Velocity",
          "Radial Velocity",
          "Radial Velocity",
          "Radial Velocity",
          "Radial Velocity",
          "Radial Velocity",
          "Radial Velocity",
          "Radial Velocity",
          "Radial Velocity",
          "Radial Velocity",
          "Radial Velocity",
          "Radial Velocity",
          "Radial Velocity",
          "Radial Velocity",
          "Radial Velocity",
          "Radial Velocity",
          "Radial Velocity",
          "Radial Velocity",
          "Radial Velocity",
          "Radial Velocity",
          "Radial Velocity",
          "Radial Velocity",
          "Radial Velocity",
          "Radial Velocity",
          "Radial Velocity",
          "Radial Velocity",
          "Radial Velocity",
          "Radial Velocity",
          "Radial Velocity",
          "Radial Velocity",
          "Radial Velocity",
          "Radial Velocity",
          "Radial Velocity",
          "Radial Velocity",
          "Radial Velocity",
          "Radial Velocity",
          "Radial Velocity",
          "Radial Velocity",
          "Radial Velocity",
          "Radial Velocity",
          "Radial Velocity",
          "Radial Velocity",
          "Radial Velocity",
          "Radial Velocity",
          "Radial Velocity",
          "Radial Velocity",
          "Radial Velocity",
          "Radial Velocity",
          "Radial Velocity",
          "Radial Velocity",
          "Radial Velocity",
          "Radial Velocity",
          "Radial Velocity",
          "Radial Velocity",
          "Radial Velocity",
          "Radial Velocity",
          "Radial Velocity",
          "Radial Velocity",
          "Radial Velocity",
          "Radial Velocity",
          "Radial Velocity",
          "Radial Velocity",
          "Radial Velocity",
          "Radial Velocity",
          "Radial Velocity",
          "Radial Velocity",
          "Radial Velocity",
          "Radial Velocity",
          "Radial Velocity",
          "Radial Velocity",
          "Radial Velocity",
          "Radial Velocity",
          "Radial Velocity",
          "Radial Velocity",
          "Radial Velocity",
          "Radial Velocity",
          "Radial Velocity",
          "Radial Velocity",
          "Radial Velocity",
          "Radial Velocity",
          "Radial Velocity",
          "Radial Velocity",
          "Radial Velocity",
          "Radial Velocity",
          "Radial Velocity",
          "Radial Velocity",
          "Radial Velocity",
          "Radial Velocity",
          "Radial Velocity",
          "Radial Velocity",
          "Radial Velocity",
          "Radial Velocity",
          "Radial Velocity",
          "Radial Velocity",
          "Radial Velocity",
          "Radial Velocity",
          "Radial Velocity",
          "Radial Velocity",
          "Radial Velocity",
          "Radial Velocity",
          "Radial Velocity",
          "Radial Velocity",
          "Radial Velocity",
          "Radial Velocity",
          "Radial Velocity",
          "Radial Velocity",
          "Radial Velocity",
          "Radial Velocity",
          "Radial Velocity",
          "Radial Velocity",
          "Radial Velocity",
          "Radial Velocity",
          "Radial Velocity",
          "Radial Velocity",
          "Radial Velocity",
          "Radial Velocity",
          "Radial Velocity",
          "Radial Velocity",
          "Radial Velocity",
          "Radial Velocity",
          "Radial Velocity",
          "Radial Velocity",
          "Radial Velocity",
          "Radial Velocity",
          "Radial Velocity",
          "Radial Velocity",
          "Radial Velocity",
          "Radial Velocity",
          "Radial Velocity",
          "Radial Velocity",
          "Radial Velocity",
          "Radial Velocity",
          "Radial Velocity",
          "Radial Velocity",
          "Radial Velocity",
          "Radial Velocity",
          "Radial Velocity",
          "Radial Velocity",
          "Radial Velocity",
          "Radial Velocity",
          "Radial Velocity",
          "Radial Velocity",
          "Radial Velocity",
          "Radial Velocity",
          "Radial Velocity",
          "Radial Velocity",
          "Radial Velocity",
          "Radial Velocity",
          "Radial Velocity",
          "Radial Velocity",
          "Radial Velocity",
          "Radial Velocity",
          "Radial Velocity",
          "Radial Velocity",
          "Radial Velocity",
          "Radial Velocity",
          "Radial Velocity",
          "Radial Velocity",
          "Radial Velocity",
          "Radial Velocity",
          "Radial Velocity",
          "Radial Velocity",
          "Radial Velocity",
          "Radial Velocity",
          "Radial Velocity",
          "Radial Velocity",
          "Radial Velocity",
          "Radial Velocity",
          "Radial Velocity",
          "Radial Velocity",
          "Radial Velocity",
          "Radial Velocity",
          "Radial Velocity",
          "Radial Velocity",
          "Radial Velocity",
          "Radial Velocity",
          "Radial Velocity",
          "Radial Velocity",
          "Radial Velocity",
          "Radial Velocity",
          "Radial Velocity",
          "Radial Velocity",
          "Radial Velocity",
          "Radial Velocity",
          "Radial Velocity",
          "Radial Velocity",
          "Radial Velocity",
          "Radial Velocity",
          "Radial Velocity",
          "Radial Velocity",
          "Radial Velocity",
          "Radial Velocity",
          "Radial Velocity",
          "Radial Velocity",
          "Radial Velocity",
          "Radial Velocity",
          "Radial Velocity",
          "Radial Velocity",
          "Radial Velocity",
          "Radial Velocity",
          "Radial Velocity",
          "Radial Velocity",
          "Radial Velocity",
          "Radial Velocity",
          "Radial Velocity",
          "Radial Velocity",
          "Radial Velocity",
          "Radial Velocity",
          "Radial Velocity",
          "Radial Velocity",
          "Radial Velocity",
          "Radial Velocity",
          "Radial Velocity",
          "Radial Velocity",
          "Radial Velocity",
          "Radial Velocity",
          "Radial Velocity",
          "Radial Velocity",
          "Radial Velocity",
          "Radial Velocity",
          "Radial Velocity",
          "Radial Velocity",
          "Radial Velocity",
          "Radial Velocity",
          "Radial Velocity",
          "Radial Velocity",
          "Radial Velocity",
          "Radial Velocity",
          "Radial Velocity",
          "Radial Velocity",
          "Radial Velocity",
          "Radial Velocity",
          "Radial Velocity",
          "Radial Velocity",
          "Radial Velocity",
          "Radial Velocity",
          "Radial Velocity",
          "Radial Velocity",
          "Radial Velocity",
          "Radial Velocity",
          "Radial Velocity",
          "Radial Velocity",
          "Radial Velocity",
          "Radial Velocity",
          "Radial Velocity",
          "Radial Velocity",
          "Radial Velocity",
          "Radial Velocity",
          "Radial Velocity",
          "Radial Velocity",
          "Radial Velocity",
          "Radial Velocity",
          "Radial Velocity",
          "Radial Velocity",
          "Radial Velocity",
          "Radial Velocity",
          "Radial Velocity",
          "Radial Velocity"
         ],
         "x0": " ",
         "xaxis": "x",
         "y": {
          "bdata": "AQEBAQEBAQECAgEBAwMDAQUFBQUDAwMBAQEBAQEBAQEBAQEBBAQEBAECAgICAQEBAwMDAQICAQEEBAQEAQYGBgYGBgEDAwMBAQQEBAQBAQICAgICAgIBAQEBAQEBAQEBAQICAQEBAQEBAgIBAQEBAgIGBgYGBgYBAQICAQICAgIBAgICAgEBAQEBAQECAgEDAwMCAgEBAgIBAQEBAQEBAQEBAQEBAQEBAwMDAQEBAQEDAwMBAgIDAwMCAgEBBgYGBgYGAQEBAgIBAQEBAQICAQEBAgICAgEBAQECAgEBAgIBAQECAgEBAQMDAwEBAQECAgEDAwMBAQEBAQEBAQEBAQEBAQEBAQEBAQICAQEBAQICAQEBAQICAQEBAQEBAgIBAQEBAQEBAQEBAQEBAgIBAgIBAQEBAgICAQEBAQEBAQEBAQEDAwMBAQECAgEBAQEBAQICAgIDAwMBAwMDAQEBAQEBAQEBAgIBAQEBAQEBAQEBAQECAgICAQEBAQEBAgICAgQBAgIBAQEBAQICAQICAQEBAQECAgEBAQEBAwMDAQICAQECAgEBAQICAQEBAgIBAQEBAQECAgICAwMDAQEBAQEBAQEBAgICAgICAQEBAgIBAQEBAQEBAQEBAQEBAQEBAgEBAwMDAQMDAwEBAQEBAQM=",
          "dtype": "i1"
         },
         "y0": " ",
         "yaxis": "y"
        },
        {
         "alignmentgroup": "True",
         "boxpoints": "all",
         "hovertemplate": "method=%{x}<br>number=%{y}<extra></extra>",
         "legendgroup": "Transit",
         "marker": {
          "color": "#EF553B"
         },
         "name": "Transit",
         "notched": true,
         "offsetgroup": "Transit",
         "orientation": "v",
         "showlegend": true,
         "type": "box",
         "x": [
          "Transit"
         ],
         "x0": " ",
         "xaxis": "x",
         "y": {
          "bdata": "AQ==",
          "dtype": "i1"
         },
         "y0": " ",
         "yaxis": "y"
        }
       ],
       "layout": {
        "boxmode": "overlay",
        "legend": {
         "title": {
          "text": "method"
         },
         "tracegroupgap": 0
        },
        "template": {
         "data": {
          "bar": [
           {
            "error_x": {
             "color": "#2a3f5f"
            },
            "error_y": {
             "color": "#2a3f5f"
            },
            "marker": {
             "line": {
              "color": "#E5ECF6",
              "width": 0.5
             },
             "pattern": {
              "fillmode": "overlay",
              "size": 10,
              "solidity": 0.2
             }
            },
            "type": "bar"
           }
          ],
          "barpolar": [
           {
            "marker": {
             "line": {
              "color": "#E5ECF6",
              "width": 0.5
             },
             "pattern": {
              "fillmode": "overlay",
              "size": 10,
              "solidity": 0.2
             }
            },
            "type": "barpolar"
           }
          ],
          "carpet": [
           {
            "aaxis": {
             "endlinecolor": "#2a3f5f",
             "gridcolor": "white",
             "linecolor": "white",
             "minorgridcolor": "white",
             "startlinecolor": "#2a3f5f"
            },
            "baxis": {
             "endlinecolor": "#2a3f5f",
             "gridcolor": "white",
             "linecolor": "white",
             "minorgridcolor": "white",
             "startlinecolor": "#2a3f5f"
            },
            "type": "carpet"
           }
          ],
          "choropleth": [
           {
            "colorbar": {
             "outlinewidth": 0,
             "ticks": ""
            },
            "type": "choropleth"
           }
          ],
          "contour": [
           {
            "colorbar": {
             "outlinewidth": 0,
             "ticks": ""
            },
            "colorscale": [
             [
              0,
              "#0d0887"
             ],
             [
              0.1111111111111111,
              "#46039f"
             ],
             [
              0.2222222222222222,
              "#7201a8"
             ],
             [
              0.3333333333333333,
              "#9c179e"
             ],
             [
              0.4444444444444444,
              "#bd3786"
             ],
             [
              0.5555555555555556,
              "#d8576b"
             ],
             [
              0.6666666666666666,
              "#ed7953"
             ],
             [
              0.7777777777777778,
              "#fb9f3a"
             ],
             [
              0.8888888888888888,
              "#fdca26"
             ],
             [
              1,
              "#f0f921"
             ]
            ],
            "type": "contour"
           }
          ],
          "contourcarpet": [
           {
            "colorbar": {
             "outlinewidth": 0,
             "ticks": ""
            },
            "type": "contourcarpet"
           }
          ],
          "heatmap": [
           {
            "colorbar": {
             "outlinewidth": 0,
             "ticks": ""
            },
            "colorscale": [
             [
              0,
              "#0d0887"
             ],
             [
              0.1111111111111111,
              "#46039f"
             ],
             [
              0.2222222222222222,
              "#7201a8"
             ],
             [
              0.3333333333333333,
              "#9c179e"
             ],
             [
              0.4444444444444444,
              "#bd3786"
             ],
             [
              0.5555555555555556,
              "#d8576b"
             ],
             [
              0.6666666666666666,
              "#ed7953"
             ],
             [
              0.7777777777777778,
              "#fb9f3a"
             ],
             [
              0.8888888888888888,
              "#fdca26"
             ],
             [
              1,
              "#f0f921"
             ]
            ],
            "type": "heatmap"
           }
          ],
          "histogram": [
           {
            "marker": {
             "pattern": {
              "fillmode": "overlay",
              "size": 10,
              "solidity": 0.2
             }
            },
            "type": "histogram"
           }
          ],
          "histogram2d": [
           {
            "colorbar": {
             "outlinewidth": 0,
             "ticks": ""
            },
            "colorscale": [
             [
              0,
              "#0d0887"
             ],
             [
              0.1111111111111111,
              "#46039f"
             ],
             [
              0.2222222222222222,
              "#7201a8"
             ],
             [
              0.3333333333333333,
              "#9c179e"
             ],
             [
              0.4444444444444444,
              "#bd3786"
             ],
             [
              0.5555555555555556,
              "#d8576b"
             ],
             [
              0.6666666666666666,
              "#ed7953"
             ],
             [
              0.7777777777777778,
              "#fb9f3a"
             ],
             [
              0.8888888888888888,
              "#fdca26"
             ],
             [
              1,
              "#f0f921"
             ]
            ],
            "type": "histogram2d"
           }
          ],
          "histogram2dcontour": [
           {
            "colorbar": {
             "outlinewidth": 0,
             "ticks": ""
            },
            "colorscale": [
             [
              0,
              "#0d0887"
             ],
             [
              0.1111111111111111,
              "#46039f"
             ],
             [
              0.2222222222222222,
              "#7201a8"
             ],
             [
              0.3333333333333333,
              "#9c179e"
             ],
             [
              0.4444444444444444,
              "#bd3786"
             ],
             [
              0.5555555555555556,
              "#d8576b"
             ],
             [
              0.6666666666666666,
              "#ed7953"
             ],
             [
              0.7777777777777778,
              "#fb9f3a"
             ],
             [
              0.8888888888888888,
              "#fdca26"
             ],
             [
              1,
              "#f0f921"
             ]
            ],
            "type": "histogram2dcontour"
           }
          ],
          "mesh3d": [
           {
            "colorbar": {
             "outlinewidth": 0,
             "ticks": ""
            },
            "type": "mesh3d"
           }
          ],
          "parcoords": [
           {
            "line": {
             "colorbar": {
              "outlinewidth": 0,
              "ticks": ""
             }
            },
            "type": "parcoords"
           }
          ],
          "pie": [
           {
            "automargin": true,
            "type": "pie"
           }
          ],
          "scatter": [
           {
            "fillpattern": {
             "fillmode": "overlay",
             "size": 10,
             "solidity": 0.2
            },
            "type": "scatter"
           }
          ],
          "scatter3d": [
           {
            "line": {
             "colorbar": {
              "outlinewidth": 0,
              "ticks": ""
             }
            },
            "marker": {
             "colorbar": {
              "outlinewidth": 0,
              "ticks": ""
             }
            },
            "type": "scatter3d"
           }
          ],
          "scattercarpet": [
           {
            "marker": {
             "colorbar": {
              "outlinewidth": 0,
              "ticks": ""
             }
            },
            "type": "scattercarpet"
           }
          ],
          "scattergeo": [
           {
            "marker": {
             "colorbar": {
              "outlinewidth": 0,
              "ticks": ""
             }
            },
            "type": "scattergeo"
           }
          ],
          "scattergl": [
           {
            "marker": {
             "colorbar": {
              "outlinewidth": 0,
              "ticks": ""
             }
            },
            "type": "scattergl"
           }
          ],
          "scattermap": [
           {
            "marker": {
             "colorbar": {
              "outlinewidth": 0,
              "ticks": ""
             }
            },
            "type": "scattermap"
           }
          ],
          "scattermapbox": [
           {
            "marker": {
             "colorbar": {
              "outlinewidth": 0,
              "ticks": ""
             }
            },
            "type": "scattermapbox"
           }
          ],
          "scatterpolar": [
           {
            "marker": {
             "colorbar": {
              "outlinewidth": 0,
              "ticks": ""
             }
            },
            "type": "scatterpolar"
           }
          ],
          "scatterpolargl": [
           {
            "marker": {
             "colorbar": {
              "outlinewidth": 0,
              "ticks": ""
             }
            },
            "type": "scatterpolargl"
           }
          ],
          "scatterternary": [
           {
            "marker": {
             "colorbar": {
              "outlinewidth": 0,
              "ticks": ""
             }
            },
            "type": "scatterternary"
           }
          ],
          "surface": [
           {
            "colorbar": {
             "outlinewidth": 0,
             "ticks": ""
            },
            "colorscale": [
             [
              0,
              "#0d0887"
             ],
             [
              0.1111111111111111,
              "#46039f"
             ],
             [
              0.2222222222222222,
              "#7201a8"
             ],
             [
              0.3333333333333333,
              "#9c179e"
             ],
             [
              0.4444444444444444,
              "#bd3786"
             ],
             [
              0.5555555555555556,
              "#d8576b"
             ],
             [
              0.6666666666666666,
              "#ed7953"
             ],
             [
              0.7777777777777778,
              "#fb9f3a"
             ],
             [
              0.8888888888888888,
              "#fdca26"
             ],
             [
              1,
              "#f0f921"
             ]
            ],
            "type": "surface"
           }
          ],
          "table": [
           {
            "cells": {
             "fill": {
              "color": "#EBF0F8"
             },
             "line": {
              "color": "white"
             }
            },
            "header": {
             "fill": {
              "color": "#C8D4E3"
             },
             "line": {
              "color": "white"
             }
            },
            "type": "table"
           }
          ]
         },
         "layout": {
          "annotationdefaults": {
           "arrowcolor": "#2a3f5f",
           "arrowhead": 0,
           "arrowwidth": 1
          },
          "autotypenumbers": "strict",
          "coloraxis": {
           "colorbar": {
            "outlinewidth": 0,
            "ticks": ""
           }
          },
          "colorscale": {
           "diverging": [
            [
             0,
             "#8e0152"
            ],
            [
             0.1,
             "#c51b7d"
            ],
            [
             0.2,
             "#de77ae"
            ],
            [
             0.3,
             "#f1b6da"
            ],
            [
             0.4,
             "#fde0ef"
            ],
            [
             0.5,
             "#f7f7f7"
            ],
            [
             0.6,
             "#e6f5d0"
            ],
            [
             0.7,
             "#b8e186"
            ],
            [
             0.8,
             "#7fbc41"
            ],
            [
             0.9,
             "#4d9221"
            ],
            [
             1,
             "#276419"
            ]
           ],
           "sequential": [
            [
             0,
             "#0d0887"
            ],
            [
             0.1111111111111111,
             "#46039f"
            ],
            [
             0.2222222222222222,
             "#7201a8"
            ],
            [
             0.3333333333333333,
             "#9c179e"
            ],
            [
             0.4444444444444444,
             "#bd3786"
            ],
            [
             0.5555555555555556,
             "#d8576b"
            ],
            [
             0.6666666666666666,
             "#ed7953"
            ],
            [
             0.7777777777777778,
             "#fb9f3a"
            ],
            [
             0.8888888888888888,
             "#fdca26"
            ],
            [
             1,
             "#f0f921"
            ]
           ],
           "sequentialminus": [
            [
             0,
             "#0d0887"
            ],
            [
             0.1111111111111111,
             "#46039f"
            ],
            [
             0.2222222222222222,
             "#7201a8"
            ],
            [
             0.3333333333333333,
             "#9c179e"
            ],
            [
             0.4444444444444444,
             "#bd3786"
            ],
            [
             0.5555555555555556,
             "#d8576b"
            ],
            [
             0.6666666666666666,
             "#ed7953"
            ],
            [
             0.7777777777777778,
             "#fb9f3a"
            ],
            [
             0.8888888888888888,
             "#fdca26"
            ],
            [
             1,
             "#f0f921"
            ]
           ]
          },
          "colorway": [
           "#636efa",
           "#EF553B",
           "#00cc96",
           "#ab63fa",
           "#FFA15A",
           "#19d3f3",
           "#FF6692",
           "#B6E880",
           "#FF97FF",
           "#FECB52"
          ],
          "font": {
           "color": "#2a3f5f"
          },
          "geo": {
           "bgcolor": "white",
           "lakecolor": "white",
           "landcolor": "#E5ECF6",
           "showlakes": true,
           "showland": true,
           "subunitcolor": "white"
          },
          "hoverlabel": {
           "align": "left"
          },
          "hovermode": "closest",
          "mapbox": {
           "style": "light"
          },
          "paper_bgcolor": "white",
          "plot_bgcolor": "#E5ECF6",
          "polar": {
           "angularaxis": {
            "gridcolor": "white",
            "linecolor": "white",
            "ticks": ""
           },
           "bgcolor": "#E5ECF6",
           "radialaxis": {
            "gridcolor": "white",
            "linecolor": "white",
            "ticks": ""
           }
          },
          "scene": {
           "xaxis": {
            "backgroundcolor": "#E5ECF6",
            "gridcolor": "white",
            "gridwidth": 2,
            "linecolor": "white",
            "showbackground": true,
            "ticks": "",
            "zerolinecolor": "white"
           },
           "yaxis": {
            "backgroundcolor": "#E5ECF6",
            "gridcolor": "white",
            "gridwidth": 2,
            "linecolor": "white",
            "showbackground": true,
            "ticks": "",
            "zerolinecolor": "white"
           },
           "zaxis": {
            "backgroundcolor": "#E5ECF6",
            "gridcolor": "white",
            "gridwidth": 2,
            "linecolor": "white",
            "showbackground": true,
            "ticks": "",
            "zerolinecolor": "white"
           }
          },
          "shapedefaults": {
           "line": {
            "color": "#2a3f5f"
           }
          },
          "ternary": {
           "aaxis": {
            "gridcolor": "white",
            "linecolor": "white",
            "ticks": ""
           },
           "baxis": {
            "gridcolor": "white",
            "linecolor": "white",
            "ticks": ""
           },
           "bgcolor": "#E5ECF6",
           "caxis": {
            "gridcolor": "white",
            "linecolor": "white",
            "ticks": ""
           }
          },
          "title": {
           "x": 0.05
          },
          "xaxis": {
           "automargin": true,
           "gridcolor": "white",
           "linecolor": "white",
           "ticks": "",
           "title": {
            "standoff": 15
           },
           "zerolinecolor": "white",
           "zerolinewidth": 2
          },
          "yaxis": {
           "automargin": true,
           "gridcolor": "white",
           "linecolor": "white",
           "ticks": "",
           "title": {
            "standoff": 15
           },
           "zerolinecolor": "white",
           "zerolinewidth": 2
          }
         }
        },
        "title": {
         "text": "Number Box Plot grouped by Method"
        },
        "xaxis": {
         "anchor": "y",
         "categoryarray": [
          "Radial Velocity",
          "Transit"
         ],
         "categoryorder": "array",
         "domain": [
          0,
          1
         ],
         "title": {
          "text": "method"
         }
        },
        "yaxis": {
         "anchor": "x",
         "domain": [
          0,
          1
         ],
         "title": {
          "text": "number"
         }
        }
       }
      },
      "image/png": "[encoded data removed]"
     },
     "metadata": {},
     "output_type": "display_data"
    },
    {
     "data": {
      "application/vnd.plotly.v1+json": {
       "config": {
        "plotlyServerURL": "https://plot.ly"
       },
       "data": [
        {
         "alignmentgroup": "True",
         "boxpoints": "all",
         "hovertemplate": "method=%{x}<br>orbital_period=%{y}<extra></extra>",
         "legendgroup": "Radial Velocity",
         "marker": {
          "color": "#636efa"
         },
         "name": "Radial Velocity",
         "notched": true,
         "offsetgroup": "Radial Velocity",
         "orientation": "v",
         "showlegend": true,
         "type": "box",
         "x": [
          "Radial Velocity",
          "Radial Velocity",
          "Radial Velocity",
          "Radial Velocity",
          "Radial Velocity",
          "Radial Velocity",
          "Radial Velocity",
          "Radial Velocity",
          "Radial Velocity",
          "Radial Velocity",
          "Radial Velocity",
          "Radial Velocity",
          "Radial Velocity",
          "Radial Velocity",
          "Radial Velocity",
          "Radial Velocity",
          "Radial Velocity",
          "Radial Velocity",
          "Radial Velocity",
          "Radial Velocity",
          "Radial Velocity",
          "Radial Velocity",
          "Radial Velocity",
          "Radial Velocity",
          "Radial Velocity",
          "Radial Velocity",
          "Radial Velocity",
          "Radial Velocity",
          "Radial Velocity",
          "Radial Velocity",
          "Radial Velocity",
          "Radial Velocity",
          "Radial Velocity",
          "Radial Velocity",
          "Radial Velocity",
          "Radial Velocity",
          "Radial Velocity",
          "Radial Velocity",
          "Radial Velocity",
          "Radial Velocity",
          "Radial Velocity",
          "Radial Velocity",
          "Radial Velocity",
          "Radial Velocity",
          "Radial Velocity",
          "Radial Velocity",
          "Radial Velocity",
          "Radial Velocity",
          "Radial Velocity",
          "Radial Velocity",
          "Radial Velocity",
          "Radial Velocity",
          "Radial Velocity",
          "Radial Velocity",
          "Radial Velocity",
          "Radial Velocity",
          "Radial Velocity",
          "Radial Velocity",
          "Radial Velocity",
          "Radial Velocity",
          "Radial Velocity",
          "Radial Velocity",
          "Radial Velocity",
          "Radial Velocity",
          "Radial Velocity",
          "Radial Velocity",
          "Radial Velocity",
          "Radial Velocity",
          "Radial Velocity",
          "Radial Velocity",
          "Radial Velocity",
          "Radial Velocity",
          "Radial Velocity",
          "Radial Velocity",
          "Radial Velocity",
          "Radial Velocity",
          "Radial Velocity",
          "Radial Velocity",
          "Radial Velocity",
          "Radial Velocity",
          "Radial Velocity",
          "Radial Velocity",
          "Radial Velocity",
          "Radial Velocity",
          "Radial Velocity",
          "Radial Velocity",
          "Radial Velocity",
          "Radial Velocity",
          "Radial Velocity",
          "Radial Velocity",
          "Radial Velocity",
          "Radial Velocity",
          "Radial Velocity",
          "Radial Velocity",
          "Radial Velocity",
          "Radial Velocity",
          "Radial Velocity",
          "Radial Velocity",
          "Radial Velocity",
          "Radial Velocity",
          "Radial Velocity",
          "Radial Velocity",
          "Radial Velocity",
          "Radial Velocity",
          "Radial Velocity",
          "Radial Velocity",
          "Radial Velocity",
          "Radial Velocity",
          "Radial Velocity",
          "Radial Velocity",
          "Radial Velocity",
          "Radial Velocity",
          "Radial Velocity",
          "Radial Velocity",
          "Radial Velocity",
          "Radial Velocity",
          "Radial Velocity",
          "Radial Velocity",
          "Radial Velocity",
          "Radial Velocity",
          "Radial Velocity",
          "Radial Velocity",
          "Radial Velocity",
          "Radial Velocity",
          "Radial Velocity",
          "Radial Velocity",
          "Radial Velocity",
          "Radial Velocity",
          "Radial Velocity",
          "Radial Velocity",
          "Radial Velocity",
          "Radial Velocity",
          "Radial Velocity",
          "Radial Velocity",
          "Radial Velocity",
          "Radial Velocity",
          "Radial Velocity",
          "Radial Velocity",
          "Radial Velocity",
          "Radial Velocity",
          "Radial Velocity",
          "Radial Velocity",
          "Radial Velocity",
          "Radial Velocity",
          "Radial Velocity",
          "Radial Velocity",
          "Radial Velocity",
          "Radial Velocity",
          "Radial Velocity",
          "Radial Velocity",
          "Radial Velocity",
          "Radial Velocity",
          "Radial Velocity",
          "Radial Velocity",
          "Radial Velocity",
          "Radial Velocity",
          "Radial Velocity",
          "Radial Velocity",
          "Radial Velocity",
          "Radial Velocity",
          "Radial Velocity",
          "Radial Velocity",
          "Radial Velocity",
          "Radial Velocity",
          "Radial Velocity",
          "Radial Velocity",
          "Radial Velocity",
          "Radial Velocity",
          "Radial Velocity",
          "Radial Velocity",
          "Radial Velocity",
          "Radial Velocity",
          "Radial Velocity",
          "Radial Velocity",
          "Radial Velocity",
          "Radial Velocity",
          "Radial Velocity",
          "Radial Velocity",
          "Radial Velocity",
          "Radial Velocity",
          "Radial Velocity",
          "Radial Velocity",
          "Radial Velocity",
          "Radial Velocity",
          "Radial Velocity",
          "Radial Velocity",
          "Radial Velocity",
          "Radial Velocity",
          "Radial Velocity",
          "Radial Velocity",
          "Radial Velocity",
          "Radial Velocity",
          "Radial Velocity",
          "Radial Velocity",
          "Radial Velocity",
          "Radial Velocity",
          "Radial Velocity",
          "Radial Velocity",
          "Radial Velocity",
          "Radial Velocity",
          "Radial Velocity",
          "Radial Velocity",
          "Radial Velocity",
          "Radial Velocity",
          "Radial Velocity",
          "Radial Velocity",
          "Radial Velocity",
          "Radial Velocity",
          "Radial Velocity",
          "Radial Velocity",
          "Radial Velocity",
          "Radial Velocity",
          "Radial Velocity",
          "Radial Velocity",
          "Radial Velocity",
          "Radial Velocity",
          "Radial Velocity",
          "Radial Velocity",
          "Radial Velocity",
          "Radial Velocity",
          "Radial Velocity",
          "Radial Velocity",
          "Radial Velocity",
          "Radial Velocity",
          "Radial Velocity",
          "Radial Velocity",
          "Radial Velocity",
          "Radial Velocity",
          "Radial Velocity",
          "Radial Velocity",
          "Radial Velocity",
          "Radial Velocity",
          "Radial Velocity",
          "Radial Velocity",
          "Radial Velocity",
          "Radial Velocity",
          "Radial Velocity",
          "Radial Velocity",
          "Radial Velocity",
          "Radial Velocity",
          "Radial Velocity",
          "Radial Velocity",
          "Radial Velocity",
          "Radial Velocity",
          "Radial Velocity",
          "Radial Velocity",
          "Radial Velocity",
          "Radial Velocity",
          "Radial Velocity",
          "Radial Velocity",
          "Radial Velocity",
          "Radial Velocity",
          "Radial Velocity",
          "Radial Velocity",
          "Radial Velocity",
          "Radial Velocity",
          "Radial Velocity",
          "Radial Velocity",
          "Radial Velocity",
          "Radial Velocity",
          "Radial Velocity",
          "Radial Velocity",
          "Radial Velocity",
          "Radial Velocity",
          "Radial Velocity",
          "Radial Velocity",
          "Radial Velocity",
          "Radial Velocity",
          "Radial Velocity",
          "Radial Velocity",
          "Radial Velocity",
          "Radial Velocity",
          "Radial Velocity",
          "Radial Velocity",
          "Radial Velocity",
          "Radial Velocity",
          "Radial Velocity",
          "Radial Velocity",
          "Radial Velocity",
          "Radial Velocity",
          "Radial Velocity",
          "Radial Velocity",
          "Radial Velocity",
          "Radial Velocity",
          "Radial Velocity",
          "Radial Velocity",
          "Radial Velocity",
          "Radial Velocity",
          "Radial Velocity",
          "Radial Velocity",
          "Radial Velocity",
          "Radial Velocity",
          "Radial Velocity",
          "Radial Velocity",
          "Radial Velocity",
          "Radial Velocity",
          "Radial Velocity",
          "Radial Velocity",
          "Radial Velocity",
          "Radial Velocity",
          "Radial Velocity",
          "Radial Velocity",
          "Radial Velocity",
          "Radial Velocity",
          "Radial Velocity",
          "Radial Velocity",
          "Radial Velocity",
          "Radial Velocity",
          "Radial Velocity",
          "Radial Velocity",
          "Radial Velocity",
          "Radial Velocity",
          "Radial Velocity",
          "Radial Velocity",
          "Radial Velocity",
          "Radial Velocity",
          "Radial Velocity",
          "Radial Velocity",
          "Radial Velocity",
          "Radial Velocity",
          "Radial Velocity",
          "Radial Velocity",
          "Radial Velocity",
          "Radial Velocity",
          "Radial Velocity",
          "Radial Velocity",
          "Radial Velocity",
          "Radial Velocity",
          "Radial Velocity",
          "Radial Velocity",
          "Radial Velocity",
          "Radial Velocity",
          "Radial Velocity",
          "Radial Velocity",
          "Radial Velocity",
          "Radial Velocity",
          "Radial Velocity",
          "Radial Velocity",
          "Radial Velocity",
          "Radial Velocity",
          "Radial Velocity",
          "Radial Velocity",
          "Radial Velocity",
          "Radial Velocity",
          "Radial Velocity",
          "Radial Velocity",
          "Radial Velocity",
          "Radial Velocity",
          "Radial Velocity",
          "Radial Velocity",
          "Radial Velocity",
          "Radial Velocity",
          "Radial Velocity",
          "Radial Velocity",
          "Radial Velocity",
          "Radial Velocity",
          "Radial Velocity",
          "Radial Velocity",
          "Radial Velocity",
          "Radial Velocity",
          "Radial Velocity",
          "Radial Velocity",
          "Radial Velocity",
          "Radial Velocity",
          "Radial Velocity",
          "Radial Velocity",
          "Radial Velocity",
          "Radial Velocity",
          "Radial Velocity",
          "Radial Velocity",
          "Radial Velocity",
          "Radial Velocity",
          "Radial Velocity",
          "Radial Velocity",
          "Radial Velocity",
          "Radial Velocity",
          "Radial Velocity",
          "Radial Velocity",
          "Radial Velocity",
          "Radial Velocity",
          "Radial Velocity",
          "Radial Velocity",
          "Radial Velocity",
          "Radial Velocity",
          "Radial Velocity",
          "Radial Velocity",
          "Radial Velocity",
          "Radial Velocity",
          "Radial Velocity",
          "Radial Velocity",
          "Radial Velocity",
          "Radial Velocity",
          "Radial Velocity",
          "Radial Velocity",
          "Radial Velocity",
          "Radial Velocity",
          "Radial Velocity",
          "Radial Velocity",
          "Radial Velocity",
          "Radial Velocity",
          "Radial Velocity",
          "Radial Velocity",
          "Radial Velocity",
          "Radial Velocity",
          "Radial Velocity",
          "Radial Velocity",
          "Radial Velocity",
          "Radial Velocity",
          "Radial Velocity",
          "Radial Velocity",
          "Radial Velocity",
          "Radial Velocity",
          "Radial Velocity",
          "Radial Velocity",
          "Radial Velocity",
          "Radial Velocity",
          "Radial Velocity",
          "Radial Velocity",
          "Radial Velocity",
          "Radial Velocity",
          "Radial Velocity",
          "Radial Velocity",
          "Radial Velocity",
          "Radial Velocity",
          "Radial Velocity",
          "Radial Velocity",
          "Radial Velocity",
          "Radial Velocity",
          "Radial Velocity",
          "Radial Velocity",
          "Radial Velocity",
          "Radial Velocity",
          "Radial Velocity",
          "Radial Velocity",
          "Radial Velocity",
          "Radial Velocity",
          "Radial Velocity",
          "Radial Velocity",
          "Radial Velocity",
          "Radial Velocity",
          "Radial Velocity",
          "Radial Velocity",
          "Radial Velocity",
          "Radial Velocity",
          "Radial Velocity",
          "Radial Velocity",
          "Radial Velocity",
          "Radial Velocity",
          "Radial Velocity",
          "Radial Velocity",
          "Radial Velocity",
          "Radial Velocity",
          "Radial Velocity",
          "Radial Velocity",
          "Radial Velocity",
          "Radial Velocity",
          "Radial Velocity",
          "Radial Velocity",
          "Radial Velocity",
          "Radial Velocity",
          "Radial Velocity",
          "Radial Velocity",
          "Radial Velocity",
          "Radial Velocity",
          "Radial Velocity",
          "Radial Velocity",
          "Radial Velocity",
          "Radial Velocity",
          "Radial Velocity",
          "Radial Velocity",
          "Radial Velocity",
          "Radial Velocity",
          "Radial Velocity",
          "Radial Velocity",
          "Radial Velocity",
          "Radial Velocity",
          "Radial Velocity",
          "Radial Velocity",
          "Radial Velocity",
          "Radial Velocity",
          "Radial Velocity",
          "Radial Velocity",
          "Radial Velocity",
          "Radial Velocity",
          "Radial Velocity",
          "Radial Velocity",
          "Radial Velocity",
          "Radial Velocity",
          "Radial Velocity",
          "Radial Velocity",
          "Radial Velocity",
          "Radial Velocity",
          "Radial Velocity",
          "Radial Velocity",
          "Radial Velocity",
          "Radial Velocity",
          "Radial Velocity"
         ],
         "x0": " ",
         "xaxis": "x",
         "y": {
          "bdata": "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",
          "dtype": "f8"
         },
         "y0": " ",
         "yaxis": "y"
        },
        {
         "alignmentgroup": "True",
         "boxpoints": "all",
         "hovertemplate": "method=%{x}<br>orbital_period=%{y}<extra></extra>",
         "legendgroup": "Transit",
         "marker": {
          "color": "#EF553B"
         },
         "name": "Transit",
         "notched": true,
         "offsetgroup": "Transit",
         "orientation": "v",
         "showlegend": true,
         "type": "box",
         "x": [
          "Transit"
         ],
         "x0": " ",
         "xaxis": "x",
         "y": {
          "bdata": "GJBiJYugBUA=",
          "dtype": "f8"
         },
         "y0": " ",
         "yaxis": "y"
        }
       ],
       "layout": {
        "boxmode": "overlay",
        "legend": {
         "title": {
          "text": "method"
         },
         "tracegroupgap": 0
        },
        "template": {
         "data": {
          "bar": [
           {
            "error_x": {
             "color": "#2a3f5f"
            },
            "error_y": {
             "color": "#2a3f5f"
            },
            "marker": {
             "line": {
              "color": "#E5ECF6",
              "width": 0.5
             },
             "pattern": {
              "fillmode": "overlay",
              "size": 10,
              "solidity": 0.2
             }
            },
            "type": "bar"
           }
          ],
          "barpolar": [
           {
            "marker": {
             "line": {
              "color": "#E5ECF6",
              "width": 0.5
             },
             "pattern": {
              "fillmode": "overlay",
              "size": 10,
              "solidity": 0.2
             }
            },
            "type": "barpolar"
           }
          ],
          "carpet": [
           {
            "aaxis": {
             "endlinecolor": "#2a3f5f",
             "gridcolor": "white",
             "linecolor": "white",
             "minorgridcolor": "white",
             "startlinecolor": "#2a3f5f"
            },
            "baxis": {
             "endlinecolor": "#2a3f5f",
             "gridcolor": "white",
             "linecolor": "white",
             "minorgridcolor": "white",
             "startlinecolor": "#2a3f5f"
            },
            "type": "carpet"
           }
          ],
          "choropleth": [
           {
            "colorbar": {
             "outlinewidth": 0,
             "ticks": ""
            },
            "type": "choropleth"
           }
          ],
          "contour": [
           {
            "colorbar": {
             "outlinewidth": 0,
             "ticks": ""
            },
            "colorscale": [
             [
              0,
              "#0d0887"
             ],
             [
              0.1111111111111111,
              "#46039f"
             ],
             [
              0.2222222222222222,
              "#7201a8"
             ],
             [
              0.3333333333333333,
              "#9c179e"
             ],
             [
              0.4444444444444444,
              "#bd3786"
             ],
             [
              0.5555555555555556,
              "#d8576b"
             ],
             [
              0.6666666666666666,
              "#ed7953"
             ],
             [
              0.7777777777777778,
              "#fb9f3a"
             ],
             [
              0.8888888888888888,
              "#fdca26"
             ],
             [
              1,
              "#f0f921"
             ]
            ],
            "type": "contour"
           }
          ],
          "contourcarpet": [
           {
            "colorbar": {
             "outlinewidth": 0,
             "ticks": ""
            },
            "type": "contourcarpet"
           }
          ],
          "heatmap": [
           {
            "colorbar": {
             "outlinewidth": 0,
             "ticks": ""
            },
            "colorscale": [
             [
              0,
              "#0d0887"
             ],
             [
              0.1111111111111111,
              "#46039f"
             ],
             [
              0.2222222222222222,
              "#7201a8"
             ],
             [
              0.3333333333333333,
              "#9c179e"
             ],
             [
              0.4444444444444444,
              "#bd3786"
             ],
             [
              0.5555555555555556,
              "#d8576b"
             ],
             [
              0.6666666666666666,
              "#ed7953"
             ],
             [
              0.7777777777777778,
              "#fb9f3a"
             ],
             [
              0.8888888888888888,
              "#fdca26"
             ],
             [
              1,
              "#f0f921"
             ]
            ],
            "type": "heatmap"
           }
          ],
          "histogram": [
           {
            "marker": {
             "pattern": {
              "fillmode": "overlay",
              "size": 10,
              "solidity": 0.2
             }
            },
            "type": "histogram"
           }
          ],
          "histogram2d": [
           {
            "colorbar": {
             "outlinewidth": 0,
             "ticks": ""
            },
            "colorscale": [
             [
              0,
              "#0d0887"
             ],
             [
              0.1111111111111111,
              "#46039f"
             ],
             [
              0.2222222222222222,
              "#7201a8"
             ],
             [
              0.3333333333333333,
              "#9c179e"
             ],
             [
              0.4444444444444444,
              "#bd3786"
             ],
             [
              0.5555555555555556,
              "#d8576b"
             ],
             [
              0.6666666666666666,
              "#ed7953"
             ],
             [
              0.7777777777777778,
              "#fb9f3a"
             ],
             [
              0.8888888888888888,
              "#fdca26"
             ],
             [
              1,
              "#f0f921"
             ]
            ],
            "type": "histogram2d"
           }
          ],
          "histogram2dcontour": [
           {
            "colorbar": {
             "outlinewidth": 0,
             "ticks": ""
            },
            "colorscale": [
             [
              0,
              "#0d0887"
             ],
             [
              0.1111111111111111,
              "#46039f"
             ],
             [
              0.2222222222222222,
              "#7201a8"
             ],
             [
              0.3333333333333333,
              "#9c179e"
             ],
             [
              0.4444444444444444,
              "#bd3786"
             ],
             [
              0.5555555555555556,
              "#d8576b"
             ],
             [
              0.6666666666666666,
              "#ed7953"
             ],
             [
              0.7777777777777778,
              "#fb9f3a"
             ],
             [
              0.8888888888888888,
              "#fdca26"
             ],
             [
              1,
              "#f0f921"
             ]
            ],
            "type": "histogram2dcontour"
           }
          ],
          "mesh3d": [
           {
            "colorbar": {
             "outlinewidth": 0,
             "ticks": ""
            },
            "type": "mesh3d"
           }
          ],
          "parcoords": [
           {
            "line": {
             "colorbar": {
              "outlinewidth": 0,
              "ticks": ""
             }
            },
            "type": "parcoords"
           }
          ],
          "pie": [
           {
            "automargin": true,
            "type": "pie"
           }
          ],
          "scatter": [
           {
            "fillpattern": {
             "fillmode": "overlay",
             "size": 10,
             "solidity": 0.2
            },
            "type": "scatter"
           }
          ],
          "scatter3d": [
           {
            "line": {
             "colorbar": {
              "outlinewidth": 0,
              "ticks": ""
             }
            },
            "marker": {
             "colorbar": {
              "outlinewidth": 0,
              "ticks": ""
             }
            },
            "type": "scatter3d"
           }
          ],
          "scattercarpet": [
           {
            "marker": {
             "colorbar": {
              "outlinewidth": 0,
              "ticks": ""
             }
            },
            "type": "scattercarpet"
           }
          ],
          "scattergeo": [
           {
            "marker": {
             "colorbar": {
              "outlinewidth": 0,
              "ticks": ""
             }
            },
            "type": "scattergeo"
           }
          ],
          "scattergl": [
           {
            "marker": {
             "colorbar": {
              "outlinewidth": 0,
              "ticks": ""
             }
            },
            "type": "scattergl"
           }
          ],
          "scattermap": [
           {
            "marker": {
             "colorbar": {
              "outlinewidth": 0,
              "ticks": ""
             }
            },
            "type": "scattermap"
           }
          ],
          "scattermapbox": [
           {
            "marker": {
             "colorbar": {
              "outlinewidth": 0,
              "ticks": ""
             }
            },
            "type": "scattermapbox"
           }
          ],
          "scatterpolar": [
           {
            "marker": {
             "colorbar": {
              "outlinewidth": 0,
              "ticks": ""
             }
            },
            "type": "scatterpolar"
           }
          ],
          "scatterpolargl": [
           {
            "marker": {
             "colorbar": {
              "outlinewidth": 0,
              "ticks": ""
             }
            },
            "type": "scatterpolargl"
           }
          ],
          "scatterternary": [
           {
            "marker": {
             "colorbar": {
              "outlinewidth": 0,
              "ticks": ""
             }
            },
            "type": "scatterternary"
           }
          ],
          "surface": [
           {
            "colorbar": {
             "outlinewidth": 0,
             "ticks": ""
            },
            "colorscale": [
             [
              0,
              "#0d0887"
             ],
             [
              0.1111111111111111,
              "#46039f"
             ],
             [
              0.2222222222222222,
              "#7201a8"
             ],
             [
              0.3333333333333333,
              "#9c179e"
             ],
             [
              0.4444444444444444,
              "#bd3786"
             ],
             [
              0.5555555555555556,
              "#d8576b"
             ],
             [
              0.6666666666666666,
              "#ed7953"
             ],
             [
              0.7777777777777778,
              "#fb9f3a"
             ],
             [
              0.8888888888888888,
              "#fdca26"
             ],
             [
              1,
              "#f0f921"
             ]
            ],
            "type": "surface"
           }
          ],
          "table": [
           {
            "cells": {
             "fill": {
              "color": "#EBF0F8"
             },
             "line": {
              "color": "white"
             }
            },
            "header": {
             "fill": {
              "color": "#C8D4E3"
             },
             "line": {
              "color": "white"
             }
            },
            "type": "table"
           }
          ]
         },
         "layout": {
          "annotationdefaults": {
           "arrowcolor": "#2a3f5f",
           "arrowhead": 0,
           "arrowwidth": 1
          },
          "autotypenumbers": "strict",
          "coloraxis": {
           "colorbar": {
            "outlinewidth": 0,
            "ticks": ""
           }
          },
          "colorscale": {
           "diverging": [
            [
             0,
             "#8e0152"
            ],
            [
             0.1,
             "#c51b7d"
            ],
            [
             0.2,
             "#de77ae"
            ],
            [
             0.3,
             "#f1b6da"
            ],
            [
             0.4,
             "#fde0ef"
            ],
            [
             0.5,
             "#f7f7f7"
            ],
            [
             0.6,
             "#e6f5d0"
            ],
            [
             0.7,
             "#b8e186"
            ],
            [
             0.8,
             "#7fbc41"
            ],
            [
             0.9,
             "#4d9221"
            ],
            [
             1,
             "#276419"
            ]
           ],
           "sequential": [
            [
             0,
             "#0d0887"
            ],
            [
             0.1111111111111111,
             "#46039f"
            ],
            [
             0.2222222222222222,
             "#7201a8"
            ],
            [
             0.3333333333333333,
             "#9c179e"
            ],
            [
             0.4444444444444444,
             "#bd3786"
            ],
            [
             0.5555555555555556,
             "#d8576b"
            ],
            [
             0.6666666666666666,
             "#ed7953"
            ],
            [
             0.7777777777777778,
             "#fb9f3a"
            ],
            [
             0.8888888888888888,
             "#fdca26"
            ],
            [
             1,
             "#f0f921"
            ]
           ],
           "sequentialminus": [
            [
             0,
             "#0d0887"
            ],
            [
             0.1111111111111111,
             "#46039f"
            ],
            [
             0.2222222222222222,
             "#7201a8"
            ],
            [
             0.3333333333333333,
             "#9c179e"
            ],
            [
             0.4444444444444444,
             "#bd3786"
            ],
            [
             0.5555555555555556,
             "#d8576b"
            ],
            [
             0.6666666666666666,
             "#ed7953"
            ],
            [
             0.7777777777777778,
             "#fb9f3a"
            ],
            [
             0.8888888888888888,
             "#fdca26"
            ],
            [
             1,
             "#f0f921"
            ]
           ]
          },
          "colorway": [
           "#636efa",
           "#EF553B",
           "#00cc96",
           "#ab63fa",
           "#FFA15A",
           "#19d3f3",
           "#FF6692",
           "#B6E880",
           "#FF97FF",
           "#FECB52"
          ],
          "font": {
           "color": "#2a3f5f"
          },
          "geo": {
           "bgcolor": "white",
           "lakecolor": "white",
           "landcolor": "#E5ECF6",
           "showlakes": true,
           "showland": true,
           "subunitcolor": "white"
          },
          "hoverlabel": {
           "align": "left"
          },
          "hovermode": "closest",
          "mapbox": {
           "style": "light"
          },
          "paper_bgcolor": "white",
          "plot_bgcolor": "#E5ECF6",
          "polar": {
           "angularaxis": {
            "gridcolor": "white",
            "linecolor": "white",
            "ticks": ""
           },
           "bgcolor": "#E5ECF6",
           "radialaxis": {
            "gridcolor": "white",
            "linecolor": "white",
            "ticks": ""
           }
          },
          "scene": {
           "xaxis": {
            "backgroundcolor": "#E5ECF6",
            "gridcolor": "white",
            "gridwidth": 2,
            "linecolor": "white",
            "showbackground": true,
            "ticks": "",
            "zerolinecolor": "white"
           },
           "yaxis": {
            "backgroundcolor": "#E5ECF6",
            "gridcolor": "white",
            "gridwidth": 2,
            "linecolor": "white",
            "showbackground": true,
            "ticks": "",
            "zerolinecolor": "white"
           },
           "zaxis": {
            "backgroundcolor": "#E5ECF6",
            "gridcolor": "white",
            "gridwidth": 2,
            "linecolor": "white",
            "showbackground": true,
            "ticks": "",
            "zerolinecolor": "white"
           }
          },
          "shapedefaults": {
           "line": {
            "color": "#2a3f5f"
           }
          },
          "ternary": {
           "aaxis": {
            "gridcolor": "white",
            "linecolor": "white",
            "ticks": ""
           },
           "baxis": {
            "gridcolor": "white",
            "linecolor": "white",
            "ticks": ""
           },
           "bgcolor": "#E5ECF6",
           "caxis": {
            "gridcolor": "white",
            "linecolor": "white",
            "ticks": ""
           }
          },
          "title": {
           "x": 0.05
          },
          "xaxis": {
           "automargin": true,
           "gridcolor": "white",
           "linecolor": "white",
           "ticks": "",
           "title": {
            "standoff": 15
           },
           "zerolinecolor": "white",
           "zerolinewidth": 2
          },
          "yaxis": {
           "automargin": true,
           "gridcolor": "white",
           "linecolor": "white",
           "ticks": "",
           "title": {
            "standoff": 15
           },
           "zerolinecolor": "white",
           "zerolinewidth": 2
          }
         }
        },
        "title": {
         "text": "Orbital_period Box Plot grouped by Method"
        },
        "xaxis": {
         "anchor": "y",
         "categoryarray": [
          "Radial Velocity",
          "Transit"
         ],
         "categoryorder": "array",
         "domain": [
          0,
          1
         ],
         "title": {
          "text": "method"
         }
        },
        "yaxis": {
         "anchor": "x",
         "domain": [
          0,
          1
         ],
         "title": {
          "text": "orbital_period"
         }
        }
       }
      },
      "image/png": "[encoded data removed]"
     },
     "metadata": {},
     "output_type": "display_data"
    },
    {
     "data": {
      "application/vnd.plotly.v1+json": {
       "config": {
        "plotlyServerURL": "https://plot.ly"
       },
       "data": [
        {
         "alignmentgroup": "True",
         "boxpoints": "all",
         "hovertemplate": "method=%{x}<br>mass=%{y}<extra></extra>",
         "legendgroup": "Radial Velocity",
         "marker": {
          "color": "#636efa"
         },
         "name": "Radial Velocity",
         "notched": true,
         "offsetgroup": "Radial Velocity",
         "orientation": "v",
         "showlegend": true,
         "type": "box",
         "x": [
          "Radial Velocity",
          "Radial Velocity",
          "Radial Velocity",
          "Radial Velocity",
          "Radial Velocity",
          "Radial Velocity",
          "Radial Velocity",
          "Radial Velocity",
          "Radial Velocity",
          "Radial Velocity",
          "Radial Velocity",
          "Radial Velocity",
          "Radial Velocity",
          "Radial Velocity",
          "Radial Velocity",
          "Radial Velocity",
          "Radial Velocity",
          "Radial Velocity",
          "Radial Velocity",
          "Radial Velocity",
          "Radial Velocity",
          "Radial Velocity",
          "Radial Velocity",
          "Radial Velocity",
          "Radial Velocity",
          "Radial Velocity",
          "Radial Velocity",
          "Radial Velocity",
          "Radial Velocity",
          "Radial Velocity",
          "Radial Velocity",
          "Radial Velocity",
          "Radial Velocity",
          "Radial Velocity",
          "Radial Velocity",
          "Radial Velocity",
          "Radial Velocity",
          "Radial Velocity",
          "Radial Velocity",
          "Radial Velocity",
          "Radial Velocity",
          "Radial Velocity",
          "Radial Velocity",
          "Radial Velocity",
          "Radial Velocity",
          "Radial Velocity",
          "Radial Velocity",
          "Radial Velocity",
          "Radial Velocity",
          "Radial Velocity",
          "Radial Velocity",
          "Radial Velocity",
          "Radial Velocity",
          "Radial Velocity",
          "Radial Velocity",
          "Radial Velocity",
          "Radial Velocity",
          "Radial Velocity",
          "Radial Velocity",
          "Radial Velocity",
          "Radial Velocity",
          "Radial Velocity",
          "Radial Velocity",
          "Radial Velocity",
          "Radial Velocity",
          "Radial Velocity",
          "Radial Velocity",
          "Radial Velocity",
          "Radial Velocity",
          "Radial Velocity",
          "Radial Velocity",
          "Radial Velocity",
          "Radial Velocity",
          "Radial Velocity",
          "Radial Velocity",
          "Radial Velocity",
          "Radial Velocity",
          "Radial Velocity",
          "Radial Velocity",
          "Radial Velocity",
          "Radial Velocity",
          "Radial Velocity",
          "Radial Velocity",
          "Radial Velocity",
          "Radial Velocity",
          "Radial Velocity",
          "Radial Velocity",
          "Radial Velocity",
          "Radial Velocity",
          "Radial Velocity",
          "Radial Velocity",
          "Radial Velocity",
          "Radial Velocity",
          "Radial Velocity",
          "Radial Velocity",
          "Radial Velocity",
          "Radial Velocity",
          "Radial Velocity",
          "Radial Velocity",
          "Radial Velocity",
          "Radial Velocity",
          "Radial Velocity",
          "Radial Velocity",
          "Radial Velocity",
          "Radial Velocity",
          "Radial Velocity",
          "Radial Velocity",
          "Radial Velocity",
          "Radial Velocity",
          "Radial Velocity",
          "Radial Velocity",
          "Radial Velocity",
          "Radial Velocity",
          "Radial Velocity",
          "Radial Velocity",
          "Radial Velocity",
          "Radial Velocity",
          "Radial Velocity",
          "Radial Velocity",
          "Radial Velocity",
          "Radial Velocity",
          "Radial Velocity",
          "Radial Velocity",
          "Radial Velocity",
          "Radial Velocity",
          "Radial Velocity",
          "Radial Velocity",
          "Radial Velocity",
          "Radial Velocity",
          "Radial Velocity",
          "Radial Velocity",
          "Radial Velocity",
          "Radial Velocity",
          "Radial Velocity",
          "Radial Velocity",
          "Radial Velocity",
          "Radial Velocity",
          "Radial Velocity",
          "Radial Velocity",
          "Radial Velocity",
          "Radial Velocity",
          "Radial Velocity",
          "Radial Velocity",
          "Radial Velocity",
          "Radial Velocity",
          "Radial Velocity",
          "Radial Velocity",
          "Radial Velocity",
          "Radial Velocity",
          "Radial Velocity",
          "Radial Velocity",
          "Radial Velocity",
          "Radial Velocity",
          "Radial Velocity",
          "Radial Velocity",
          "Radial Velocity",
          "Radial Velocity",
          "Radial Velocity",
          "Radial Velocity",
          "Radial Velocity",
          "Radial Velocity",
          "Radial Velocity",
          "Radial Velocity",
          "Radial Velocity",
          "Radial Velocity",
          "Radial Velocity",
          "Radial Velocity",
          "Radial Velocity",
          "Radial Velocity",
          "Radial Velocity",
          "Radial Velocity",
          "Radial Velocity",
          "Radial Velocity",
          "Radial Velocity",
          "Radial Velocity",
          "Radial Velocity",
          "Radial Velocity",
          "Radial Velocity",
          "Radial Velocity",
          "Radial Velocity",
          "Radial Velocity",
          "Radial Velocity",
          "Radial Velocity",
          "Radial Velocity",
          "Radial Velocity",
          "Radial Velocity",
          "Radial Velocity",
          "Radial Velocity",
          "Radial Velocity",
          "Radial Velocity",
          "Radial Velocity",
          "Radial Velocity",
          "Radial Velocity",
          "Radial Velocity",
          "Radial Velocity",
          "Radial Velocity",
          "Radial Velocity",
          "Radial Velocity",
          "Radial Velocity",
          "Radial Velocity",
          "Radial Velocity",
          "Radial Velocity",
          "Radial Velocity",
          "Radial Velocity",
          "Radial Velocity",
          "Radial Velocity",
          "Radial Velocity",
          "Radial Velocity",
          "Radial Velocity",
          "Radial Velocity",
          "Radial Velocity",
          "Radial Velocity",
          "Radial Velocity",
          "Radial Velocity",
          "Radial Velocity",
          "Radial Velocity",
          "Radial Velocity",
          "Radial Velocity",
          "Radial Velocity",
          "Radial Velocity",
          "Radial Velocity",
          "Radial Velocity",
          "Radial Velocity",
          "Radial Velocity",
          "Radial Velocity",
          "Radial Velocity",
          "Radial Velocity",
          "Radial Velocity",
          "Radial Velocity",
          "Radial Velocity",
          "Radial Velocity",
          "Radial Velocity",
          "Radial Velocity",
          "Radial Velocity",
          "Radial Velocity",
          "Radial Velocity",
          "Radial Velocity",
          "Radial Velocity",
          "Radial Velocity",
          "Radial Velocity",
          "Radial Velocity",
          "Radial Velocity",
          "Radial Velocity",
          "Radial Velocity",
          "Radial Velocity",
          "Radial Velocity",
          "Radial Velocity",
          "Radial Velocity",
          "Radial Velocity",
          "Radial Velocity",
          "Radial Velocity",
          "Radial Velocity",
          "Radial Velocity",
          "Radial Velocity",
          "Radial Velocity",
          "Radial Velocity",
          "Radial Velocity",
          "Radial Velocity",
          "Radial Velocity",
          "Radial Velocity",
          "Radial Velocity",
          "Radial Velocity",
          "Radial Velocity",
          "Radial Velocity",
          "Radial Velocity",
          "Radial Velocity",
          "Radial Velocity",
          "Radial Velocity",
          "Radial Velocity",
          "Radial Velocity",
          "Radial Velocity",
          "Radial Velocity",
          "Radial Velocity",
          "Radial Velocity",
          "Radial Velocity",
          "Radial Velocity",
          "Radial Velocity",
          "Radial Velocity",
          "Radial Velocity",
          "Radial Velocity",
          "Radial Velocity",
          "Radial Velocity",
          "Radial Velocity",
          "Radial Velocity",
          "Radial Velocity",
          "Radial Velocity",
          "Radial Velocity",
          "Radial Velocity",
          "Radial Velocity",
          "Radial Velocity",
          "Radial Velocity",
          "Radial Velocity",
          "Radial Velocity",
          "Radial Velocity",
          "Radial Velocity",
          "Radial Velocity",
          "Radial Velocity",
          "Radial Velocity",
          "Radial Velocity",
          "Radial Velocity",
          "Radial Velocity",
          "Radial Velocity",
          "Radial Velocity",
          "Radial Velocity",
          "Radial Velocity",
          "Radial Velocity",
          "Radial Velocity",
          "Radial Velocity",
          "Radial Velocity",
          "Radial Velocity",
          "Radial Velocity",
          "Radial Velocity",
          "Radial Velocity",
          "Radial Velocity",
          "Radial Velocity",
          "Radial Velocity",
          "Radial Velocity",
          "Radial Velocity",
          "Radial Velocity",
          "Radial Velocity",
          "Radial Velocity",
          "Radial Velocity",
          "Radial Velocity",
          "Radial Velocity",
          "Radial Velocity",
          "Radial Velocity",
          "Radial Velocity",
          "Radial Velocity",
          "Radial Velocity",
          "Radial Velocity",
          "Radial Velocity",
          "Radial Velocity",
          "Radial Velocity",
          "Radial Velocity",
          "Radial Velocity",
          "Radial Velocity",
          "Radial Velocity",
          "Radial Velocity",
          "Radial Velocity",
          "Radial Velocity",
          "Radial Velocity",
          "Radial Velocity",
          "Radial Velocity",
          "Radial Velocity",
          "Radial Velocity",
          "Radial Velocity",
          "Radial Velocity",
          "Radial Velocity",
          "Radial Velocity",
          "Radial Velocity",
          "Radial Velocity",
          "Radial Velocity",
          "Radial Velocity",
          "Radial Velocity",
          "Radial Velocity",
          "Radial Velocity",
          "Radial Velocity",
          "Radial Velocity",
          "Radial Velocity",
          "Radial Velocity",
          "Radial Velocity",
          "Radial Velocity",
          "Radial Velocity",
          "Radial Velocity",
          "Radial Velocity",
          "Radial Velocity",
          "Radial Velocity",
          "Radial Velocity",
          "Radial Velocity",
          "Radial Velocity",
          "Radial Velocity",
          "Radial Velocity",
          "Radial Velocity",
          "Radial Velocity",
          "Radial Velocity",
          "Radial Velocity",
          "Radial Velocity",
          "Radial Velocity",
          "Radial Velocity",
          "Radial Velocity",
          "Radial Velocity",
          "Radial Velocity",
          "Radial Velocity",
          "Radial Velocity",
          "Radial Velocity",
          "Radial Velocity",
          "Radial Velocity",
          "Radial Velocity",
          "Radial Velocity",
          "Radial Velocity",
          "Radial Velocity",
          "Radial Velocity",
          "Radial Velocity",
          "Radial Velocity",
          "Radial Velocity",
          "Radial Velocity",
          "Radial Velocity",
          "Radial Velocity",
          "Radial Velocity",
          "Radial Velocity",
          "Radial Velocity",
          "Radial Velocity",
          "Radial Velocity",
          "Radial Velocity",
          "Radial Velocity",
          "Radial Velocity",
          "Radial Velocity",
          "Radial Velocity",
          "Radial Velocity",
          "Radial Velocity",
          "Radial Velocity",
          "Radial Velocity",
          "Radial Velocity",
          "Radial Velocity",
          "Radial Velocity",
          "Radial Velocity",
          "Radial Velocity",
          "Radial Velocity",
          "Radial Velocity",
          "Radial Velocity",
          "Radial Velocity",
          "Radial Velocity",
          "Radial Velocity",
          "Radial Velocity",
          "Radial Velocity",
          "Radial Velocity",
          "Radial Velocity",
          "Radial Velocity",
          "Radial Velocity",
          "Radial Velocity",
          "Radial Velocity",
          "Radial Velocity",
          "Radial Velocity",
          "Radial Velocity",
          "Radial Velocity",
          "Radial Velocity",
          "Radial Velocity",
          "Radial Velocity",
          "Radial Velocity",
          "Radial Velocity",
          "Radial Velocity",
          "Radial Velocity",
          "Radial Velocity",
          "Radial Velocity",
          "Radial Velocity",
          "Radial Velocity",
          "Radial Velocity",
          "Radial Velocity",
          "Radial Velocity",
          "Radial Velocity",
          "Radial Velocity",
          "Radial Velocity",
          "Radial Velocity",
          "Radial Velocity",
          "Radial Velocity",
          "Radial Velocity",
          "Radial Velocity",
          "Radial Velocity",
          "Radial Velocity",
          "Radial Velocity",
          "Radial Velocity",
          "Radial Velocity",
          "Radial Velocity",
          "Radial Velocity",
          "Radial Velocity",
          "Radial Velocity",
          "Radial Velocity",
          "Radial Velocity",
          "Radial Velocity",
          "Radial Velocity",
          "Radial Velocity",
          "Radial Velocity",
          "Radial Velocity",
          "Radial Velocity",
          "Radial Velocity",
          "Radial Velocity",
          "Radial Velocity",
          "Radial Velocity",
          "Radial Velocity",
          "Radial Velocity",
          "Radial Velocity",
          "Radial Velocity",
          "Radial Velocity",
          "Radial Velocity",
          "Radial Velocity",
          "Radial Velocity",
          "Radial Velocity",
          "Radial Velocity",
          "Radial Velocity",
          "Radial Velocity",
          "Radial Velocity",
          "Radial Velocity",
          "Radial Velocity",
          "Radial Velocity",
          "Radial Velocity",
          "Radial Velocity",
          "Radial Velocity"
         ],
         "x0": " ",
         "xaxis": "x",
         "y": {
          "bdata": "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",
          "dtype": "f8"
         },
         "y0": " ",
         "yaxis": "y"
        },
        {
         "alignmentgroup": "True",
         "boxpoints": "all",
         "hovertemplate": "method=%{x}<br>mass=%{y}<extra></extra>",
         "legendgroup": "Transit",
         "marker": {
          "color": "#EF553B"
         },
         "name": "Transit",
         "notched": true,
         "offsetgroup": "Transit",
         "orientation": "v",
         "showlegend": true,
         "type": "box",
         "x": [
          "Transit"
         ],
         "x0": " ",
         "xaxis": "x",
         "y": {
          "bdata": "hetRuB6F9z8=",
          "dtype": "f8"
         },
         "y0": " ",
         "yaxis": "y"
        }
       ],
       "layout": {
        "boxmode": "overlay",
        "legend": {
         "title": {
          "text": "method"
         },
         "tracegroupgap": 0
        },
        "template": {
         "data": {
          "bar": [
           {
            "error_x": {
             "color": "#2a3f5f"
            },
            "error_y": {
             "color": "#2a3f5f"
            },
            "marker": {
             "line": {
              "color": "#E5ECF6",
              "width": 0.5
             },
             "pattern": {
              "fillmode": "overlay",
              "size": 10,
              "solidity": 0.2
             }
            },
            "type": "bar"
           }
          ],
          "barpolar": [
           {
            "marker": {
             "line": {
              "color": "#E5ECF6",
              "width": 0.5
             },
             "pattern": {
              "fillmode": "overlay",
              "size": 10,
              "solidity": 0.2
             }
            },
            "type": "barpolar"
           }
          ],
          "carpet": [
           {
            "aaxis": {
             "endlinecolor": "#2a3f5f",
             "gridcolor": "white",
             "linecolor": "white",
             "minorgridcolor": "white",
             "startlinecolor": "#2a3f5f"
            },
            "baxis": {
             "endlinecolor": "#2a3f5f",
             "gridcolor": "white",
             "linecolor": "white",
             "minorgridcolor": "white",
             "startlinecolor": "#2a3f5f"
            },
            "type": "carpet"
           }
          ],
          "choropleth": [
           {
            "colorbar": {
             "outlinewidth": 0,
             "ticks": ""
            },
            "type": "choropleth"
           }
          ],
          "contour": [
           {
            "colorbar": {
             "outlinewidth": 0,
             "ticks": ""
            },
            "colorscale": [
             [
              0,
              "#0d0887"
             ],
             [
              0.1111111111111111,
              "#46039f"
             ],
             [
              0.2222222222222222,
              "#7201a8"
             ],
             [
              0.3333333333333333,
              "#9c179e"
             ],
             [
              0.4444444444444444,
              "#bd3786"
             ],
             [
              0.5555555555555556,
              "#d8576b"
             ],
             [
              0.6666666666666666,
              "#ed7953"
             ],
             [
              0.7777777777777778,
              "#fb9f3a"
             ],
             [
              0.8888888888888888,
              "#fdca26"
             ],
             [
              1,
              "#f0f921"
             ]
            ],
            "type": "contour"
           }
          ],
          "contourcarpet": [
           {
            "colorbar": {
             "outlinewidth": 0,
             "ticks": ""
            },
            "type": "contourcarpet"
           }
          ],
          "heatmap": [
           {
            "colorbar": {
             "outlinewidth": 0,
             "ticks": ""
            },
            "colorscale": [
             [
              0,
              "#0d0887"
             ],
             [
              0.1111111111111111,
              "#46039f"
             ],
             [
              0.2222222222222222,
              "#7201a8"
             ],
             [
              0.3333333333333333,
              "#9c179e"
             ],
             [
              0.4444444444444444,
              "#bd3786"
             ],
             [
              0.5555555555555556,
              "#d8576b"
             ],
             [
              0.6666666666666666,
              "#ed7953"
             ],
             [
              0.7777777777777778,
              "#fb9f3a"
             ],
             [
              0.8888888888888888,
              "#fdca26"
             ],
             [
              1,
              "#f0f921"
             ]
            ],
            "type": "heatmap"
           }
          ],
          "histogram": [
           {
            "marker": {
             "pattern": {
              "fillmode": "overlay",
              "size": 10,
              "solidity": 0.2
             }
            },
            "type": "histogram"
           }
          ],
          "histogram2d": [
           {
            "colorbar": {
             "outlinewidth": 0,
             "ticks": ""
            },
            "colorscale": [
             [
              0,
              "#0d0887"
             ],
             [
              0.1111111111111111,
              "#46039f"
             ],
             [
              0.2222222222222222,
              "#7201a8"
             ],
             [
              0.3333333333333333,
              "#9c179e"
             ],
             [
              0.4444444444444444,
              "#bd3786"
             ],
             [
              0.5555555555555556,
              "#d8576b"
             ],
             [
              0.6666666666666666,
              "#ed7953"
             ],
             [
              0.7777777777777778,
              "#fb9f3a"
             ],
             [
              0.8888888888888888,
              "#fdca26"
             ],
             [
              1,
              "#f0f921"
             ]
            ],
            "type": "histogram2d"
           }
          ],
          "histogram2dcontour": [
           {
            "colorbar": {
             "outlinewidth": 0,
             "ticks": ""
            },
            "colorscale": [
             [
              0,
              "#0d0887"
             ],
             [
              0.1111111111111111,
              "#46039f"
             ],
             [
              0.2222222222222222,
              "#7201a8"
             ],
             [
              0.3333333333333333,
              "#9c179e"
             ],
             [
              0.4444444444444444,
              "#bd3786"
             ],
             [
              0.5555555555555556,
              "#d8576b"
             ],
             [
              0.6666666666666666,
              "#ed7953"
             ],
             [
              0.7777777777777778,
              "#fb9f3a"
             ],
             [
              0.8888888888888888,
              "#fdca26"
             ],
             [
              1,
              "#f0f921"
             ]
            ],
            "type": "histogram2dcontour"
           }
          ],
          "mesh3d": [
           {
            "colorbar": {
             "outlinewidth": 0,
             "ticks": ""
            },
            "type": "mesh3d"
           }
          ],
          "parcoords": [
           {
            "line": {
             "colorbar": {
              "outlinewidth": 0,
              "ticks": ""
             }
            },
            "type": "parcoords"
           }
          ],
          "pie": [
           {
            "automargin": true,
            "type": "pie"
           }
          ],
          "scatter": [
           {
            "fillpattern": {
             "fillmode": "overlay",
             "size": 10,
             "solidity": 0.2
            },
            "type": "scatter"
           }
          ],
          "scatter3d": [
           {
            "line": {
             "colorbar": {
              "outlinewidth": 0,
              "ticks": ""
             }
            },
            "marker": {
             "colorbar": {
              "outlinewidth": 0,
              "ticks": ""
             }
            },
            "type": "scatter3d"
           }
          ],
          "scattercarpet": [
           {
            "marker": {
             "colorbar": {
              "outlinewidth": 0,
              "ticks": ""
             }
            },
            "type": "scattercarpet"
           }
          ],
          "scattergeo": [
           {
            "marker": {
             "colorbar": {
              "outlinewidth": 0,
              "ticks": ""
             }
            },
            "type": "scattergeo"
           }
          ],
          "scattergl": [
           {
            "marker": {
             "colorbar": {
              "outlinewidth": 0,
              "ticks": ""
             }
            },
            "type": "scattergl"
           }
          ],
          "scattermap": [
           {
            "marker": {
             "colorbar": {
              "outlinewidth": 0,
              "ticks": ""
             }
            },
            "type": "scattermap"
           }
          ],
          "scattermapbox": [
           {
            "marker": {
             "colorbar": {
              "outlinewidth": 0,
              "ticks": ""
             }
            },
            "type": "scattermapbox"
           }
          ],
          "scatterpolar": [
           {
            "marker": {
             "colorbar": {
              "outlinewidth": 0,
              "ticks": ""
             }
            },
            "type": "scatterpolar"
           }
          ],
          "scatterpolargl": [
           {
            "marker": {
             "colorbar": {
              "outlinewidth": 0,
              "ticks": ""
             }
            },
            "type": "scatterpolargl"
           }
          ],
          "scatterternary": [
           {
            "marker": {
             "colorbar": {
              "outlinewidth": 0,
              "ticks": ""
             }
            },
            "type": "scatterternary"
           }
          ],
          "surface": [
           {
            "colorbar": {
             "outlinewidth": 0,
             "ticks": ""
            },
            "colorscale": [
             [
              0,
              "#0d0887"
             ],
             [
              0.1111111111111111,
              "#46039f"
             ],
             [
              0.2222222222222222,
              "#7201a8"
             ],
             [
              0.3333333333333333,
              "#9c179e"
             ],
             [
              0.4444444444444444,
              "#bd3786"
             ],
             [
              0.5555555555555556,
              "#d8576b"
             ],
             [
              0.6666666666666666,
              "#ed7953"
             ],
             [
              0.7777777777777778,
              "#fb9f3a"
             ],
             [
              0.8888888888888888,
              "#fdca26"
             ],
             [
              1,
              "#f0f921"
             ]
            ],
            "type": "surface"
           }
          ],
          "table": [
           {
            "cells": {
             "fill": {
              "color": "#EBF0F8"
             },
             "line": {
              "color": "white"
             }
            },
            "header": {
             "fill": {
              "color": "#C8D4E3"
             },
             "line": {
              "color": "white"
             }
            },
            "type": "table"
           }
          ]
         },
         "layout": {
          "annotationdefaults": {
           "arrowcolor": "#2a3f5f",
           "arrowhead": 0,
           "arrowwidth": 1
          },
          "autotypenumbers": "strict",
          "coloraxis": {
           "colorbar": {
            "outlinewidth": 0,
            "ticks": ""
           }
          },
          "colorscale": {
           "diverging": [
            [
             0,
             "#8e0152"
            ],
            [
             0.1,
             "#c51b7d"
            ],
            [
             0.2,
             "#de77ae"
            ],
            [
             0.3,
             "#f1b6da"
            ],
            [
             0.4,
             "#fde0ef"
            ],
            [
             0.5,
             "#f7f7f7"
            ],
            [
             0.6,
             "#e6f5d0"
            ],
            [
             0.7,
             "#b8e186"
            ],
            [
             0.8,
             "#7fbc41"
            ],
            [
             0.9,
             "#4d9221"
            ],
            [
             1,
             "#276419"
            ]
           ],
           "sequential": [
            [
             0,
             "#0d0887"
            ],
            [
             0.1111111111111111,
             "#46039f"
            ],
            [
             0.2222222222222222,
             "#7201a8"
            ],
            [
             0.3333333333333333,
             "#9c179e"
            ],
            [
             0.4444444444444444,
             "#bd3786"
            ],
            [
             0.5555555555555556,
             "#d8576b"
            ],
            [
             0.6666666666666666,
             "#ed7953"
            ],
            [
             0.7777777777777778,
             "#fb9f3a"
            ],
            [
             0.8888888888888888,
             "#fdca26"
            ],
            [
             1,
             "#f0f921"
            ]
           ],
           "sequentialminus": [
            [
             0,
             "#0d0887"
            ],
            [
             0.1111111111111111,
             "#46039f"
            ],
            [
             0.2222222222222222,
             "#7201a8"
            ],
            [
             0.3333333333333333,
             "#9c179e"
            ],
            [
             0.4444444444444444,
             "#bd3786"
            ],
            [
             0.5555555555555556,
             "#d8576b"
            ],
            [
             0.6666666666666666,
             "#ed7953"
            ],
            [
             0.7777777777777778,
             "#fb9f3a"
            ],
            [
             0.8888888888888888,
             "#fdca26"
            ],
            [
             1,
             "#f0f921"
            ]
           ]
          },
          "colorway": [
           "#636efa",
           "#EF553B",
           "#00cc96",
           "#ab63fa",
           "#FFA15A",
           "#19d3f3",
           "#FF6692",
           "#B6E880",
           "#FF97FF",
           "#FECB52"
          ],
          "font": {
           "color": "#2a3f5f"
          },
          "geo": {
           "bgcolor": "white",
           "lakecolor": "white",
           "landcolor": "#E5ECF6",
           "showlakes": true,
           "showland": true,
           "subunitcolor": "white"
          },
          "hoverlabel": {
           "align": "left"
          },
          "hovermode": "closest",
          "mapbox": {
           "style": "light"
          },
          "paper_bgcolor": "white",
          "plot_bgcolor": "#E5ECF6",
          "polar": {
           "angularaxis": {
            "gridcolor": "white",
            "linecolor": "white",
            "ticks": ""
           },
           "bgcolor": "#E5ECF6",
           "radialaxis": {
            "gridcolor": "white",
            "linecolor": "white",
            "ticks": ""
           }
          },
          "scene": {
           "xaxis": {
            "backgroundcolor": "#E5ECF6",
            "gridcolor": "white",
            "gridwidth": 2,
            "linecolor": "white",
            "showbackground": true,
            "ticks": "",
            "zerolinecolor": "white"
           },
           "yaxis": {
            "backgroundcolor": "#E5ECF6",
            "gridcolor": "white",
            "gridwidth": 2,
            "linecolor": "white",
            "showbackground": true,
            "ticks": "",
            "zerolinecolor": "white"
           },
           "zaxis": {
            "backgroundcolor": "#E5ECF6",
            "gridcolor": "white",
            "gridwidth": 2,
            "linecolor": "white",
            "showbackground": true,
            "ticks": "",
            "zerolinecolor": "white"
           }
          },
          "shapedefaults": {
           "line": {
            "color": "#2a3f5f"
           }
          },
          "ternary": {
           "aaxis": {
            "gridcolor": "white",
            "linecolor": "white",
            "ticks": ""
           },
           "baxis": {
            "gridcolor": "white",
            "linecolor": "white",
            "ticks": ""
           },
           "bgcolor": "#E5ECF6",
           "caxis": {
            "gridcolor": "white",
            "linecolor": "white",
            "ticks": ""
           }
          },
          "title": {
           "x": 0.05
          },
          "xaxis": {
           "automargin": true,
           "gridcolor": "white",
           "linecolor": "white",
           "ticks": "",
           "title": {
            "standoff": 15
           },
           "zerolinecolor": "white",
           "zerolinewidth": 2
          },
          "yaxis": {
           "automargin": true,
           "gridcolor": "white",
           "linecolor": "white",
           "ticks": "",
           "title": {
            "standoff": 15
           },
           "zerolinecolor": "white",
           "zerolinewidth": 2
          }
         }
        },
        "title": {
         "text": "Mass Box Plot grouped by Method"
        },
        "xaxis": {
         "anchor": "y",
         "categoryarray": [
          "Radial Velocity",
          "Transit"
         ],
         "categoryorder": "array",
         "domain": [
          0,
          1
         ],
         "title": {
          "text": "method"
         }
        },
        "yaxis": {
         "anchor": "x",
         "domain": [
          0,
          1
         ],
         "title": {
          "text": "mass"
         }
        }
       }
      },
      "image/png": "[encoded data removed]"
     },
     "metadata": {},
     "output_type": "display_data"
    },
    {
     "data": {
      "application/vnd.plotly.v1+json": {
       "config": {
        "plotlyServerURL": "https://plot.ly"
       },
       "data": [
        {
         "alignmentgroup": "True",
         "boxpoints": "all",
         "hovertemplate": "method=%{x}<br>distance=%{y}<extra></extra>",
         "legendgroup": "Radial Velocity",
         "marker": {
          "color": "#636efa"
         },
         "name": "Radial Velocity",
         "notched": true,
         "offsetgroup": "Radial Velocity",
         "orientation": "v",
         "showlegend": true,
         "type": "box",
         "x": [
          "Radial Velocity",
          "Radial Velocity",
          "Radial Velocity",
          "Radial Velocity",
          "Radial Velocity",
          "Radial Velocity",
          "Radial Velocity",
          "Radial Velocity",
          "Radial Velocity",
          "Radial Velocity",
          "Radial Velocity",
          "Radial Velocity",
          "Radial Velocity",
          "Radial Velocity",
          "Radial Velocity",
          "Radial Velocity",
          "Radial Velocity",
          "Radial Velocity",
          "Radial Velocity",
          "Radial Velocity",
          "Radial Velocity",
          "Radial Velocity",
          "Radial Velocity",
          "Radial Velocity",
          "Radial Velocity",
          "Radial Velocity",
          "Radial Velocity",
          "Radial Velocity",
          "Radial Velocity",
          "Radial Velocity",
          "Radial Velocity",
          "Radial Velocity",
          "Radial Velocity",
          "Radial Velocity",
          "Radial Velocity",
          "Radial Velocity",
          "Radial Velocity",
          "Radial Velocity",
          "Radial Velocity",
          "Radial Velocity",
          "Radial Velocity",
          "Radial Velocity",
          "Radial Velocity",
          "Radial Velocity",
          "Radial Velocity",
          "Radial Velocity",
          "Radial Velocity",
          "Radial Velocity",
          "Radial Velocity",
          "Radial Velocity",
          "Radial Velocity",
          "Radial Velocity",
          "Radial Velocity",
          "Radial Velocity",
          "Radial Velocity",
          "Radial Velocity",
          "Radial Velocity",
          "Radial Velocity",
          "Radial Velocity",
          "Radial Velocity",
          "Radial Velocity",
          "Radial Velocity",
          "Radial Velocity",
          "Radial Velocity",
          "Radial Velocity",
          "Radial Velocity",
          "Radial Velocity",
          "Radial Velocity",
          "Radial Velocity",
          "Radial Velocity",
          "Radial Velocity",
          "Radial Velocity",
          "Radial Velocity",
          "Radial Velocity",
          "Radial Velocity",
          "Radial Velocity",
          "Radial Velocity",
          "Radial Velocity",
          "Radial Velocity",
          "Radial Velocity",
          "Radial Velocity",
          "Radial Velocity",
          "Radial Velocity",
          "Radial Velocity",
          "Radial Velocity",
          "Radial Velocity",
          "Radial Velocity",
          "Radial Velocity",
          "Radial Velocity",
          "Radial Velocity",
          "Radial Velocity",
          "Radial Velocity",
          "Radial Velocity",
          "Radial Velocity",
          "Radial Velocity",
          "Radial Velocity",
          "Radial Velocity",
          "Radial Velocity",
          "Radial Velocity",
          "Radial Velocity",
          "Radial Velocity",
          "Radial Velocity",
          "Radial Velocity",
          "Radial Velocity",
          "Radial Velocity",
          "Radial Velocity",
          "Radial Velocity",
          "Radial Velocity",
          "Radial Velocity",
          "Radial Velocity",
          "Radial Velocity",
          "Radial Velocity",
          "Radial Velocity",
          "Radial Velocity",
          "Radial Velocity",
          "Radial Velocity",
          "Radial Velocity",
          "Radial Velocity",
          "Radial Velocity",
          "Radial Velocity",
          "Radial Velocity",
          "Radial Velocity",
          "Radial Velocity",
          "Radial Velocity",
          "Radial Velocity",
          "Radial Velocity",
          "Radial Velocity",
          "Radial Velocity",
          "Radial Velocity",
          "Radial Velocity",
          "Radial Velocity",
          "Radial Velocity",
          "Radial Velocity",
          "Radial Velocity",
          "Radial Velocity",
          "Radial Velocity",
          "Radial Velocity",
          "Radial Velocity",
          "Radial Velocity",
          "Radial Velocity",
          "Radial Velocity",
          "Radial Velocity",
          "Radial Velocity",
          "Radial Velocity",
          "Radial Velocity",
          "Radial Velocity",
          "Radial Velocity",
          "Radial Velocity",
          "Radial Velocity",
          "Radial Velocity",
          "Radial Velocity",
          "Radial Velocity",
          "Radial Velocity",
          "Radial Velocity",
          "Radial Velocity",
          "Radial Velocity",
          "Radial Velocity",
          "Radial Velocity",
          "Radial Velocity",
          "Radial Velocity",
          "Radial Velocity",
          "Radial Velocity",
          "Radial Velocity",
          "Radial Velocity",
          "Radial Velocity",
          "Radial Velocity",
          "Radial Velocity",
          "Radial Velocity",
          "Radial Velocity",
          "Radial Velocity",
          "Radial Velocity",
          "Radial Velocity",
          "Radial Velocity",
          "Radial Velocity",
          "Radial Velocity",
          "Radial Velocity",
          "Radial Velocity",
          "Radial Velocity",
          "Radial Velocity",
          "Radial Velocity",
          "Radial Velocity",
          "Radial Velocity",
          "Radial Velocity",
          "Radial Velocity",
          "Radial Velocity",
          "Radial Velocity",
          "Radial Velocity",
          "Radial Velocity",
          "Radial Velocity",
          "Radial Velocity",
          "Radial Velocity",
          "Radial Velocity",
          "Radial Velocity",
          "Radial Velocity",
          "Radial Velocity",
          "Radial Velocity",
          "Radial Velocity",
          "Radial Velocity",
          "Radial Velocity",
          "Radial Velocity",
          "Radial Velocity",
          "Radial Velocity",
          "Radial Velocity",
          "Radial Velocity",
          "Radial Velocity",
          "Radial Velocity",
          "Radial Velocity",
          "Radial Velocity",
          "Radial Velocity",
          "Radial Velocity",
          "Radial Velocity",
          "Radial Velocity",
          "Radial Velocity",
          "Radial Velocity",
          "Radial Velocity",
          "Radial Velocity",
          "Radial Velocity",
          "Radial Velocity",
          "Radial Velocity",
          "Radial Velocity",
          "Radial Velocity",
          "Radial Velocity",
          "Radial Velocity",
          "Radial Velocity",
          "Radial Velocity",
          "Radial Velocity",
          "Radial Velocity",
          "Radial Velocity",
          "Radial Velocity",
          "Radial Velocity",
          "Radial Velocity",
          "Radial Velocity",
          "Radial Velocity",
          "Radial Velocity",
          "Radial Velocity",
          "Radial Velocity",
          "Radial Velocity",
          "Radial Velocity",
          "Radial Velocity",
          "Radial Velocity",
          "Radial Velocity",
          "Radial Velocity",
          "Radial Velocity",
          "Radial Velocity",
          "Radial Velocity",
          "Radial Velocity",
          "Radial Velocity",
          "Radial Velocity",
          "Radial Velocity",
          "Radial Velocity",
          "Radial Velocity",
          "Radial Velocity",
          "Radial Velocity",
          "Radial Velocity",
          "Radial Velocity",
          "Radial Velocity",
          "Radial Velocity",
          "Radial Velocity",
          "Radial Velocity",
          "Radial Velocity",
          "Radial Velocity",
          "Radial Velocity",
          "Radial Velocity",
          "Radial Velocity",
          "Radial Velocity",
          "Radial Velocity",
          "Radial Velocity",
          "Radial Velocity",
          "Radial Velocity",
          "Radial Velocity",
          "Radial Velocity",
          "Radial Velocity",
          "Radial Velocity",
          "Radial Velocity",
          "Radial Velocity",
          "Radial Velocity",
          "Radial Velocity",
          "Radial Velocity",
          "Radial Velocity",
          "Radial Velocity",
          "Radial Velocity",
          "Radial Velocity",
          "Radial Velocity",
          "Radial Velocity",
          "Radial Velocity",
          "Radial Velocity",
          "Radial Velocity",
          "Radial Velocity",
          "Radial Velocity",
          "Radial Velocity",
          "Radial Velocity",
          "Radial Velocity",
          "Radial Velocity",
          "Radial Velocity",
          "Radial Velocity",
          "Radial Velocity",
          "Radial Velocity",
          "Radial Velocity",
          "Radial Velocity",
          "Radial Velocity",
          "Radial Velocity",
          "Radial Velocity",
          "Radial Velocity",
          "Radial Velocity",
          "Radial Velocity",
          "Radial Velocity",
          "Radial Velocity",
          "Radial Velocity",
          "Radial Velocity",
          "Radial Velocity",
          "Radial Velocity",
          "Radial Velocity",
          "Radial Velocity",
          "Radial Velocity",
          "Radial Velocity",
          "Radial Velocity",
          "Radial Velocity",
          "Radial Velocity",
          "Radial Velocity",
          "Radial Velocity",
          "Radial Velocity",
          "Radial Velocity",
          "Radial Velocity",
          "Radial Velocity",
          "Radial Velocity",
          "Radial Velocity",
          "Radial Velocity",
          "Radial Velocity",
          "Radial Velocity",
          "Radial Velocity",
          "Radial Velocity",
          "Radial Velocity",
          "Radial Velocity",
          "Radial Velocity",
          "Radial Velocity",
          "Radial Velocity",
          "Radial Velocity",
          "Radial Velocity",
          "Radial Velocity",
          "Radial Velocity",
          "Radial Velocity",
          "Radial Velocity",
          "Radial Velocity",
          "Radial Velocity",
          "Radial Velocity",
          "Radial Velocity",
          "Radial Velocity",
          "Radial Velocity",
          "Radial Velocity",
          "Radial Velocity",
          "Radial Velocity",
          "Radial Velocity",
          "Radial Velocity",
          "Radial Velocity",
          "Radial Velocity",
          "Radial Velocity",
          "Radial Velocity",
          "Radial Velocity",
          "Radial Velocity",
          "Radial Velocity",
          "Radial Velocity",
          "Radial Velocity",
          "Radial Velocity",
          "Radial Velocity",
          "Radial Velocity",
          "Radial Velocity",
          "Radial Velocity",
          "Radial Velocity",
          "Radial Velocity",
          "Radial Velocity",
          "Radial Velocity",
          "Radial Velocity",
          "Radial Velocity",
          "Radial Velocity",
          "Radial Velocity",
          "Radial Velocity",
          "Radial Velocity",
          "Radial Velocity",
          "Radial Velocity",
          "Radial Velocity",
          "Radial Velocity",
          "Radial Velocity",
          "Radial Velocity",
          "Radial Velocity",
          "Radial Velocity",
          "Radial Velocity",
          "Radial Velocity",
          "Radial Velocity",
          "Radial Velocity",
          "Radial Velocity",
          "Radial Velocity",
          "Radial Velocity",
          "Radial Velocity",
          "Radial Velocity",
          "Radial Velocity",
          "Radial Velocity",
          "Radial Velocity",
          "Radial Velocity",
          "Radial Velocity",
          "Radial Velocity",
          "Radial Velocity",
          "Radial Velocity",
          "Radial Velocity",
          "Radial Velocity",
          "Radial Velocity",
          "Radial Velocity",
          "Radial Velocity",
          "Radial Velocity",
          "Radial Velocity",
          "Radial Velocity",
          "Radial Velocity",
          "Radial Velocity",
          "Radial Velocity",
          "Radial Velocity",
          "Radial Velocity",
          "Radial Velocity",
          "Radial Velocity",
          "Radial Velocity",
          "Radial Velocity",
          "Radial Velocity",
          "Radial Velocity",
          "Radial Velocity",
          "Radial Velocity",
          "Radial Velocity",
          "Radial Velocity",
          "Radial Velocity",
          "Radial Velocity",
          "Radial Velocity",
          "Radial Velocity",
          "Radial Velocity",
          "Radial Velocity",
          "Radial Velocity",
          "Radial Velocity",
          "Radial Velocity",
          "Radial Velocity",
          "Radial Velocity",
          "Radial Velocity",
          "Radial Velocity",
          "Radial Velocity",
          "Radial Velocity",
          "Radial Velocity",
          "Radial Velocity",
          "Radial Velocity",
          "Radial Velocity",
          "Radial Velocity",
          "Radial Velocity",
          "Radial Velocity",
          "Radial Velocity",
          "Radial Velocity",
          "Radial Velocity",
          "Radial Velocity",
          "Radial Velocity",
          "Radial Velocity",
          "Radial Velocity",
          "Radial Velocity",
          "Radial Velocity",
          "Radial Velocity",
          "Radial Velocity",
          "Radial Velocity",
          "Radial Velocity",
          "Radial Velocity",
          "Radial Velocity",
          "Radial Velocity",
          "Radial Velocity",
          "Radial Velocity",
          "Radial Velocity",
          "Radial Velocity",
          "Radial Velocity",
          "Radial Velocity",
          "Radial Velocity",
          "Radial Velocity",
          "Radial Velocity",
          "Radial Velocity",
          "Radial Velocity",
          "Radial Velocity",
          "Radial Velocity",
          "Radial Velocity",
          "Radial Velocity",
          "Radial Velocity",
          "Radial Velocity",
          "Radial Velocity",
          "Radial Velocity",
          "Radial Velocity",
          "Radial Velocity",
          "Radial Velocity",
          "Radial Velocity",
          "Radial Velocity",
          "Radial Velocity",
          "Radial Velocity",
          "Radial Velocity",
          "Radial Velocity",
          "Radial Velocity",
          "Radial Velocity",
          "Radial Velocity",
          "Radial Velocity",
          "Radial Velocity",
          "Radial Velocity"
         ],
         "x0": " ",
         "xaxis": "x",
         "y": {
          "bdata": "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",
          "dtype": "f8"
         },
         "y0": " ",
         "yaxis": "y"
        },
        {
         "alignmentgroup": "True",
         "boxpoints": "all",
         "hovertemplate": "method=%{x}<br>distance=%{y}<extra></extra>",
         "legendgroup": "Transit",
         "marker": {
          "color": "#EF553B"
         },
         "name": "Transit",
         "notched": true,
         "offsetgroup": "Transit",
         "orientation": "v",
         "showlegend": true,
         "type": "box",
         "x": [
          "Transit"
         ],
         "x0": " ",
         "xaxis": "x",
         "y": {
          "bdata": "AAAAAABAZkA=",
          "dtype": "f8"
         },
         "y0": " ",
         "yaxis": "y"
        }
       ],
       "layout": {
        "boxmode": "overlay",
        "legend": {
         "title": {
          "text": "method"
         },
         "tracegroupgap": 0
        },
        "template": {
         "data": {
          "bar": [
           {
            "error_x": {
             "color": "#2a3f5f"
            },
            "error_y": {
             "color": "#2a3f5f"
            },
            "marker": {
             "line": {
              "color": "#E5ECF6",
              "width": 0.5
             },
             "pattern": {
              "fillmode": "overlay",
              "size": 10,
              "solidity": 0.2
             }
            },
            "type": "bar"
           }
          ],
          "barpolar": [
           {
            "marker": {
             "line": {
              "color": "#E5ECF6",
              "width": 0.5
             },
             "pattern": {
              "fillmode": "overlay",
              "size": 10,
              "solidity": 0.2
             }
            },
            "type": "barpolar"
           }
          ],
          "carpet": [
           {
            "aaxis": {
             "endlinecolor": "#2a3f5f",
             "gridcolor": "white",
             "linecolor": "white",
             "minorgridcolor": "white",
             "startlinecolor": "#2a3f5f"
            },
            "baxis": {
             "endlinecolor": "#2a3f5f",
             "gridcolor": "white",
             "linecolor": "white",
             "minorgridcolor": "white",
             "startlinecolor": "#2a3f5f"
            },
            "type": "carpet"
           }
          ],
          "choropleth": [
           {
            "colorbar": {
             "outlinewidth": 0,
             "ticks": ""
            },
            "type": "choropleth"
           }
          ],
          "contour": [
           {
            "colorbar": {
             "outlinewidth": 0,
             "ticks": ""
            },
            "colorscale": [
             [
              0,
              "#0d0887"
             ],
             [
              0.1111111111111111,
              "#46039f"
             ],
             [
              0.2222222222222222,
              "#7201a8"
             ],
             [
              0.3333333333333333,
              "#9c179e"
             ],
             [
              0.4444444444444444,
              "#bd3786"
             ],
             [
              0.5555555555555556,
              "#d8576b"
             ],
             [
              0.6666666666666666,
              "#ed7953"
             ],
             [
              0.7777777777777778,
              "#fb9f3a"
             ],
             [
              0.8888888888888888,
              "#fdca26"
             ],
             [
              1,
              "#f0f921"
             ]
            ],
            "type": "contour"
           }
          ],
          "contourcarpet": [
           {
            "colorbar": {
             "outlinewidth": 0,
             "ticks": ""
            },
            "type": "contourcarpet"
           }
          ],
          "heatmap": [
           {
            "colorbar": {
             "outlinewidth": 0,
             "ticks": ""
            },
            "colorscale": [
             [
              0,
              "#0d0887"
             ],
             [
              0.1111111111111111,
              "#46039f"
             ],
             [
              0.2222222222222222,
              "#7201a8"
             ],
             [
              0.3333333333333333,
              "#9c179e"
             ],
             [
              0.4444444444444444,
              "#bd3786"
             ],
             [
              0.5555555555555556,
              "#d8576b"
             ],
             [
              0.6666666666666666,
              "#ed7953"
             ],
             [
              0.7777777777777778,
              "#fb9f3a"
             ],
             [
              0.8888888888888888,
              "#fdca26"
             ],
             [
              1,
              "#f0f921"
             ]
            ],
            "type": "heatmap"
           }
          ],
          "histogram": [
           {
            "marker": {
             "pattern": {
              "fillmode": "overlay",
              "size": 10,
              "solidity": 0.2
             }
            },
            "type": "histogram"
           }
          ],
          "histogram2d": [
           {
            "colorbar": {
             "outlinewidth": 0,
             "ticks": ""
            },
            "colorscale": [
             [
              0,
              "#0d0887"
             ],
             [
              0.1111111111111111,
              "#46039f"
             ],
             [
              0.2222222222222222,
              "#7201a8"
             ],
             [
              0.3333333333333333,
              "#9c179e"
             ],
             [
              0.4444444444444444,
              "#bd3786"
             ],
             [
              0.5555555555555556,
              "#d8576b"
             ],
             [
              0.6666666666666666,
              "#ed7953"
             ],
             [
              0.7777777777777778,
              "#fb9f3a"
             ],
             [
              0.8888888888888888,
              "#fdca26"
             ],
             [
              1,
              "#f0f921"
             ]
            ],
            "type": "histogram2d"
           }
          ],
          "histogram2dcontour": [
           {
            "colorbar": {
             "outlinewidth": 0,
             "ticks": ""
            },
            "colorscale": [
             [
              0,
              "#0d0887"
             ],
             [
              0.1111111111111111,
              "#46039f"
             ],
             [
              0.2222222222222222,
              "#7201a8"
             ],
             [
              0.3333333333333333,
              "#9c179e"
             ],
             [
              0.4444444444444444,
              "#bd3786"
             ],
             [
              0.5555555555555556,
              "#d8576b"
             ],
             [
              0.6666666666666666,
              "#ed7953"
             ],
             [
              0.7777777777777778,
              "#fb9f3a"
             ],
             [
              0.8888888888888888,
              "#fdca26"
             ],
             [
              1,
              "#f0f921"
             ]
            ],
            "type": "histogram2dcontour"
           }
          ],
          "mesh3d": [
           {
            "colorbar": {
             "outlinewidth": 0,
             "ticks": ""
            },
            "type": "mesh3d"
           }
          ],
          "parcoords": [
           {
            "line": {
             "colorbar": {
              "outlinewidth": 0,
              "ticks": ""
             }
            },
            "type": "parcoords"
           }
          ],
          "pie": [
           {
            "automargin": true,
            "type": "pie"
           }
          ],
          "scatter": [
           {
            "fillpattern": {
             "fillmode": "overlay",
             "size": 10,
             "solidity": 0.2
            },
            "type": "scatter"
           }
          ],
          "scatter3d": [
           {
            "line": {
             "colorbar": {
              "outlinewidth": 0,
              "ticks": ""
             }
            },
            "marker": {
             "colorbar": {
              "outlinewidth": 0,
              "ticks": ""
             }
            },
            "type": "scatter3d"
           }
          ],
          "scattercarpet": [
           {
            "marker": {
             "colorbar": {
              "outlinewidth": 0,
              "ticks": ""
             }
            },
            "type": "scattercarpet"
           }
          ],
          "scattergeo": [
           {
            "marker": {
             "colorbar": {
              "outlinewidth": 0,
              "ticks": ""
             }
            },
            "type": "scattergeo"
           }
          ],
          "scattergl": [
           {
            "marker": {
             "colorbar": {
              "outlinewidth": 0,
              "ticks": ""
             }
            },
            "type": "scattergl"
           }
          ],
          "scattermap": [
           {
            "marker": {
             "colorbar": {
              "outlinewidth": 0,
              "ticks": ""
             }
            },
            "type": "scattermap"
           }
          ],
          "scattermapbox": [
           {
            "marker": {
             "colorbar": {
              "outlinewidth": 0,
              "ticks": ""
             }
            },
            "type": "scattermapbox"
           }
          ],
          "scatterpolar": [
           {
            "marker": {
             "colorbar": {
              "outlinewidth": 0,
              "ticks": ""
             }
            },
            "type": "scatterpolar"
           }
          ],
          "scatterpolargl": [
           {
            "marker": {
             "colorbar": {
              "outlinewidth": 0,
              "ticks": ""
             }
            },
            "type": "scatterpolargl"
           }
          ],
          "scatterternary": [
           {
            "marker": {
             "colorbar": {
              "outlinewidth": 0,
              "ticks": ""
             }
            },
            "type": "scatterternary"
           }
          ],
          "surface": [
           {
            "colorbar": {
             "outlinewidth": 0,
             "ticks": ""
            },
            "colorscale": [
             [
              0,
              "#0d0887"
             ],
             [
              0.1111111111111111,
              "#46039f"
             ],
             [
              0.2222222222222222,
              "#7201a8"
             ],
             [
              0.3333333333333333,
              "#9c179e"
             ],
             [
              0.4444444444444444,
              "#bd3786"
             ],
             [
              0.5555555555555556,
              "#d8576b"
             ],
             [
              0.6666666666666666,
              "#ed7953"
             ],
             [
              0.7777777777777778,
              "#fb9f3a"
             ],
             [
              0.8888888888888888,
              "#fdca26"
             ],
             [
              1,
              "#f0f921"
             ]
            ],
            "type": "surface"
           }
          ],
          "table": [
           {
            "cells": {
             "fill": {
              "color": "#EBF0F8"
             },
             "line": {
              "color": "white"
             }
            },
            "header": {
             "fill": {
              "color": "#C8D4E3"
             },
             "line": {
              "color": "white"
             }
            },
            "type": "table"
           }
          ]
         },
         "layout": {
          "annotationdefaults": {
           "arrowcolor": "#2a3f5f",
           "arrowhead": 0,
           "arrowwidth": 1
          },
          "autotypenumbers": "strict",
          "coloraxis": {
           "colorbar": {
            "outlinewidth": 0,
            "ticks": ""
           }
          },
          "colorscale": {
           "diverging": [
            [
             0,
             "#8e0152"
            ],
            [
             0.1,
             "#c51b7d"
            ],
            [
             0.2,
             "#de77ae"
            ],
            [
             0.3,
             "#f1b6da"
            ],
            [
             0.4,
             "#fde0ef"
            ],
            [
             0.5,
             "#f7f7f7"
            ],
            [
             0.6,
             "#e6f5d0"
            ],
            [
             0.7,
             "#b8e186"
            ],
            [
             0.8,
             "#7fbc41"
            ],
            [
             0.9,
             "#4d9221"
            ],
            [
             1,
             "#276419"
            ]
           ],
           "sequential": [
            [
             0,
             "#0d0887"
            ],
            [
             0.1111111111111111,
             "#46039f"
            ],
            [
             0.2222222222222222,
             "#7201a8"
            ],
            [
             0.3333333333333333,
             "#9c179e"
            ],
            [
             0.4444444444444444,
             "#bd3786"
            ],
            [
             0.5555555555555556,
             "#d8576b"
            ],
            [
             0.6666666666666666,
             "#ed7953"
            ],
            [
             0.7777777777777778,
             "#fb9f3a"
            ],
            [
             0.8888888888888888,
             "#fdca26"
            ],
            [
             1,
             "#f0f921"
            ]
           ],
           "sequentialminus": [
            [
             0,
             "#0d0887"
            ],
            [
             0.1111111111111111,
             "#46039f"
            ],
            [
             0.2222222222222222,
             "#7201a8"
            ],
            [
             0.3333333333333333,
             "#9c179e"
            ],
            [
             0.4444444444444444,
             "#bd3786"
            ],
            [
             0.5555555555555556,
             "#d8576b"
            ],
            [
             0.6666666666666666,
             "#ed7953"
            ],
            [
             0.7777777777777778,
             "#fb9f3a"
            ],
            [
             0.8888888888888888,
             "#fdca26"
            ],
            [
             1,
             "#f0f921"
            ]
           ]
          },
          "colorway": [
           "#636efa",
           "#EF553B",
           "#00cc96",
           "#ab63fa",
           "#FFA15A",
           "#19d3f3",
           "#FF6692",
           "#B6E880",
           "#FF97FF",
           "#FECB52"
          ],
          "font": {
           "color": "#2a3f5f"
          },
          "geo": {
           "bgcolor": "white",
           "lakecolor": "white",
           "landcolor": "#E5ECF6",
           "showlakes": true,
           "showland": true,
           "subunitcolor": "white"
          },
          "hoverlabel": {
           "align": "left"
          },
          "hovermode": "closest",
          "mapbox": {
           "style": "light"
          },
          "paper_bgcolor": "white",
          "plot_bgcolor": "#E5ECF6",
          "polar": {
           "angularaxis": {
            "gridcolor": "white",
            "linecolor": "white",
            "ticks": ""
           },
           "bgcolor": "#E5ECF6",
           "radialaxis": {
            "gridcolor": "white",
            "linecolor": "white",
            "ticks": ""
           }
          },
          "scene": {
           "xaxis": {
            "backgroundcolor": "#E5ECF6",
            "gridcolor": "white",
            "gridwidth": 2,
            "linecolor": "white",
            "showbackground": true,
            "ticks": "",
            "zerolinecolor": "white"
           },
           "yaxis": {
            "backgroundcolor": "#E5ECF6",
            "gridcolor": "white",
            "gridwidth": 2,
            "linecolor": "white",
            "showbackground": true,
            "ticks": "",
            "zerolinecolor": "white"
           },
           "zaxis": {
            "backgroundcolor": "#E5ECF6",
            "gridcolor": "white",
            "gridwidth": 2,
            "linecolor": "white",
            "showbackground": true,
            "ticks": "",
            "zerolinecolor": "white"
           }
          },
          "shapedefaults": {
           "line": {
            "color": "#2a3f5f"
           }
          },
          "ternary": {
           "aaxis": {
            "gridcolor": "white",
            "linecolor": "white",
            "ticks": ""
           },
           "baxis": {
            "gridcolor": "white",
            "linecolor": "white",
            "ticks": ""
           },
           "bgcolor": "#E5ECF6",
           "caxis": {
            "gridcolor": "white",
            "linecolor": "white",
            "ticks": ""
           }
          },
          "title": {
           "x": 0.05
          },
          "xaxis": {
           "automargin": true,
           "gridcolor": "white",
           "linecolor": "white",
           "ticks": "",
           "title": {
            "standoff": 15
           },
           "zerolinecolor": "white",
           "zerolinewidth": 2
          },
          "yaxis": {
           "automargin": true,
           "gridcolor": "white",
           "linecolor": "white",
           "ticks": "",
           "title": {
            "standoff": 15
           },
           "zerolinecolor": "white",
           "zerolinewidth": 2
          }
         }
        },
        "title": {
         "text": "Distance Box Plot grouped by Method"
        },
        "xaxis": {
         "anchor": "y",
         "categoryarray": [
          "Radial Velocity",
          "Transit"
         ],
         "categoryorder": "array",
         "domain": [
          0,
          1
         ],
         "title": {
          "text": "method"
         }
        },
        "yaxis": {
         "anchor": "x",
         "domain": [
          0,
          1
         ],
         "title": {
          "text": "distance"
         }
        }
       }
      },
      "image/png": "[encoded data removed]"
     },
     "metadata": {},
     "output_type": "display_data"
    },
    {
     "data": {
      "application/vnd.plotly.v1+json": {
       "config": {
        "plotlyServerURL": "https://plot.ly"
       },
       "data": [
        {
         "alignmentgroup": "True",
         "boxpoints": "all",
         "hovertemplate": "method=%{x}<br>year=%{y}<extra></extra>",
         "legendgroup": "Radial Velocity",
         "marker": {
          "color": "#636efa"
         },
         "name": "Radial Velocity",
         "notched": true,
         "offsetgroup": "Radial Velocity",
         "orientation": "v",
         "showlegend": true,
         "type": "box",
         "x": [
          "Radial Velocity",
          "Radial Velocity",
          "Radial Velocity",
          "Radial Velocity",
          "Radial Velocity",
          "Radial Velocity",
          "Radial Velocity",
          "Radial Velocity",
          "Radial Velocity",
          "Radial Velocity",
          "Radial Velocity",
          "Radial Velocity",
          "Radial Velocity",
          "Radial Velocity",
          "Radial Velocity",
          "Radial Velocity",
          "Radial Velocity",
          "Radial Velocity",
          "Radial Velocity",
          "Radial Velocity",
          "Radial Velocity",
          "Radial Velocity",
          "Radial Velocity",
          "Radial Velocity",
          "Radial Velocity",
          "Radial Velocity",
          "Radial Velocity",
          "Radial Velocity",
          "Radial Velocity",
          "Radial Velocity",
          "Radial Velocity",
          "Radial Velocity",
          "Radial Velocity",
          "Radial Velocity",
          "Radial Velocity",
          "Radial Velocity",
          "Radial Velocity",
          "Radial Velocity",
          "Radial Velocity",
          "Radial Velocity",
          "Radial Velocity",
          "Radial Velocity",
          "Radial Velocity",
          "Radial Velocity",
          "Radial Velocity",
          "Radial Velocity",
          "Radial Velocity",
          "Radial Velocity",
          "Radial Velocity",
          "Radial Velocity",
          "Radial Velocity",
          "Radial Velocity",
          "Radial Velocity",
          "Radial Velocity",
          "Radial Velocity",
          "Radial Velocity",
          "Radial Velocity",
          "Radial Velocity",
          "Radial Velocity",
          "Radial Velocity",
          "Radial Velocity",
          "Radial Velocity",
          "Radial Velocity",
          "Radial Velocity",
          "Radial Velocity",
          "Radial Velocity",
          "Radial Velocity",
          "Radial Velocity",
          "Radial Velocity",
          "Radial Velocity",
          "Radial Velocity",
          "Radial Velocity",
          "Radial Velocity",
          "Radial Velocity",
          "Radial Velocity",
          "Radial Velocity",
          "Radial Velocity",
          "Radial Velocity",
          "Radial Velocity",
          "Radial Velocity",
          "Radial Velocity",
          "Radial Velocity",
          "Radial Velocity",
          "Radial Velocity",
          "Radial Velocity",
          "Radial Velocity",
          "Radial Velocity",
          "Radial Velocity",
          "Radial Velocity",
          "Radial Velocity",
          "Radial Velocity",
          "Radial Velocity",
          "Radial Velocity",
          "Radial Velocity",
          "Radial Velocity",
          "Radial Velocity",
          "Radial Velocity",
          "Radial Velocity",
          "Radial Velocity",
          "Radial Velocity",
          "Radial Velocity",
          "Radial Velocity",
          "Radial Velocity",
          "Radial Velocity",
          "Radial Velocity",
          "Radial Velocity",
          "Radial Velocity",
          "Radial Velocity",
          "Radial Velocity",
          "Radial Velocity",
          "Radial Velocity",
          "Radial Velocity",
          "Radial Velocity",
          "Radial Velocity",
          "Radial Velocity",
          "Radial Velocity",
          "Radial Velocity",
          "Radial Velocity",
          "Radial Velocity",
          "Radial Velocity",
          "Radial Velocity",
          "Radial Velocity",
          "Radial Velocity",
          "Radial Velocity",
          "Radial Velocity",
          "Radial Velocity",
          "Radial Velocity",
          "Radial Velocity",
          "Radial Velocity",
          "Radial Velocity",
          "Radial Velocity",
          "Radial Velocity",
          "Radial Velocity",
          "Radial Velocity",
          "Radial Velocity",
          "Radial Velocity",
          "Radial Velocity",
          "Radial Velocity",
          "Radial Velocity",
          "Radial Velocity",
          "Radial Velocity",
          "Radial Velocity",
          "Radial Velocity",
          "Radial Velocity",
          "Radial Velocity",
          "Radial Velocity",
          "Radial Velocity",
          "Radial Velocity",
          "Radial Velocity",
          "Radial Velocity",
          "Radial Velocity",
          "Radial Velocity",
          "Radial Velocity",
          "Radial Velocity",
          "Radial Velocity",
          "Radial Velocity",
          "Radial Velocity",
          "Radial Velocity",
          "Radial Velocity",
          "Radial Velocity",
          "Radial Velocity",
          "Radial Velocity",
          "Radial Velocity",
          "Radial Velocity",
          "Radial Velocity",
          "Radial Velocity",
          "Radial Velocity",
          "Radial Velocity",
          "Radial Velocity",
          "Radial Velocity",
          "Radial Velocity",
          "Radial Velocity",
          "Radial Velocity",
          "Radial Velocity",
          "Radial Velocity",
          "Radial Velocity",
          "Radial Velocity",
          "Radial Velocity",
          "Radial Velocity",
          "Radial Velocity",
          "Radial Velocity",
          "Radial Velocity",
          "Radial Velocity",
          "Radial Velocity",
          "Radial Velocity",
          "Radial Velocity",
          "Radial Velocity",
          "Radial Velocity",
          "Radial Velocity",
          "Radial Velocity",
          "Radial Velocity",
          "Radial Velocity",
          "Radial Velocity",
          "Radial Velocity",
          "Radial Velocity",
          "Radial Velocity",
          "Radial Velocity",
          "Radial Velocity",
          "Radial Velocity",
          "Radial Velocity",
          "Radial Velocity",
          "Radial Velocity",
          "Radial Velocity",
          "Radial Velocity",
          "Radial Velocity",
          "Radial Velocity",
          "Radial Velocity",
          "Radial Velocity",
          "Radial Velocity",
          "Radial Velocity",
          "Radial Velocity",
          "Radial Velocity",
          "Radial Velocity",
          "Radial Velocity",
          "Radial Velocity",
          "Radial Velocity",
          "Radial Velocity",
          "Radial Velocity",
          "Radial Velocity",
          "Radial Velocity",
          "Radial Velocity",
          "Radial Velocity",
          "Radial Velocity",
          "Radial Velocity",
          "Radial Velocity",
          "Radial Velocity",
          "Radial Velocity",
          "Radial Velocity",
          "Radial Velocity",
          "Radial Velocity",
          "Radial Velocity",
          "Radial Velocity",
          "Radial Velocity",
          "Radial Velocity",
          "Radial Velocity",
          "Radial Velocity",
          "Radial Velocity",
          "Radial Velocity",
          "Radial Velocity",
          "Radial Velocity",
          "Radial Velocity",
          "Radial Velocity",
          "Radial Velocity",
          "Radial Velocity",
          "Radial Velocity",
          "Radial Velocity",
          "Radial Velocity",
          "Radial Velocity",
          "Radial Velocity",
          "Radial Velocity",
          "Radial Velocity",
          "Radial Velocity",
          "Radial Velocity",
          "Radial Velocity",
          "Radial Velocity",
          "Radial Velocity",
          "Radial Velocity",
          "Radial Velocity",
          "Radial Velocity",
          "Radial Velocity",
          "Radial Velocity",
          "Radial Velocity",
          "Radial Velocity",
          "Radial Velocity",
          "Radial Velocity",
          "Radial Velocity",
          "Radial Velocity",
          "Radial Velocity",
          "Radial Velocity",
          "Radial Velocity",
          "Radial Velocity",
          "Radial Velocity",
          "Radial Velocity",
          "Radial Velocity",
          "Radial Velocity",
          "Radial Velocity",
          "Radial Velocity",
          "Radial Velocity",
          "Radial Velocity",
          "Radial Velocity",
          "Radial Velocity",
          "Radial Velocity",
          "Radial Velocity",
          "Radial Velocity",
          "Radial Velocity",
          "Radial Velocity",
          "Radial Velocity",
          "Radial Velocity",
          "Radial Velocity",
          "Radial Velocity",
          "Radial Velocity",
          "Radial Velocity",
          "Radial Velocity",
          "Radial Velocity",
          "Radial Velocity",
          "Radial Velocity",
          "Radial Velocity",
          "Radial Velocity",
          "Radial Velocity",
          "Radial Velocity",
          "Radial Velocity",
          "Radial Velocity",
          "Radial Velocity",
          "Radial Velocity",
          "Radial Velocity",
          "Radial Velocity",
          "Radial Velocity",
          "Radial Velocity",
          "Radial Velocity",
          "Radial Velocity",
          "Radial Velocity",
          "Radial Velocity",
          "Radial Velocity",
          "Radial Velocity",
          "Radial Velocity",
          "Radial Velocity",
          "Radial Velocity",
          "Radial Velocity",
          "Radial Velocity",
          "Radial Velocity",
          "Radial Velocity",
          "Radial Velocity",
          "Radial Velocity",
          "Radial Velocity",
          "Radial Velocity",
          "Radial Velocity",
          "Radial Velocity",
          "Radial Velocity",
          "Radial Velocity",
          "Radial Velocity",
          "Radial Velocity",
          "Radial Velocity",
          "Radial Velocity",
          "Radial Velocity",
          "Radial Velocity",
          "Radial Velocity",
          "Radial Velocity",
          "Radial Velocity",
          "Radial Velocity",
          "Radial Velocity",
          "Radial Velocity",
          "Radial Velocity",
          "Radial Velocity",
          "Radial Velocity",
          "Radial Velocity",
          "Radial Velocity",
          "Radial Velocity",
          "Radial Velocity",
          "Radial Velocity",
          "Radial Velocity",
          "Radial Velocity",
          "Radial Velocity",
          "Radial Velocity",
          "Radial Velocity",
          "Radial Velocity",
          "Radial Velocity",
          "Radial Velocity",
          "Radial Velocity",
          "Radial Velocity",
          "Radial Velocity",
          "Radial Velocity",
          "Radial Velocity",
          "Radial Velocity",
          "Radial Velocity",
          "Radial Velocity",
          "Radial Velocity",
          "Radial Velocity",
          "Radial Velocity",
          "Radial Velocity",
          "Radial Velocity",
          "Radial Velocity",
          "Radial Velocity",
          "Radial Velocity",
          "Radial Velocity",
          "Radial Velocity",
          "Radial Velocity",
          "Radial Velocity",
          "Radial Velocity",
          "Radial Velocity",
          "Radial Velocity",
          "Radial Velocity",
          "Radial Velocity",
          "Radial Velocity",
          "Radial Velocity",
          "Radial Velocity",
          "Radial Velocity",
          "Radial Velocity",
          "Radial Velocity",
          "Radial Velocity",
          "Radial Velocity",
          "Radial Velocity",
          "Radial Velocity",
          "Radial Velocity",
          "Radial Velocity",
          "Radial Velocity",
          "Radial Velocity",
          "Radial Velocity",
          "Radial Velocity",
          "Radial Velocity",
          "Radial Velocity",
          "Radial Velocity",
          "Radial Velocity",
          "Radial Velocity",
          "Radial Velocity",
          "Radial Velocity",
          "Radial Velocity",
          "Radial Velocity",
          "Radial Velocity",
          "Radial Velocity",
          "Radial Velocity",
          "Radial Velocity",
          "Radial Velocity",
          "Radial Velocity",
          "Radial Velocity",
          "Radial Velocity",
          "Radial Velocity",
          "Radial Velocity",
          "Radial Velocity",
          "Radial Velocity",
          "Radial Velocity",
          "Radial Velocity",
          "Radial Velocity",
          "Radial Velocity",
          "Radial Velocity",
          "Radial Velocity",
          "Radial Velocity",
          "Radial Velocity",
          "Radial Velocity",
          "Radial Velocity",
          "Radial Velocity",
          "Radial Velocity",
          "Radial Velocity",
          "Radial Velocity",
          "Radial Velocity",
          "Radial Velocity",
          "Radial Velocity",
          "Radial Velocity",
          "Radial Velocity",
          "Radial Velocity",
          "Radial Velocity",
          "Radial Velocity",
          "Radial Velocity",
          "Radial Velocity",
          "Radial Velocity",
          "Radial Velocity",
          "Radial Velocity",
          "Radial Velocity",
          "Radial Velocity",
          "Radial Velocity",
          "Radial Velocity",
          "Radial Velocity",
          "Radial Velocity",
          "Radial Velocity",
          "Radial Velocity",
          "Radial Velocity",
          "Radial Velocity",
          "Radial Velocity",
          "Radial Velocity",
          "Radial Velocity",
          "Radial Velocity",
          "Radial Velocity",
          "Radial Velocity",
          "Radial Velocity",
          "Radial Velocity",
          "Radial Velocity",
          "Radial Velocity",
          "Radial Velocity",
          "Radial Velocity",
          "Radial Velocity",
          "Radial Velocity",
          "Radial Velocity",
          "Radial Velocity",
          "Radial Velocity",
          "Radial Velocity",
          "Radial Velocity",
          "Radial Velocity",
          "Radial Velocity",
          "Radial Velocity",
          "Radial Velocity",
          "Radial Velocity",
          "Radial Velocity",
          "Radial Velocity",
          "Radial Velocity",
          "Radial Velocity",
          "Radial Velocity",
          "Radial Velocity",
          "Radial Velocity",
          "Radial Velocity",
          "Radial Velocity",
          "Radial Velocity",
          "Radial Velocity",
          "Radial Velocity",
          "Radial Velocity",
          "Radial Velocity",
          "Radial Velocity",
          "Radial Velocity",
          "Radial Velocity"
         ],
         "x0": " ",
         "xaxis": "x",
         "y": {
          "bdata": "1gfYB9sH1wfZB9gH0gfYB9oH2gfZB9gHzAfRB9kHywfMB9QH0gfXB9kH2QfZB9gH3QfaB9wH0AfWB9kH0wfXB90HzQfMB90HzAfPB88H2gfYB9kH2QfdB90H2QfdB88H3QfdB90H2QfXB9sH3QfbB9UH1QfVB9UH2QfbB9sH3QfdB90H3QfXB9oH3AfcB9gH1gfOB9AH1QfaB9AH2gfZB9oH2wfRB9wH2QfbB9sH2gfSB9UH3QfTB9cH0QfVB9EH2QfcB9wH1wfZB9sH0wfZB9sH2wfbB9gH2gfSB9kH2QfZB9oH2gfaB9oH2gfaB9YHzwfXB9gH1QfVB9gH0AfSB9UH2wfbB90H3QfZB9AH2AfZB9kH2wfTB9sH2wfSB9sH2wfbB9sH2wfWB9gH2wfbB9YH0QfbB9MH1gfaB9AH3AfVB9oH0QfbB9IH2QfbB9oH2wfbB9sH2wfWB9kH2QfVB9IH0gfVB9EH1AfcB9sH2wfbB9AH0AfZB9sH2AfYB9gH3AfcB9wH0gfUB9MH3QfdB9oH2AfXB9oH2wfYB9gH1AfYB9AH2AfYB9IH2AfYB9IH1QfSB9sH2wfQB9MH2AfYB9UH1gfZB9MH2wfcB9UH0QfWB9YH1gfTB9IH2AfTB9IH1QfYB9MH0wfXB88H1wfSB9sH1QfXB9sH0gfZB9sH1gfZB9kH2QfUB9kHzwfZB9AH1QfbB9sH2QfbB9kH2wfbB9sH2gfbB9wH1QfUB9oH2wfbB9cH1QfVB9YH2AfYB9oH2wfaB9kH3QfZB9MH0gfbB9wH1QfSB9sH0gfVB9oH3QfdB9UH2QfTB90H2gfaB9MH3gfFB9EH0gfbB9QH1AfVB90H0wfTB9cH2QfZB9kH2QfbB9IH1QfZB88H2wfYB9cH2wfbB9sHzwfZB9sH2wfbB9kH2wfbB9sH2wfYB9IH1QfbB9MH2AfaB9gH2QfZB9MH2QfZB9UH2QfbB9kH2wfYB9sH1gfYB9QH3gfXB9cH2wfZB9oH1wfbB9sH3QfdB9YH3AfUB9IH2gfaB9oH2QfVB9wH1wfOB9AH0gfQB9MH1wfZB9gH2QfXB88H2gfRB9gH0AfZB9kH2AfYB9gH2QfUB9gH1gfWB84HzwfUB9sH0gfTB9UH1wfZB88H2wfbB9cHzwfSB9wH1wfbB9oH2gfSB9QH2QfbB9wH2wfYB9kH1AfcB84H1QfZB9EH2wfbB9sH2wfZB9kH0gfSB9MHzgfVB9oH2gfcB9cH3AfcB9sH1wfbB88H1gfXB9sH2QfYB9QH2QfaB9oH1QfWB9kH2gfbB9sH2wfdB9kH0gfZB90HzwfcBw==",
          "dtype": "i2"
         },
         "y0": " ",
         "yaxis": "y"
        },
        {
         "alignmentgroup": "True",
         "boxpoints": "all",
         "hovertemplate": "method=%{x}<br>year=%{y}<extra></extra>",
         "legendgroup": "Transit",
         "marker": {
          "color": "#EF553B"
         },
         "name": "Transit",
         "notched": true,
         "offsetgroup": "Transit",
         "orientation": "v",
         "showlegend": true,
         "type": "box",
         "x": [
          "Transit"
         ],
         "x0": " ",
         "xaxis": "x",
         "y": {
          "bdata": "3Qc=",
          "dtype": "i2"
         },
         "y0": " ",
         "yaxis": "y"
        }
       ],
       "layout": {
        "boxmode": "overlay",
        "legend": {
         "title": {
          "text": "method"
         },
         "tracegroupgap": 0
        },
        "template": {
         "data": {
          "bar": [
           {
            "error_x": {
             "color": "#2a3f5f"
            },
            "error_y": {
             "color": "#2a3f5f"
            },
            "marker": {
             "line": {
              "color": "#E5ECF6",
              "width": 0.5
             },
             "pattern": {
              "fillmode": "overlay",
              "size": 10,
              "solidity": 0.2
             }
            },
            "type": "bar"
           }
          ],
          "barpolar": [
           {
            "marker": {
             "line": {
              "color": "#E5ECF6",
              "width": 0.5
             },
             "pattern": {
              "fillmode": "overlay",
              "size": 10,
              "solidity": 0.2
             }
            },
            "type": "barpolar"
           }
          ],
          "carpet": [
           {
            "aaxis": {
             "endlinecolor": "#2a3f5f",
             "gridcolor": "white",
             "linecolor": "white",
             "minorgridcolor": "white",
             "startlinecolor": "#2a3f5f"
            },
            "baxis": {
             "endlinecolor": "#2a3f5f",
             "gridcolor": "white",
             "linecolor": "white",
             "minorgridcolor": "white",
             "startlinecolor": "#2a3f5f"
            },
            "type": "carpet"
           }
          ],
          "choropleth": [
           {
            "colorbar": {
             "outlinewidth": 0,
             "ticks": ""
            },
            "type": "choropleth"
           }
          ],
          "contour": [
           {
            "colorbar": {
             "outlinewidth": 0,
             "ticks": ""
            },
            "colorscale": [
             [
              0,
              "#0d0887"
             ],
             [
              0.1111111111111111,
              "#46039f"
             ],
             [
              0.2222222222222222,
              "#7201a8"
             ],
             [
              0.3333333333333333,
              "#9c179e"
             ],
             [
              0.4444444444444444,
              "#bd3786"
             ],
             [
              0.5555555555555556,
              "#d8576b"
             ],
             [
              0.6666666666666666,
              "#ed7953"
             ],
             [
              0.7777777777777778,
              "#fb9f3a"
             ],
             [
              0.8888888888888888,
              "#fdca26"
             ],
             [
              1,
              "#f0f921"
             ]
            ],
            "type": "contour"
           }
          ],
          "contourcarpet": [
           {
            "colorbar": {
             "outlinewidth": 0,
             "ticks": ""
            },
            "type": "contourcarpet"
           }
          ],
          "heatmap": [
           {
            "colorbar": {
             "outlinewidth": 0,
             "ticks": ""
            },
            "colorscale": [
             [
              0,
              "#0d0887"
             ],
             [
              0.1111111111111111,
              "#46039f"
             ],
             [
              0.2222222222222222,
              "#7201a8"
             ],
             [
              0.3333333333333333,
              "#9c179e"
             ],
             [
              0.4444444444444444,
              "#bd3786"
             ],
             [
              0.5555555555555556,
              "#d8576b"
             ],
             [
              0.6666666666666666,
              "#ed7953"
             ],
             [
              0.7777777777777778,
              "#fb9f3a"
             ],
             [
              0.8888888888888888,
              "#fdca26"
             ],
             [
              1,
              "#f0f921"
             ]
            ],
            "type": "heatmap"
           }
          ],
          "histogram": [
           {
            "marker": {
             "pattern": {
              "fillmode": "overlay",
              "size": 10,
              "solidity": 0.2
             }
            },
            "type": "histogram"
           }
          ],
          "histogram2d": [
           {
            "colorbar": {
             "outlinewidth": 0,
             "ticks": ""
            },
            "colorscale": [
             [
              0,
              "#0d0887"
             ],
             [
              0.1111111111111111,
              "#46039f"
             ],
             [
              0.2222222222222222,
              "#7201a8"
             ],
             [
              0.3333333333333333,
              "#9c179e"
             ],
             [
              0.4444444444444444,
              "#bd3786"
             ],
             [
              0.5555555555555556,
              "#d8576b"
             ],
             [
              0.6666666666666666,
              "#ed7953"
             ],
             [
              0.7777777777777778,
              "#fb9f3a"
             ],
             [
              0.8888888888888888,
              "#fdca26"
             ],
             [
              1,
              "#f0f921"
             ]
            ],
            "type": "histogram2d"
           }
          ],
          "histogram2dcontour": [
           {
            "colorbar": {
             "outlinewidth": 0,
             "ticks": ""
            },
            "colorscale": [
             [
              0,
              "#0d0887"
             ],
             [
              0.1111111111111111,
              "#46039f"
             ],
             [
              0.2222222222222222,
              "#7201a8"
             ],
             [
              0.3333333333333333,
              "#9c179e"
             ],
             [
              0.4444444444444444,
              "#bd3786"
             ],
             [
              0.5555555555555556,
              "#d8576b"
             ],
             [
              0.6666666666666666,
              "#ed7953"
             ],
             [
              0.7777777777777778,
              "#fb9f3a"
             ],
             [
              0.8888888888888888,
              "#fdca26"
             ],
             [
              1,
              "#f0f921"
             ]
            ],
            "type": "histogram2dcontour"
           }
          ],
          "mesh3d": [
           {
            "colorbar": {
             "outlinewidth": 0,
             "ticks": ""
            },
            "type": "mesh3d"
           }
          ],
          "parcoords": [
           {
            "line": {
             "colorbar": {
              "outlinewidth": 0,
              "ticks": ""
             }
            },
            "type": "parcoords"
           }
          ],
          "pie": [
           {
            "automargin": true,
            "type": "pie"
           }
          ],
          "scatter": [
           {
            "fillpattern": {
             "fillmode": "overlay",
             "size": 10,
             "solidity": 0.2
            },
            "type": "scatter"
           }
          ],
          "scatter3d": [
           {
            "line": {
             "colorbar": {
              "outlinewidth": 0,
              "ticks": ""
             }
            },
            "marker": {
             "colorbar": {
              "outlinewidth": 0,
              "ticks": ""
             }
            },
            "type": "scatter3d"
           }
          ],
          "scattercarpet": [
           {
            "marker": {
             "colorbar": {
              "outlinewidth": 0,
              "ticks": ""
             }
            },
            "type": "scattercarpet"
           }
          ],
          "scattergeo": [
           {
            "marker": {
             "colorbar": {
              "outlinewidth": 0,
              "ticks": ""
             }
            },
            "type": "scattergeo"
           }
          ],
          "scattergl": [
           {
            "marker": {
             "colorbar": {
              "outlinewidth": 0,
              "ticks": ""
             }
            },
            "type": "scattergl"
           }
          ],
          "scattermap": [
           {
            "marker": {
             "colorbar": {
              "outlinewidth": 0,
              "ticks": ""
             }
            },
            "type": "scattermap"
           }
          ],
          "scattermapbox": [
           {
            "marker": {
             "colorbar": {
              "outlinewidth": 0,
              "ticks": ""
             }
            },
            "type": "scattermapbox"
           }
          ],
          "scatterpolar": [
           {
            "marker": {
             "colorbar": {
              "outlinewidth": 0,
              "ticks": ""
             }
            },
            "type": "scatterpolar"
           }
          ],
          "scatterpolargl": [
           {
            "marker": {
             "colorbar": {
              "outlinewidth": 0,
              "ticks": ""
             }
            },
            "type": "scatterpolargl"
           }
          ],
          "scatterternary": [
           {
            "marker": {
             "colorbar": {
              "outlinewidth": 0,
              "ticks": ""
             }
            },
            "type": "scatterternary"
           }
          ],
          "surface": [
           {
            "colorbar": {
             "outlinewidth": 0,
             "ticks": ""
            },
            "colorscale": [
             [
              0,
              "#0d0887"
             ],
             [
              0.1111111111111111,
              "#46039f"
             ],
             [
              0.2222222222222222,
              "#7201a8"
             ],
             [
              0.3333333333333333,
              "#9c179e"
             ],
             [
              0.4444444444444444,
              "#bd3786"
             ],
             [
              0.5555555555555556,
              "#d8576b"
             ],
             [
              0.6666666666666666,
              "#ed7953"
             ],
             [
              0.7777777777777778,
              "#fb9f3a"
             ],
             [
              0.8888888888888888,
              "#fdca26"
             ],
             [
              1,
              "#f0f921"
             ]
            ],
            "type": "surface"
           }
          ],
          "table": [
           {
            "cells": {
             "fill": {
              "color": "#EBF0F8"
             },
             "line": {
              "color": "white"
             }
            },
            "header": {
             "fill": {
              "color": "#C8D4E3"
             },
             "line": {
              "color": "white"
             }
            },
            "type": "table"
           }
          ]
         },
         "layout": {
          "annotationdefaults": {
           "arrowcolor": "#2a3f5f",
           "arrowhead": 0,
           "arrowwidth": 1
          },
          "autotypenumbers": "strict",
          "coloraxis": {
           "colorbar": {
            "outlinewidth": 0,
            "ticks": ""
           }
          },
          "colorscale": {
           "diverging": [
            [
             0,
             "#8e0152"
            ],
            [
             0.1,
             "#c51b7d"
            ],
            [
             0.2,
             "#de77ae"
            ],
            [
             0.3,
             "#f1b6da"
            ],
            [
             0.4,
             "#fde0ef"
            ],
            [
             0.5,
             "#f7f7f7"
            ],
            [
             0.6,
             "#e6f5d0"
            ],
            [
             0.7,
             "#b8e186"
            ],
            [
             0.8,
             "#7fbc41"
            ],
            [
             0.9,
             "#4d9221"
            ],
            [
             1,
             "#276419"
            ]
           ],
           "sequential": [
            [
             0,
             "#0d0887"
            ],
            [
             0.1111111111111111,
             "#46039f"
            ],
            [
             0.2222222222222222,
             "#7201a8"
            ],
            [
             0.3333333333333333,
             "#9c179e"
            ],
            [
             0.4444444444444444,
             "#bd3786"
            ],
            [
             0.5555555555555556,
             "#d8576b"
            ],
            [
             0.6666666666666666,
             "#ed7953"
            ],
            [
             0.7777777777777778,
             "#fb9f3a"
            ],
            [
             0.8888888888888888,
             "#fdca26"
            ],
            [
             1,
             "#f0f921"
            ]
           ],
           "sequentialminus": [
            [
             0,
             "#0d0887"
            ],
            [
             0.1111111111111111,
             "#46039f"
            ],
            [
             0.2222222222222222,
             "#7201a8"
            ],
            [
             0.3333333333333333,
             "#9c179e"
            ],
            [
             0.4444444444444444,
             "#bd3786"
            ],
            [
             0.5555555555555556,
             "#d8576b"
            ],
            [
             0.6666666666666666,
             "#ed7953"
            ],
            [
             0.7777777777777778,
             "#fb9f3a"
            ],
            [
             0.8888888888888888,
             "#fdca26"
            ],
            [
             1,
             "#f0f921"
            ]
           ]
          },
          "colorway": [
           "#636efa",
           "#EF553B",
           "#00cc96",
           "#ab63fa",
           "#FFA15A",
           "#19d3f3",
           "#FF6692",
           "#B6E880",
           "#FF97FF",
           "#FECB52"
          ],
          "font": {
           "color": "#2a3f5f"
          },
          "geo": {
           "bgcolor": "white",
           "lakecolor": "white",
           "landcolor": "#E5ECF6",
           "showlakes": true,
           "showland": true,
           "subunitcolor": "white"
          },
          "hoverlabel": {
           "align": "left"
          },
          "hovermode": "closest",
          "mapbox": {
           "style": "light"
          },
          "paper_bgcolor": "white",
          "plot_bgcolor": "#E5ECF6",
          "polar": {
           "angularaxis": {
            "gridcolor": "white",
            "linecolor": "white",
            "ticks": ""
           },
           "bgcolor": "#E5ECF6",
           "radialaxis": {
            "gridcolor": "white",
            "linecolor": "white",
            "ticks": ""
           }
          },
          "scene": {
           "xaxis": {
            "backgroundcolor": "#E5ECF6",
            "gridcolor": "white",
            "gridwidth": 2,
            "linecolor": "white",
            "showbackground": true,
            "ticks": "",
            "zerolinecolor": "white"
           },
           "yaxis": {
            "backgroundcolor": "#E5ECF6",
            "gridcolor": "white",
            "gridwidth": 2,
            "linecolor": "white",
            "showbackground": true,
            "ticks": "",
            "zerolinecolor": "white"
           },
           "zaxis": {
            "backgroundcolor": "#E5ECF6",
            "gridcolor": "white",
            "gridwidth": 2,
            "linecolor": "white",
            "showbackground": true,
            "ticks": "",
            "zerolinecolor": "white"
           }
          },
          "shapedefaults": {
           "line": {
            "color": "#2a3f5f"
           }
          },
          "ternary": {
           "aaxis": {
            "gridcolor": "white",
            "linecolor": "white",
            "ticks": ""
           },
           "baxis": {
            "gridcolor": "white",
            "linecolor": "white",
            "ticks": ""
           },
           "bgcolor": "#E5ECF6",
           "caxis": {
            "gridcolor": "white",
            "linecolor": "white",
            "ticks": ""
           }
          },
          "title": {
           "x": 0.05
          },
          "xaxis": {
           "automargin": true,
           "gridcolor": "white",
           "linecolor": "white",
           "ticks": "",
           "title": {
            "standoff": 15
           },
           "zerolinecolor": "white",
           "zerolinewidth": 2
          },
          "yaxis": {
           "automargin": true,
           "gridcolor": "white",
           "linecolor": "white",
           "ticks": "",
           "title": {
            "standoff": 15
           },
           "zerolinecolor": "white",
           "zerolinewidth": 2
          }
         }
        },
        "title": {
         "text": "Year Box Plot grouped by Method"
        },
        "xaxis": {
         "anchor": "y",
         "categoryarray": [
          "Radial Velocity",
          "Transit"
         ],
         "categoryorder": "array",
         "domain": [
          0,
          1
         ],
         "title": {
          "text": "method"
         }
        },
        "yaxis": {
         "anchor": "x",
         "domain": [
          0,
          1
         ],
         "title": {
          "text": "year"
         }
        }
       }
      },
      "image/png": "[encoded data removed]"
     },
     "metadata": {},
     "output_type": "display_data"
    }
   ],
   "source": [
    "#Boxplot\n",
    "categorical_cols= 'method'\n",
    "\n",
    "for col in numeric_cols:\n",
    "    fig = px.box(df,x=categorical_cols,y=col, points='all',color=categorical_cols,\n",
    "                title=f'{col.capitalize()} Box Plot grouped by {categorical_cols.capitalize()}',\n",
    "                notched=True)\n",
    "    fig.update_layout(yaxis_title=col, xaxis_title=categorical_cols)\n",
    "    fig.show()"
   ]
  },
  {
   "cell_type": "code",
   "execution_count": null,
   "id": "f0afd519-60a0-4c59-966e-b88488d11cf8",
   "metadata": {},
   "outputs": [],
   "source": []
  }
 ],
 "metadata": {
  "kernelspec": {
   "display_name": "Python 3 (ipykernel)",
   "language": "python",
   "name": "python3"
  },
  "language_info": {
   "codemirror_mode": {
    "name": "ipython",
    "version": 3
   },
   "file_extension": ".py",
   "mimetype": "text/x-python",
   "name": "python",
   "nbconvert_exporter": "python",
   "pygments_lexer": "ipython3",
   "version": "3.12.9"
  }
 },
 "nbformat": 4,
 "nbformat_minor": 5
}
